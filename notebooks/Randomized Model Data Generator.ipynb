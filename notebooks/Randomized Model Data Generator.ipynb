{
 "cells": [
  {
   "cell_type": "markdown",
   "metadata": {},
   "source": [
    "### Randomized Model Data Generator\n",
    "\n",
    "Jay Urbain, PhD\n",
    "\n",
    "Functions to generate randomized data for a given function."
   ]
  },
  {
   "cell_type": "markdown",
   "metadata": {},
   "source": [
    "- Column 1. Category (strings): ~250 values\n",
    "- Column 2. Category (string): 7 values\n",
    "- Column 3. We talked about adding a lag variable (count of all occurances of 1 specific type within the second category listed above)\n",
    "- Column 4. We talked about adding a lag variable (count of occurances that occurred in the past week of 1 specific type within the second category listed above)\n",
    "- Column 5. We talked about adding a lag variable (count of occurances that occurred in the past month of 1 specific type within the second category listed above)\n",
    "- Column 6. Age (numeric or initial date – either is fine because they can both represent an age). There will be the same number of these as there are in the first category because each age is supposed to represent the corresponding age of column 1.\n",
    " \n",
    "Each one of these “instances” will also have the date that it occurred which I assume you will use to keep track of columns 3-5. Is that correct?"
   ]
  },
  {
   "cell_type": "markdown",
   "metadata": {},
   "source": [
    "0) time_stamp: nsamples\n",
    "\n",
    "1) id: {1, 2, ..., 250}\n",
    "\n",
    "2) request_type: {'rt_1', 'rt_2', 'rt_3', 'rt_4', 'rt_5', 'rt_6', 'rt_7'}\n",
    "\n",
    "3) rt_1_m1request_type1_total. We talked about adding a lag variable (count of all occurances of 1 specific type within the second category listed above)\n",
    "\n",
    "4) We talked about adding a lag variable (count of occurances that occurred in the past week of 1 specific type within the second category listed above)\n",
    "\n",
    "5) We talked about adding a lag variable (count of occurances that occurred in the past month of 1 specific type within the second category listed above)\n",
    "\n",
    "6) age (numeric or initial date – either is fine because they can both represent an age). There will be the same number of these as there are in the first category because each age is supposed to represent the corresponding age of column 1.\n"
   ]
  },
  {
   "cell_type": "code",
   "execution_count": 24,
   "metadata": {
    "collapsed": true
   },
   "outputs": [],
   "source": [
    "# plot within notebook versus launching a separate window\n",
    "%matplotlib inline\n",
    "# imports\n",
    "import matplotlib.pyplot as plt\n",
    "import numpy as np\n",
    "import pandas as pd\n",
    "import datetime\n",
    "    \n",
    "import seaborn as sns\n",
    "sns.set_style('whitegrid')\n",
    " \n",
    "\n",
    "from pylab import *\n",
    "from scipy import *\n",
    "from scipy import optimize"
   ]
  },
  {
   "cell_type": "code",
   "execution_count": 36,
   "metadata": {
    "collapsed": false
   },
   "outputs": [
    {
     "name": "stdout",
     "output_type": "stream",
     "text": [
      "                         date  battle_deaths\n",
      "0  2014-05-01 18:47:05.069722             34\n",
      "1  2014-05-01 18:47:05.119994             25\n",
      "2  2014-05-02 18:47:05.178768             26\n",
      "3  2014-05-02 18:47:05.230071             15\n",
      "4  2014-05-02 18:47:05.230071             15\n",
      "5  2014-05-02 18:47:05.280592             14\n",
      "6  2014-05-03 18:47:05.332662             26\n",
      "7  2014-05-03 18:47:05.385109             25\n",
      "8  2014-05-04 18:47:05.436523             62\n",
      "9  2014-05-04 18:47:05.486877             41\n"
     ]
    }
   ],
   "source": [
    "nrequests = 100\n",
    "\n",
    "data = {'date': ['2014-05-01 18:47:05.069722', '2014-05-01 18:47:05.119994', '2014-05-02 18:47:05.178768', '2014-05-02 18:47:05.230071', '2014-05-02 18:47:05.230071', '2014-05-02 18:47:05.280592', '2014-05-03 18:47:05.332662', '2014-05-03 18:47:05.385109', '2014-05-04 18:47:05.436523', '2014-05-04 18:47:05.486877'], \n",
    "        'battle_deaths': [34, 25, 26, 15, 15, 14, 26, 25, 62, 41]}\n",
    "df = pd.DataFrame(data, columns = ['date', 'battle_deaths'])\n",
    "print(df)"
   ]
  },
  {
   "cell_type": "code",
   "execution_count": 37,
   "metadata": {
    "collapsed": false
   },
   "outputs": [
    {
     "data": {
      "text/plain": [
       "array(['2012-09-30T19:00:00.000000000-0500',\n",
       "       '2012-09-30T19:05:00.000000000-0500',\n",
       "       '2012-09-30T19:10:00.000000000-0500',\n",
       "       '2012-09-30T19:15:00.000000000-0500',\n",
       "       '2012-09-30T19:20:00.000000000-0500',\n",
       "       '2012-09-30T19:25:00.000000000-0500',\n",
       "       '2012-09-30T19:30:00.000000000-0500',\n",
       "       '2012-09-30T19:35:00.000000000-0500',\n",
       "       '2012-09-30T19:40:00.000000000-0500',\n",
       "       '2012-09-30T19:45:00.000000000-0500',\n",
       "       '2012-09-30T19:50:00.000000000-0500',\n",
       "       '2012-09-30T19:55:00.000000000-0500',\n",
       "       '2012-09-30T20:00:00.000000000-0500',\n",
       "       '2012-09-30T20:05:00.000000000-0500',\n",
       "       '2012-09-30T20:10:00.000000000-0500',\n",
       "       '2012-09-30T20:15:00.000000000-0500',\n",
       "       '2012-09-30T20:20:00.000000000-0500',\n",
       "       '2012-09-30T20:25:00.000000000-0500',\n",
       "       '2012-09-30T20:30:00.000000000-0500',\n",
       "       '2012-09-30T20:35:00.000000000-0500',\n",
       "       '2012-09-30T20:40:00.000000000-0500',\n",
       "       '2012-09-30T20:45:00.000000000-0500',\n",
       "       '2012-09-30T20:50:00.000000000-0500',\n",
       "       '2012-09-30T20:55:00.000000000-0500',\n",
       "       '2012-09-30T21:00:00.000000000-0500',\n",
       "       '2012-09-30T21:05:00.000000000-0500',\n",
       "       '2012-09-30T21:10:00.000000000-0500',\n",
       "       '2012-09-30T21:15:00.000000000-0500',\n",
       "       '2012-09-30T21:20:00.000000000-0500',\n",
       "       '2012-09-30T21:25:00.000000000-0500',\n",
       "       '2012-09-30T21:30:00.000000000-0500',\n",
       "       '2012-09-30T21:35:00.000000000-0500',\n",
       "       '2012-09-30T21:40:00.000000000-0500',\n",
       "       '2012-09-30T21:45:00.000000000-0500',\n",
       "       '2012-09-30T21:50:00.000000000-0500',\n",
       "       '2012-09-30T21:55:00.000000000-0500',\n",
       "       '2012-09-30T22:00:00.000000000-0500',\n",
       "       '2012-09-30T22:05:00.000000000-0500',\n",
       "       '2012-09-30T22:10:00.000000000-0500',\n",
       "       '2012-09-30T22:15:00.000000000-0500',\n",
       "       '2012-09-30T22:20:00.000000000-0500',\n",
       "       '2012-09-30T22:25:00.000000000-0500',\n",
       "       '2012-09-30T22:30:00.000000000-0500',\n",
       "       '2012-09-30T22:35:00.000000000-0500',\n",
       "       '2012-09-30T22:40:00.000000000-0500',\n",
       "       '2012-09-30T22:45:00.000000000-0500',\n",
       "       '2012-09-30T22:50:00.000000000-0500',\n",
       "       '2012-09-30T22:55:00.000000000-0500',\n",
       "       '2012-09-30T23:00:00.000000000-0500',\n",
       "       '2012-09-30T23:05:00.000000000-0500',\n",
       "       '2012-09-30T23:10:00.000000000-0500',\n",
       "       '2012-09-30T23:15:00.000000000-0500',\n",
       "       '2012-09-30T23:20:00.000000000-0500',\n",
       "       '2012-09-30T23:25:00.000000000-0500',\n",
       "       '2012-09-30T23:30:00.000000000-0500',\n",
       "       '2012-09-30T23:35:00.000000000-0500',\n",
       "       '2012-09-30T23:40:00.000000000-0500',\n",
       "       '2012-09-30T23:45:00.000000000-0500',\n",
       "       '2012-09-30T23:50:00.000000000-0500',\n",
       "       '2012-09-30T23:55:00.000000000-0500',\n",
       "       '2012-10-01T00:00:00.000000000-0500',\n",
       "       '2012-10-01T00:05:00.000000000-0500',\n",
       "       '2012-10-01T00:10:00.000000000-0500',\n",
       "       '2012-10-01T00:15:00.000000000-0500',\n",
       "       '2012-10-01T00:20:00.000000000-0500',\n",
       "       '2012-10-01T00:25:00.000000000-0500',\n",
       "       '2012-10-01T00:30:00.000000000-0500',\n",
       "       '2012-10-01T00:35:00.000000000-0500',\n",
       "       '2012-10-01T00:40:00.000000000-0500',\n",
       "       '2012-10-01T00:45:00.000000000-0500',\n",
       "       '2012-10-01T00:50:00.000000000-0500',\n",
       "       '2012-10-01T00:55:00.000000000-0500',\n",
       "       '2012-10-01T01:00:00.000000000-0500',\n",
       "       '2012-10-01T01:05:00.000000000-0500',\n",
       "       '2012-10-01T01:10:00.000000000-0500',\n",
       "       '2012-10-01T01:15:00.000000000-0500',\n",
       "       '2012-10-01T01:20:00.000000000-0500',\n",
       "       '2012-10-01T01:25:00.000000000-0500',\n",
       "       '2012-10-01T01:30:00.000000000-0500',\n",
       "       '2012-10-01T01:35:00.000000000-0500',\n",
       "       '2012-10-01T01:40:00.000000000-0500',\n",
       "       '2012-10-01T01:45:00.000000000-0500',\n",
       "       '2012-10-01T01:50:00.000000000-0500',\n",
       "       '2012-10-01T01:55:00.000000000-0500',\n",
       "       '2012-10-01T02:00:00.000000000-0500',\n",
       "       '2012-10-01T02:05:00.000000000-0500',\n",
       "       '2012-10-01T02:10:00.000000000-0500',\n",
       "       '2012-10-01T02:15:00.000000000-0500',\n",
       "       '2012-10-01T02:20:00.000000000-0500',\n",
       "       '2012-10-01T02:25:00.000000000-0500',\n",
       "       '2012-10-01T02:30:00.000000000-0500',\n",
       "       '2012-10-01T02:35:00.000000000-0500',\n",
       "       '2012-10-01T02:40:00.000000000-0500',\n",
       "       '2012-10-01T02:45:00.000000000-0500',\n",
       "       '2012-10-01T02:50:00.000000000-0500',\n",
       "       '2012-10-01T02:55:00.000000000-0500',\n",
       "       '2012-10-01T03:00:00.000000000-0500',\n",
       "       '2012-10-01T03:05:00.000000000-0500',\n",
       "       '2012-10-01T03:10:00.000000000-0500',\n",
       "       '2012-10-01T03:15:00.000000000-0500',\n",
       "       '2012-10-01T03:20:00.000000000-0500',\n",
       "       '2012-10-01T03:25:00.000000000-0500',\n",
       "       '2012-10-01T03:30:00.000000000-0500',\n",
       "       '2012-10-01T03:35:00.000000000-0500',\n",
       "       '2012-10-01T03:40:00.000000000-0500',\n",
       "       '2012-10-01T03:45:00.000000000-0500',\n",
       "       '2012-10-01T03:50:00.000000000-0500',\n",
       "       '2012-10-01T03:55:00.000000000-0500',\n",
       "       '2012-10-01T04:00:00.000000000-0500',\n",
       "       '2012-10-01T04:05:00.000000000-0500',\n",
       "       '2012-10-01T04:10:00.000000000-0500',\n",
       "       '2012-10-01T04:15:00.000000000-0500',\n",
       "       '2012-10-01T04:20:00.000000000-0500',\n",
       "       '2012-10-01T04:25:00.000000000-0500',\n",
       "       '2012-10-01T04:30:00.000000000-0500',\n",
       "       '2012-10-01T04:35:00.000000000-0500',\n",
       "       '2012-10-01T04:40:00.000000000-0500',\n",
       "       '2012-10-01T04:45:00.000000000-0500',\n",
       "       '2012-10-01T04:50:00.000000000-0500',\n",
       "       '2012-10-01T04:55:00.000000000-0500',\n",
       "       '2012-10-01T05:00:00.000000000-0500',\n",
       "       '2012-10-01T05:05:00.000000000-0500',\n",
       "       '2012-10-01T05:10:00.000000000-0500',\n",
       "       '2012-10-01T05:15:00.000000000-0500',\n",
       "       '2012-10-01T05:20:00.000000000-0500',\n",
       "       '2012-10-01T05:25:00.000000000-0500',\n",
       "       '2012-10-01T05:30:00.000000000-0500',\n",
       "       '2012-10-01T05:35:00.000000000-0500',\n",
       "       '2012-10-01T05:40:00.000000000-0500',\n",
       "       '2012-10-01T05:45:00.000000000-0500',\n",
       "       '2012-10-01T05:50:00.000000000-0500',\n",
       "       '2012-10-01T05:55:00.000000000-0500',\n",
       "       '2012-10-01T06:00:00.000000000-0500',\n",
       "       '2012-10-01T06:05:00.000000000-0500',\n",
       "       '2012-10-01T06:10:00.000000000-0500',\n",
       "       '2012-10-01T06:15:00.000000000-0500',\n",
       "       '2012-10-01T06:20:00.000000000-0500',\n",
       "       '2012-10-01T06:25:00.000000000-0500',\n",
       "       '2012-10-01T06:30:00.000000000-0500',\n",
       "       '2012-10-01T06:35:00.000000000-0500',\n",
       "       '2012-10-01T06:40:00.000000000-0500',\n",
       "       '2012-10-01T06:45:00.000000000-0500',\n",
       "       '2012-10-01T06:50:00.000000000-0500',\n",
       "       '2012-10-01T06:55:00.000000000-0500',\n",
       "       '2012-10-01T07:00:00.000000000-0500',\n",
       "       '2012-10-01T07:05:00.000000000-0500',\n",
       "       '2012-10-01T07:10:00.000000000-0500',\n",
       "       '2012-10-01T07:15:00.000000000-0500',\n",
       "       '2012-10-01T07:20:00.000000000-0500',\n",
       "       '2012-10-01T07:25:00.000000000-0500',\n",
       "       '2012-10-01T07:30:00.000000000-0500',\n",
       "       '2012-10-01T07:35:00.000000000-0500',\n",
       "       '2012-10-01T07:40:00.000000000-0500',\n",
       "       '2012-10-01T07:45:00.000000000-0500',\n",
       "       '2012-10-01T07:50:00.000000000-0500',\n",
       "       '2012-10-01T07:55:00.000000000-0500',\n",
       "       '2012-10-01T08:00:00.000000000-0500',\n",
       "       '2012-10-01T08:05:00.000000000-0500',\n",
       "       '2012-10-01T08:10:00.000000000-0500',\n",
       "       '2012-10-01T08:15:00.000000000-0500',\n",
       "       '2012-10-01T08:20:00.000000000-0500',\n",
       "       '2012-10-01T08:25:00.000000000-0500',\n",
       "       '2012-10-01T08:30:00.000000000-0500',\n",
       "       '2012-10-01T08:35:00.000000000-0500',\n",
       "       '2012-10-01T08:40:00.000000000-0500',\n",
       "       '2012-10-01T08:45:00.000000000-0500',\n",
       "       '2012-10-01T08:50:00.000000000-0500',\n",
       "       '2012-10-01T08:55:00.000000000-0500',\n",
       "       '2012-10-01T09:00:00.000000000-0500',\n",
       "       '2012-10-01T09:05:00.000000000-0500',\n",
       "       '2012-10-01T09:10:00.000000000-0500',\n",
       "       '2012-10-01T09:15:00.000000000-0500',\n",
       "       '2012-10-01T09:20:00.000000000-0500',\n",
       "       '2012-10-01T09:25:00.000000000-0500',\n",
       "       '2012-10-01T09:30:00.000000000-0500',\n",
       "       '2012-10-01T09:35:00.000000000-0500',\n",
       "       '2012-10-01T09:40:00.000000000-0500',\n",
       "       '2012-10-01T09:45:00.000000000-0500',\n",
       "       '2012-10-01T09:50:00.000000000-0500',\n",
       "       '2012-10-01T09:55:00.000000000-0500',\n",
       "       '2012-10-01T10:00:00.000000000-0500',\n",
       "       '2012-10-01T10:05:00.000000000-0500',\n",
       "       '2012-10-01T10:10:00.000000000-0500',\n",
       "       '2012-10-01T10:15:00.000000000-0500',\n",
       "       '2012-10-01T10:20:00.000000000-0500',\n",
       "       '2012-10-01T10:25:00.000000000-0500',\n",
       "       '2012-10-01T10:30:00.000000000-0500',\n",
       "       '2012-10-01T10:35:00.000000000-0500',\n",
       "       '2012-10-01T10:40:00.000000000-0500',\n",
       "       '2012-10-01T10:45:00.000000000-0500',\n",
       "       '2012-10-01T10:50:00.000000000-0500',\n",
       "       '2012-10-01T10:55:00.000000000-0500',\n",
       "       '2012-10-01T11:00:00.000000000-0500',\n",
       "       '2012-10-01T11:05:00.000000000-0500',\n",
       "       '2012-10-01T11:10:00.000000000-0500',\n",
       "       '2012-10-01T11:15:00.000000000-0500',\n",
       "       '2012-10-01T11:20:00.000000000-0500',\n",
       "       '2012-10-01T11:25:00.000000000-0500',\n",
       "       '2012-10-01T11:30:00.000000000-0500',\n",
       "       '2012-10-01T11:35:00.000000000-0500',\n",
       "       '2012-10-01T11:40:00.000000000-0500',\n",
       "       '2012-10-01T11:45:00.000000000-0500',\n",
       "       '2012-10-01T11:50:00.000000000-0500',\n",
       "       '2012-10-01T11:55:00.000000000-0500',\n",
       "       '2012-10-01T12:00:00.000000000-0500',\n",
       "       '2012-10-01T12:05:00.000000000-0500',\n",
       "       '2012-10-01T12:10:00.000000000-0500',\n",
       "       '2012-10-01T12:15:00.000000000-0500',\n",
       "       '2012-10-01T12:20:00.000000000-0500',\n",
       "       '2012-10-01T12:25:00.000000000-0500',\n",
       "       '2012-10-01T12:30:00.000000000-0500',\n",
       "       '2012-10-01T12:35:00.000000000-0500',\n",
       "       '2012-10-01T12:40:00.000000000-0500',\n",
       "       '2012-10-01T12:45:00.000000000-0500',\n",
       "       '2012-10-01T12:50:00.000000000-0500',\n",
       "       '2012-10-01T12:55:00.000000000-0500',\n",
       "       '2012-10-01T13:00:00.000000000-0500',\n",
       "       '2012-10-01T13:05:00.000000000-0500',\n",
       "       '2012-10-01T13:10:00.000000000-0500',\n",
       "       '2012-10-01T13:15:00.000000000-0500',\n",
       "       '2012-10-01T13:20:00.000000000-0500',\n",
       "       '2012-10-01T13:25:00.000000000-0500',\n",
       "       '2012-10-01T13:30:00.000000000-0500',\n",
       "       '2012-10-01T13:35:00.000000000-0500',\n",
       "       '2012-10-01T13:40:00.000000000-0500',\n",
       "       '2012-10-01T13:45:00.000000000-0500',\n",
       "       '2012-10-01T13:50:00.000000000-0500',\n",
       "       '2012-10-01T13:55:00.000000000-0500',\n",
       "       '2012-10-01T14:00:00.000000000-0500',\n",
       "       '2012-10-01T14:05:00.000000000-0500',\n",
       "       '2012-10-01T14:10:00.000000000-0500',\n",
       "       '2012-10-01T14:15:00.000000000-0500',\n",
       "       '2012-10-01T14:20:00.000000000-0500',\n",
       "       '2012-10-01T14:25:00.000000000-0500',\n",
       "       '2012-10-01T14:30:00.000000000-0500',\n",
       "       '2012-10-01T14:35:00.000000000-0500',\n",
       "       '2012-10-01T14:40:00.000000000-0500',\n",
       "       '2012-10-01T14:45:00.000000000-0500',\n",
       "       '2012-10-01T14:50:00.000000000-0500',\n",
       "       '2012-10-01T14:55:00.000000000-0500',\n",
       "       '2012-10-01T15:00:00.000000000-0500',\n",
       "       '2012-10-01T15:05:00.000000000-0500',\n",
       "       '2012-10-01T15:10:00.000000000-0500',\n",
       "       '2012-10-01T15:15:00.000000000-0500',\n",
       "       '2012-10-01T15:20:00.000000000-0500',\n",
       "       '2012-10-01T15:25:00.000000000-0500',\n",
       "       '2012-10-01T15:30:00.000000000-0500',\n",
       "       '2012-10-01T15:35:00.000000000-0500',\n",
       "       '2012-10-01T15:40:00.000000000-0500',\n",
       "       '2012-10-01T15:45:00.000000000-0500',\n",
       "       '2012-10-01T15:50:00.000000000-0500',\n",
       "       '2012-10-01T15:55:00.000000000-0500',\n",
       "       '2012-10-01T16:00:00.000000000-0500',\n",
       "       '2012-10-01T16:05:00.000000000-0500',\n",
       "       '2012-10-01T16:10:00.000000000-0500',\n",
       "       '2012-10-01T16:15:00.000000000-0500',\n",
       "       '2012-10-01T16:20:00.000000000-0500',\n",
       "       '2012-10-01T16:25:00.000000000-0500',\n",
       "       '2012-10-01T16:30:00.000000000-0500',\n",
       "       '2012-10-01T16:35:00.000000000-0500',\n",
       "       '2012-10-01T16:40:00.000000000-0500',\n",
       "       '2012-10-01T16:45:00.000000000-0500',\n",
       "       '2012-10-01T16:50:00.000000000-0500',\n",
       "       '2012-10-01T16:55:00.000000000-0500',\n",
       "       '2012-10-01T17:00:00.000000000-0500',\n",
       "       '2012-10-01T17:05:00.000000000-0500',\n",
       "       '2012-10-01T17:10:00.000000000-0500',\n",
       "       '2012-10-01T17:15:00.000000000-0500',\n",
       "       '2012-10-01T17:20:00.000000000-0500',\n",
       "       '2012-10-01T17:25:00.000000000-0500',\n",
       "       '2012-10-01T17:30:00.000000000-0500',\n",
       "       '2012-10-01T17:35:00.000000000-0500',\n",
       "       '2012-10-01T17:40:00.000000000-0500',\n",
       "       '2012-10-01T17:45:00.000000000-0500',\n",
       "       '2012-10-01T17:50:00.000000000-0500',\n",
       "       '2012-10-01T17:55:00.000000000-0500',\n",
       "       '2012-10-01T18:00:00.000000000-0500',\n",
       "       '2012-10-01T18:05:00.000000000-0500',\n",
       "       '2012-10-01T18:10:00.000000000-0500',\n",
       "       '2012-10-01T18:15:00.000000000-0500',\n",
       "       '2012-10-01T18:20:00.000000000-0500',\n",
       "       '2012-10-01T18:25:00.000000000-0500',\n",
       "       '2012-10-01T18:30:00.000000000-0500',\n",
       "       '2012-10-01T18:35:00.000000000-0500',\n",
       "       '2012-10-01T18:40:00.000000000-0500',\n",
       "       '2012-10-01T18:45:00.000000000-0500',\n",
       "       '2012-10-01T18:50:00.000000000-0500',\n",
       "       '2012-10-01T18:55:00.000000000-0500',\n",
       "       '2012-10-01T19:00:00.000000000-0500'], dtype='datetime64[ns]')"
      ]
     },
     "execution_count": 37,
     "metadata": {},
     "output_type": "execute_result"
    }
   ],
   "source": [
    "import pandas as pd \n",
    "times = pd.date_range('2012-10-01', periods=289, freq='5min')\n",
    "#This returns a pandas timeseries-index. Which can be converted to numpy arrays.\n",
    "\n",
    "np.array(times)"
   ]
  },
  {
   "cell_type": "code",
   "execution_count": 34,
   "metadata": {
    "collapsed": false
   },
   "outputs": [
    {
     "name": "stdout",
     "output_type": "stream",
     "text": [
      "DatetimeIndex(['2016-04-14', '2016-04-15', '2016-04-16', '2016-04-17',\n",
      "               '2016-04-18', '2016-04-19', '2016-04-20', '2016-04-21',\n",
      "               '2016-04-22', '2016-04-23',\n",
      "               ...\n",
      "               '2017-03-20', '2017-03-21', '2017-03-22', '2017-03-23',\n",
      "               '2017-03-24', '2017-03-25', '2017-03-26', '2017-03-27',\n",
      "               '2017-03-28', '2017-03-29'],\n",
      "              dtype='datetime64[ns]', length=350, freq='D')\n",
      "['A', 'B', 'C']\n"
     ]
    },
    {
     "ename": "NameError",
     "evalue": "name 'date_range' is not defined",
     "output_type": "error",
     "traceback": [
      "\u001b[0;31m---------------------------------------------------------------------------\u001b[0m",
      "\u001b[0;31mNameError\u001b[0m                                 Traceback (most recent call last)",
      "\u001b[0;32m<ipython-input-34-9b0849ed74fc>\u001b[0m in \u001b[0;36m<module>\u001b[0;34m()\u001b[0m\n\u001b[1;32m      9\u001b[0m \u001b[0;34m\u001b[0m\u001b[0m\n\u001b[1;32m     10\u001b[0m \u001b[0;31m# 72 hours starting with midnight Jan 1st, 2011\u001b[0m\u001b[0;34m\u001b[0m\u001b[0;34m\u001b[0m\u001b[0m\n\u001b[0;32m---> 11\u001b[0;31m \u001b[0mrng\u001b[0m \u001b[0;34m=\u001b[0m \u001b[0mdate_range\u001b[0m\u001b[0;34m(\u001b[0m\u001b[0;34m'1/1/2011'\u001b[0m\u001b[0;34m,\u001b[0m \u001b[0mperiods\u001b[0m\u001b[0;34m=\u001b[0m\u001b[0;36m72\u001b[0m\u001b[0;34m,\u001b[0m \u001b[0mfreq\u001b[0m\u001b[0;34m=\u001b[0m\u001b[0;34m'H'\u001b[0m\u001b[0;34m)\u001b[0m\u001b[0;34m\u001b[0m\u001b[0m\n\u001b[0m\u001b[1;32m     12\u001b[0m \u001b[0;34m\u001b[0m\u001b[0m\n\u001b[1;32m     13\u001b[0m \u001b[0mrng\u001b[0m\u001b[0;34m[\u001b[0m\u001b[0;34m:\u001b[0m\u001b[0;36m5\u001b[0m\u001b[0;34m]\u001b[0m\u001b[0;34m\u001b[0m\u001b[0m\n",
      "\u001b[0;31mNameError\u001b[0m: name 'date_range' is not defined"
     ]
    }
   ],
   "source": [
    "nsamples = 350\n",
    "\n",
    "start_date = datetime.datetime.now().date()\n",
    "index = pd.date_range(start_date, periods=350, freq='D')\n",
    "print index\n",
    "\n",
    "columns = ['A','B', 'C']\n",
    "print columns\n",
    "\n",
    "# 72 hours starting with midnight Jan 1st, 2011\n",
    "rng = date_range('1/1/2011', periods=72, freq='H')\n",
    "\n",
    "rng[:5]\n",
    "DatetimeIndex(['2011-01-01 00:00:00', '2011-01-01 01:00:00',\n",
    "               '2011-01-01 02:00:00', '2011-01-01 03:00:00',\n",
    "               '2011-01-01 04:00:00'],\n",
    "              dtype='datetime64[ns]', freq='H')"
   ]
  },
  {
   "cell_type": "code",
   "execution_count": 26,
   "metadata": {
    "collapsed": false
   },
   "outputs": [],
   "source": [
    "d = {'one' : pd.Series([1., 2., 3.], index=['a', 'b', 'c']),\n",
    "              'two' : pd.Series([1., 2., 3., 4.], index=['a', 'b', 'c', 'd'])}"
   ]
  },
  {
   "cell_type": "code",
   "execution_count": 27,
   "metadata": {
    "collapsed": false
   },
   "outputs": [
    {
     "data": {
      "text/plain": [
       "'\\n   two three\\nd  4.0   NaN\\nb  2.0   NaN\\na  1.0   NaN\\n'"
      ]
     },
     "execution_count": 27,
     "metadata": {},
     "output_type": "execute_result"
    }
   ],
   "source": [
    "d = {'one' : pd.Series([1., 2., 3.], index=['a', 'b', 'c']),\n",
    "              'two' : pd.Series([1., 2., 3., 4.], index=['a', 'b', 'c', 'd'])}\n",
    "  \n",
    "\n",
    "df = pd.DataFrame(d)\n",
    "df\n",
    "\n",
    "'''\n",
    "   one  two\n",
    "a  1.0  1.0\n",
    "b  2.0  2.0\n",
    "c  3.0  3.0\n",
    "d  NaN  4.0\n",
    "'''\n",
    "pd.DataFrame(d, index=['d', 'b', 'a'])\n",
    "\n",
    "'''\n",
    "   one  two\n",
    "d  NaN  4.0\n",
    "b  2.0  2.0\n",
    "a  1.0  1.0\n",
    "'''\n",
    "pd.DataFrame(d, index=['d', 'b', 'a'], columns=['two', 'three'])\n",
    "\n",
    "'''\n",
    "   two three\n",
    "d  4.0   NaN\n",
    "b  2.0   NaN\n",
    "a  1.0   NaN\n",
    "'''"
   ]
  },
  {
   "cell_type": "code",
   "execution_count": 15,
   "metadata": {
    "collapsed": true
   },
   "outputs": [],
   "source": [
    "\n",
    "\n",
    "# Generate 150 data points between 5 and 8, evenly spaces\n",
    "num_points = 150\n",
    "\n",
    "// numpy.linspace(start, stop, num=50, endpoint=True, retstep=False, dtype=None\n",
    "Tx = linspace(5., 8., num_points)\n",
    "Ty = Tx\n",
    "# Add random noise\n",
    "tX = 11.86*cos(2*pi/0.81*Tx-1.32) + 0.64*Tx+4*((0.5-rand(num_points))*exp(2*rand(num_points)**2))\n",
    "tY = -32.14*cos(2*pi/0.8*Ty-1.94) + 0.15*Ty+7*((0.5-rand(num_points))*exp(2*rand(num_points)**2))"
   ]
  },
  {
   "cell_type": "markdown",
   "metadata": {},
   "source": [
    "Generating the data\n",
    "\n",
    "Using real data is much more fun, but, just so that you can reproduce this example I will generate data to fit\n",
    "\n",
    "\n"
   ]
  },
  {
   "cell_type": "code",
   "execution_count": 19,
   "metadata": {
    "collapsed": false
   },
   "outputs": [
    {
     "name": "stdout",
     "output_type": "stream",
     "text": [
      "<function linspace at 0x107770848>\n"
     ]
    }
   ],
   "source": [
    "print(linspace)"
   ]
  },
  {
   "cell_type": "markdown",
   "metadata": {},
   "source": [
    "Fitting the data\n",
    "\n",
    "We now have two sets of data: Tx and Ty, the time series, and tX and tY, sinusoidal data with noise. We are interested in finding the frequency of the sine wave.\n"
   ]
  },
  {
   "cell_type": "code",
   "execution_count": 3,
   "metadata": {
    "collapsed": false
   },
   "outputs": [
    {
     "data": {
      "image/png": "[encoded data removed]",
      "text/plain": [
       "<matplotlib.figure.Figure at 0x111435c90>"
      ]
     },
     "metadata": {},
     "output_type": "display_data"
    }
   ],
   "source": [
    "# Fit the first set\n",
    "fitfunc = lambda p, x: p[0]*cos(2*pi/p[1]*x+p[2]) + p[3]*x # Target function\n",
    "errfunc = lambda p, x, y: fitfunc(p, x) - y # Distance to the target function\n",
    "p0 = [-15., 0.8, 0., -1.] # Initial guess for the parameters\n",
    "p1, success = optimize.leastsq(errfunc, p0[:], args=(Tx, tX))\n",
    "\n",
    "time = linspace(Tx.min(), Tx.max(), 100)\n",
    "plot(Tx, tX, \"ro\", time, fitfunc(p1, time), \"r-\") # Plot of the data and the fit\n",
    "\n",
    "# Fit the second set\n",
    "p0 = [-15., 0.8, 0., -1.]\n",
    "p2,success = optimize.leastsq(errfunc, p0[:], args=(Ty, tY))\n",
    "\n",
    "time = linspace(Ty.min(), Ty.max(), 100)\n",
    "plot(Ty, tY, \"b^\", time, fitfunc(p2, time), \"b-\")\n",
    "\n",
    "# Legend the plot\n",
    "title(\"Oscillations in the compressed trap\")\n",
    "xlabel(\"time [ms]\")\n",
    "ylabel(\"displacement [um]\")\n",
    "legend(('x position', 'x fit', 'y position', 'y fit'))\n",
    "\n",
    "ax = axes()\n",
    "\n",
    "text(0.8, 0.07,\n",
    "     'x freq :  %.3f kHz \\n y freq :  %.3f kHz' % (1/p1[1],1/p2[1]),\n",
    "     fontsize=16,\n",
    "     horizontalalignment='center',\n",
    "     verticalalignment='center',\n",
    "     transform=ax.transAxes)\n",
    "\n",
    "show()"
   ]
  },
  {
   "cell_type": "markdown",
   "metadata": {
    "collapsed": true
   },
   "source": [
    "A clever use of the cost function\n",
    "\n",
    "Suppose that you have the same data set: two time-series of oscillating phenomena, but that you know that the frequency of the two oscillations is the same. A clever use of the cost function can allow you to fit both set of data in one fit, using the same frequency. The idea is that you return, as a \"cost\" array, the concatenation of the costs of your two data sets for one choice of parameters. Thus the leastsq routine is optimizing both data sets at the same time.\n",
    "\n",
    "\n"
   ]
  },
  {
   "cell_type": "code",
   "execution_count": 6,
   "metadata": {
    "collapsed": false
   },
   "outputs": [
    {
     "data": {
      "image/png": "[encoded data removed]",
      "text/plain": [
       "<matplotlib.figure.Figure at 0x1073da110>"
      ]
     },
     "metadata": {},
     "output_type": "display_data"
    }
   ],
   "source": [
    "# Target function\n",
    "fitfunc = lambda T, p, x: p[0]*cos(2*pi/T*x+p[1]) + p[2]*x\n",
    "# Initial guess for the first set's parameters\n",
    "p1 = r_[-15., 0., -1.]\n",
    "# Initial guess for the second set's parameters\n",
    "p2 = r_[-15., 0., -1.]\n",
    "# Initial guess for the common period\n",
    "T = 0.8\n",
    "# Vector of the parameters to fit, it contains all the parameters of the problem, and the period of the oscillation is not there twice !\n",
    "p = r_[T, p1, p2]\n",
    "# Cost function of the fit, compare it to the previous example.\n",
    "errfunc = lambda p, x1, y1, x2, y2: r_[\n",
    "                fitfunc(p[0], p[1:4], x1) - y1,\n",
    "                fitfunc(p[0], p[4:7], x2) - y2\n",
    "            ]\n",
    "# This time we need to pass the two sets of data, there are thus four \"args\".\n",
    "p,success = optimize.leastsq(errfunc, p, args=(Tx, tX, Ty, tY))\n",
    "time = linspace(Tx.min(), Tx.max(), 100) # Plot of the first data and the fit\n",
    "plot(Tx, tX, \"ro\", time, fitfunc(p[0], p[1:4], time),\"r-\")\n",
    "\n",
    "# Plot of the second data and the fit\n",
    "time = linspace(Ty.min(), Ty.max(),100)\n",
    "plot(Ty, tY, \"b^\", time, fitfunc(p[0], p[4:7], time),\"b-\")\n",
    "\n",
    "# Legend the plot\n",
    "title(\"Oscillations in the compressed trap\")\n",
    "xlabel(\"time [ms]\")\n",
    "ylabel(\"displacement [um]\")\n",
    "legend(('x position', 'x fit', 'y position', 'y fit'))\n",
    "\n",
    "ax = axes()\n",
    "\n",
    "text(0.8, 0.07,\n",
    "     'x freq :  %.3f kHz' % (1/p[0]),\n",
    "     fontsize=16,\n",
    "     horizontalalignment='center',\n",
    "     verticalalignment='center',\n",
    "     transform=ax.transAxes)\n",
    "\n",
    "show()"
   ]
  },
  {
   "cell_type": "markdown",
   "metadata": {},
   "source": [
    "### Simplifying the syntax\n",
    "\n",
    "Especially when using fits for interactive use, the standard syntax for optimize.leastsq can get really long. Using the following script can simplify your life:"
   ]
  },
  {
   "cell_type": "code",
   "execution_count": 7,
   "metadata": {
    "collapsed": true
   },
   "outputs": [],
   "source": [
    "from scipy import optimize\n",
    "from numpy import *\n",
    "\n",
    "class Parameter:\n",
    "    def __init__(self, value):\n",
    "            self.value = value\n",
    "\n",
    "    def set(self, value):\n",
    "            self.value = value\n",
    "\n",
    "    def __call__(self):\n",
    "            return self.value\n",
    "\n",
    "def fit(function, parameters, y, x = None):\n",
    "    def f(params):\n",
    "        i = 0\n",
    "        for p in parameters:\n",
    "            p.set(params[i])\n",
    "            i += 1\n",
    "        return y - function(x)\n",
    "\n",
    "    if x is None: x = arange(y.shape[0])\n",
    "    p = [param() for param in parameters]\n",
    "    optimize.leastsq(f, p)"
   ]
  },
  {
   "cell_type": "markdown",
   "metadata": {},
   "source": [
    "Now fitting becomes really easy, for example fitting to a gaussian:\n",
    "\n"
   ]
  },
  {
   "cell_type": "code",
   "execution_count": 8,
   "metadata": {
    "collapsed": false
   },
   "outputs": [
    {
     "ename": "NameError",
     "evalue": "name 'data' is not defined",
     "output_type": "error",
     "traceback": [
      "\u001b[0;31m---------------------------------------------------------------------------\u001b[0m",
      "\u001b[0;31mNameError\u001b[0m                                 Traceback (most recent call last)",
      "\u001b[0;32m<ipython-input-8-2119ea6066af>\u001b[0m in \u001b[0;36m<module>\u001b[0;34m()\u001b[0m\n\u001b[1;32m      8\u001b[0m \u001b[0;34m\u001b[0m\u001b[0m\n\u001b[1;32m      9\u001b[0m \u001b[0;31m# fit! (given that data is an array with the data to fit)\u001b[0m\u001b[0;34m\u001b[0m\u001b[0;34m\u001b[0m\u001b[0m\n\u001b[0;32m---> 10\u001b[0;31m \u001b[0mfit\u001b[0m\u001b[0;34m(\u001b[0m\u001b[0mf\u001b[0m\u001b[0;34m,\u001b[0m \u001b[0;34m[\u001b[0m\u001b[0mmu\u001b[0m\u001b[0;34m,\u001b[0m \u001b[0msigma\u001b[0m\u001b[0;34m,\u001b[0m \u001b[0mheight\u001b[0m\u001b[0;34m]\u001b[0m\u001b[0;34m,\u001b[0m \u001b[0mdata\u001b[0m\u001b[0;34m)\u001b[0m\u001b[0;34m\u001b[0m\u001b[0m\n\u001b[0m",
      "\u001b[0;31mNameError\u001b[0m: name 'data' is not defined"
     ]
    }
   ],
   "source": [
    "# giving initial parameters\n",
    "mu = Parameter(7)                     \n",
    "sigma = Parameter(3)\n",
    "height = Parameter(5)\n",
    "\n",
    "# define your function:\n",
    "def f(x): return height() * exp(-((x-mu())/sigma())**2) \n",
    "\n",
    "# fit! (given that data is an array with the data to fit)\n",
    "fit(f, [mu, sigma, height], data)"
   ]
  },
  {
   "cell_type": "markdown",
   "metadata": {},
   "source": [
    "### Fitting gaussian-shaped data\n",
    "\n",
    "Calculating the moments of the distribution\n",
    "\n",
    "Fitting gaussian-shaped data does not require an optimization routine. Just calculating the moments of the distribution is enough, and this is much faster.\n",
    "\n",
    "However this works only if the gaussian is not cut out too much, and if it is not too small."
   ]
  },
  {
   "cell_type": "code",
   "execution_count": 10,
   "metadata": {
    "collapsed": false
   },
   "outputs": [
    {
     "data": {
      "image/png": "[encoded data removed]",
      "text/plain": [
       "<matplotlib.figure.Figure at 0x111797810>"
      ]
     },
     "metadata": {},
     "output_type": "display_data"
    }
   ],
   "source": [
    "from pylab import *\n",
    "\n",
    "gaussian = lambda x: 3*exp(-(30-x)**2/20.)\n",
    "\n",
    "data = gaussian(arange(100))\n",
    "\n",
    "plot(data)\n",
    "\n",
    "X = arange(data.size)\n",
    "x = sum(X*data)/sum(data)\n",
    "width = sqrt(abs(sum((X-x)**2*data)/sum(data)))\n",
    "\n",
    "max = data.max()\n",
    "\n",
    "fit = lambda t : max*exp(-(t-x)**2/(2*width**2))\n",
    "\n",
    "plot(fit(X))\n",
    "\n",
    "show()"
   ]
  },
  {
   "cell_type": "markdown",
   "metadata": {},
   "source": [
    "### Fitting a 2D gaussian\n",
    "\n",
    "Here is robust code to fit a 2D gaussian. It calculates the moments of the data to guess the initial parameters for an optimization routine. For a more complete gaussian, one with an optional additive constant and rotation, see http://code.google.com/p/agpy/source/browse/trunk/agpy/gaussfitter.py. It also allows the specification of a known error."
   ]
  },
  {
   "cell_type": "code",
   "execution_count": 11,
   "metadata": {
    "collapsed": true
   },
   "outputs": [],
   "source": [
    "from numpy import *\n",
    "from scipy import optimize\n",
    "\n",
    "def gaussian(height, center_x, center_y, width_x, width_y):\n",
    "    \"\"\"Returns a gaussian function with the given parameters\"\"\"\n",
    "    width_x = float(width_x)\n",
    "    width_y = float(width_y)\n",
    "    return lambda x,y: height*exp(\n",
    "                -(((center_x-x)/width_x)**2+((center_y-y)/width_y)**2)/2)\n",
    "\n",
    "def moments(data):\n",
    "    \"\"\"Returns (height, x, y, width_x, width_y)\n",
    "    the gaussian parameters of a 2D distribution by calculating its\n",
    "    moments \"\"\"\n",
    "    total = data.sum()\n",
    "    X, Y = indices(data.shape)\n",
    "    x = (X*data).sum()/total\n",
    "    y = (Y*data).sum()/total\n",
    "    col = data[:, int(y)]\n",
    "    width_x = sqrt(abs((arange(col.size)-y)**2*col).sum()/col.sum())\n",
    "    row = data[int(x), :]\n",
    "    width_y = sqrt(abs((arange(row.size)-x)**2*row).sum()/row.sum())\n",
    "    height = data.max()\n",
    "    return height, x, y, width_x, width_y\n",
    "\n",
    "def fitgaussian(data):\n",
    "    \"\"\"Returns (height, x, y, width_x, width_y)\n",
    "    the gaussian parameters of a 2D distribution found by a fit\"\"\"\n",
    "    params = moments(data)\n",
    "    errorfunction = lambda p: ravel(gaussian(*p)(*indices(data.shape)) -\n",
    "                                 data)\n",
    "    p, success = optimize.leastsq(errorfunction, params)\n",
    "    return p"
   ]
  },
  {
   "cell_type": "markdown",
   "metadata": {},
   "source": [
    "And here is an example using it:\n"
   ]
  },
  {
   "cell_type": "code",
   "execution_count": 12,
   "metadata": {
    "collapsed": false
   },
   "outputs": [
    {
     "ename": "AttributeError",
     "evalue": "'builtin_function_or_method' object has no attribute 'random'",
     "output_type": "error",
     "traceback": [
      "\u001b[0;31m---------------------------------------------------------------------------\u001b[0m",
      "\u001b[0;31mAttributeError\u001b[0m                            Traceback (most recent call last)",
      "\u001b[0;32m<ipython-input-12-618a245ffbd5>\u001b[0m in \u001b[0;36m<module>\u001b[0;34m()\u001b[0m\n\u001b[1;32m      2\u001b[0m \u001b[0;31m# Create the gaussian data\u001b[0m\u001b[0;34m\u001b[0m\u001b[0;34m\u001b[0m\u001b[0m\n\u001b[1;32m      3\u001b[0m \u001b[0mXin\u001b[0m\u001b[0;34m,\u001b[0m \u001b[0mYin\u001b[0m \u001b[0;34m=\u001b[0m \u001b[0mmgrid\u001b[0m\u001b[0;34m[\u001b[0m\u001b[0;36m0\u001b[0m\u001b[0;34m:\u001b[0m\u001b[0;36m201\u001b[0m\u001b[0;34m,\u001b[0m \u001b[0;36m0\u001b[0m\u001b[0;34m:\u001b[0m\u001b[0;36m201\u001b[0m\u001b[0;34m]\u001b[0m\u001b[0;34m\u001b[0m\u001b[0m\n\u001b[0;32m----> 4\u001b[0;31m \u001b[0mdata\u001b[0m \u001b[0;34m=\u001b[0m \u001b[0mgaussian\u001b[0m\u001b[0;34m(\u001b[0m\u001b[0;36m3\u001b[0m\u001b[0;34m,\u001b[0m \u001b[0;36m100\u001b[0m\u001b[0;34m,\u001b[0m \u001b[0;36m100\u001b[0m\u001b[0;34m,\u001b[0m \u001b[0;36m20\u001b[0m\u001b[0;34m,\u001b[0m \u001b[0;36m40\u001b[0m\u001b[0;34m)\u001b[0m\u001b[0;34m(\u001b[0m\u001b[0mXin\u001b[0m\u001b[0;34m,\u001b[0m \u001b[0mYin\u001b[0m\u001b[0;34m)\u001b[0m \u001b[0;34m+\u001b[0m \u001b[0mrandom\u001b[0m\u001b[0;34m.\u001b[0m\u001b[0mrandom\u001b[0m\u001b[0;34m(\u001b[0m\u001b[0mXin\u001b[0m\u001b[0;34m.\u001b[0m\u001b[0mshape\u001b[0m\u001b[0;34m)\u001b[0m\u001b[0;34m\u001b[0m\u001b[0m\n\u001b[0m\u001b[1;32m      5\u001b[0m \u001b[0;34m\u001b[0m\u001b[0m\n\u001b[1;32m      6\u001b[0m \u001b[0mmatshow\u001b[0m\u001b[0;34m(\u001b[0m\u001b[0mdata\u001b[0m\u001b[0;34m,\u001b[0m \u001b[0mcmap\u001b[0m\u001b[0;34m=\u001b[0m\u001b[0mcm\u001b[0m\u001b[0;34m.\u001b[0m\u001b[0mgist_earth_r\u001b[0m\u001b[0;34m)\u001b[0m\u001b[0;34m\u001b[0m\u001b[0m\n",
      "\u001b[0;31mAttributeError\u001b[0m: 'builtin_function_or_method' object has no attribute 'random'"
     ]
    }
   ],
   "source": [
    "from pylab import *\n",
    "# Create the gaussian data\n",
    "Xin, Yin = mgrid[0:201, 0:201]\n",
    "data = gaussian(3, 100, 100, 20, 40)(Xin, Yin) + random.random(Xin.shape)\n",
    "\n",
    "matshow(data, cmap=cm.gist_earth_r)\n",
    "\n",
    "params = fitgaussian(data)\n",
    "fit = gaussian(*params)\n",
    "\n",
    "contour(fit(*indices(data.shape)), cmap=cm.copper)\n",
    "ax = gca()\n",
    "(height, x, y, width_x, width_y) = params\n",
    "\n",
    "text(0.95, 0.05, \"\"\"\n",
    "x : %.1f\n",
    "y : %.1f\n",
    "width_x : %.1f\n",
    "width_y : %.1f\"\"\" %(x, y, width_x, width_y),\n",
    "        fontsize=16, horizontalalignment='right',\n",
    "        verticalalignment='bottom', transform=ax.transAxes)\n",
    "\n",
    "show()"
   ]
  },
  {
   "cell_type": "markdown",
   "metadata": {},
   "source": [
    "### Fitting a power-law to data with errors\n",
    "\n",
    "Generating the data\n",
    "\n",
    "Generate some data with noise to demonstrate the fitting procedure. Data is generated with an amplitude of 10 and a power-law index of -2.0. Notice that all of our data is well-behaved when the log is taken... you may have to be more careful of this for real data."
   ]
  },
  {
   "cell_type": "code",
   "execution_count": 13,
   "metadata": {
    "collapsed": true
   },
   "outputs": [],
   "source": [
    "from pylab import *\n",
    "from scipy import *\n",
    "\n",
    "# Define function for calculating a power law\n",
    "powerlaw = lambda x, amp, index: amp * (x**index)\n",
    "\n",
    "##########\n",
    "# Generate data points with noise\n",
    "##########\n",
    "num_points = 20\n",
    "\n",
    "# Note: all positive, non-zero data\n",
    "xdata = linspace(1.1, 10.1, num_points) \n",
    "ydata = powerlaw(xdata, 10.0, -2.0)     # simulated perfect data\n",
    "yerr = 0.2 * ydata                      # simulated errors (10%)\n",
    "\n",
    "ydata += randn(num_points) * yerr       # simulated noisy data"
   ]
  },
  {
   "cell_type": "markdown",
   "metadata": {},
   "source": [
    "### Fitting the data\n",
    "\n",
    "If your data is well-behaved, you can fit a power-law function by first converting to a linear equation by using the logarithm. Then use the optimize function to fit a straight line. Notice that we are weighting by positional uncertainties during the fit. Also, the best-fit parameters uncertainties are estimated from the variance-covariance matrix. You should read up on when it may not be appropriate to use this form of error estimation. If you are trying to fit a power-law distribution, this solution is more appropriate."
   ]
  },
  {
   "cell_type": "code",
   "execution_count": 14,
   "metadata": {
    "collapsed": false
   },
   "outputs": [
    {
     "name": "stdout",
     "output_type": "stream",
     "text": [
      "[ 1.01804295 -2.01294245]\n",
      "[[ 0.01691937 -0.02159208]\n",
      " [-0.02159208  0.03146879]]\n"
     ]
    },
    {
     "data": {
      "image/png": "[encoded data removed]",
      "text/plain": [
       "<matplotlib.figure.Figure at 0x1119aae90>"
      ]
     },
     "metadata": {},
     "output_type": "display_data"
    }
   ],
   "source": [
    "##########\n",
    "# Fitting the data -- Least Squares Method\n",
    "##########\n",
    "\n",
    "# Power-law fitting is best done by first converting\n",
    "# to a linear equation and then fitting to a straight line.\n",
    "#\n",
    "#  y = a * x^b\n",
    "#  log(y) = log(a) + b*log(x)\n",
    "#\n",
    "\n",
    "logx = log10(xdata)\n",
    "logy = log10(ydata)\n",
    "logyerr = yerr / ydata\n",
    "\n",
    "# define our (line) fitting function\n",
    "fitfunc = lambda p, x: p[0] + p[1] * x   \n",
    "errfunc = lambda p, x, y, err: (y - fitfunc(p, x)) / err\n",
    "\n",
    "pinit = [1.0, -1.0]\n",
    "out = optimize.leastsq(errfunc, pinit,\n",
    "                       args=(logx, logy, logyerr), full_output=1)\n",
    "\n",
    "pfinal = out[0]\n",
    "covar = out[1]\n",
    "print pfinal\n",
    "print covar\n",
    "\n",
    "index = pfinal[1]\n",
    "amp = 10.0**pfinal[0]\n",
    "\n",
    "indexErr = sqrt( covar[0][0] ) \n",
    "ampErr = sqrt( covar[1][1] ) * amp\n",
    "\n",
    "##########\n",
    "# Plotting data\n",
    "##########\n",
    "\n",
    "clf()\n",
    "subplot(2, 1, 1)\n",
    "plot(xdata, powerlaw(xdata, amp, index))     # Fit\n",
    "errorbar(xdata, ydata, yerr=yerr, fmt='k.')  # Data\n",
    "text(5, 6.5, 'Ampli = %5.2f +/- %5.2f' % (amp, ampErr))\n",
    "text(5, 5.5, 'Index = %5.2f +/- %5.2f' % (index, indexErr))\n",
    "title('Best Fit Power Law')\n",
    "xlabel('X')\n",
    "ylabel('Y')\n",
    "xlim(1, 11)\n",
    "\n",
    "subplot(2, 1, 2)\n",
    "loglog(xdata, powerlaw(xdata, amp, index))\n",
    "errorbar(xdata, ydata, yerr=yerr, fmt='k.')  # Data\n",
    "xlabel('X (log scale)')\n",
    "ylabel('Y (log scale)')\n",
    "xlim(1.0, 11)\n",
    "\n",
    "savefig('power_law_fit.png')"
   ]
  },
  {
   "cell_type": "code",
   "execution_count": null,
   "metadata": {
    "collapsed": true
   },
   "outputs": [],
   "source": []
  }
 ],
 "metadata": {
  "kernelspec": {
   "display_name": "Python 2",
   "language": "python",
   "name": "python2"
  },
  "language_info": {
   "codemirror_mode": {
    "name": "ipython",
    "version": 2
   },
   "file_extension": ".py",
   "mimetype": "text/x-python",
   "name": "python",
   "nbconvert_exporter": "python",
   "pygments_lexer": "ipython2",
   "version": "2.7.11"
  }
 },
 "nbformat": 4,
 "nbformat_minor": 0
}
