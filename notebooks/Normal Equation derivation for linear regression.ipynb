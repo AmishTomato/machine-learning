{
 "cells": [
  {
   "cell_type": "markdown",
   "metadata": {},
   "source": [
    "## Deriving the normal equation for linear regression\n",
    "\n",
    "Jay Urbain\n",
    "\n",
    "Given the hypothesis function: \n",
    "\n",
    "$h_{\\theta}(x) = \\theta_1x_1 + ... + \\theta_nx_n$\n",
    "\n",
    "We would like to minimize the least-squared error cost function:\n",
    "\n",
    "$J(\\theta_{0...n}) = \\frac{1}{2m}\\sum_{i=1}^{m}(h_{\\theta}(x^{(i)}) - y^{(i)})^2$\n",
    "\n",
    "Representing the hypothesis function in matrix form, where $\\theta_0$ and $x$ are vectors:\n",
    "\n",
    "$h_{\\theta}(x) = \\theta_0^Tx$ \n",
    "\n",
    "Updating the cost function to be in matrix form:\n",
    "\n",
    "$J(\\theta) = \\frac{1}{2m}(\\theta_0X - y)^T (\\theta_0X - y)$\n",
    "\n",
    "Dropping $\\frac{1}{2m}$ since we're comparing a derivitive of 0, and rearranging terms:\n",
    "\n",
    "$J(\\theta) = ((\\theta_0X)^T - y^T) (X\\theta_0 - y)$\n",
    "\n",
    "Note: Since ($X\\theta$ and $y$) are vectors, we can multiply then in different orders provided the dimensions are correct.\n",
    "\n",
    "$J(\\theta) = (X\\theta_0)^TX\\theta - 2(X\\theta_0)^Ty + y^Ty$\n",
    "\n",
    "$\\theta$ is what we are solving for, to find a minimum for our cost function $J(\\theta)$, we need to take the derivitives of $J$ with respect to $\\theta$.\n",
    "\n",
    "$\\frac{\\partial J}{\\partial \\theta} = 2X^TX\\theta = 2X^Ty = 0$\n",
    "\n",
    "or \n",
    "\n",
    "$X^TX\\theta = X^Ty$\n",
    "\n",
    "Multiply both sides by $(X^TX)$\n",
    "\n",
    "$\\theta = (X^TX)^{-1}X^Ty$\n",
    "\n",
    "\n",
    "\n",
    "\n",
    "\n",
    "\n"
   ]
  },
  {
   "cell_type": "code",
   "execution_count": null,
   "metadata": {
    "collapsed": true
   },
   "outputs": [],
   "source": []
  }
 ],
 "metadata": {
  "kernelspec": {
   "display_name": "Python 2",
   "language": "python",
   "name": "python2"
  },
  "language_info": {
   "codemirror_mode": {
    "name": "ipython",
    "version": 2
   },
   "file_extension": ".py",
   "mimetype": "text/x-python",
   "name": "python",
   "nbconvert_exporter": "python",
   "pygments_lexer": "ipython2",
   "version": "2.7.11"
  }
 },
 "nbformat": 4,
 "nbformat_minor": 0
}
