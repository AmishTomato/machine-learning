{
 "cells": [
  {
   "cell_type": "markdown",
   "metadata": {},
   "source": [
    "# PGM Laboratory: Classification with Tree Structured Models"
   ]
  },
  {
   "cell_type": "markdown",
   "metadata": {},
   "source": [
    "Author: Aaron Helmers\n",
    "\n",
    "This notebook requires:\n",
    "* numpy  \n",
    "* pandas  \n",
    "* scipy  \n",
    "* pymc3  \n",
    "* patsy  \n",
    "\n",
    "**warning**: pymc3 can be difficult to install. I was able to get it installed with [these instructions](http://stackoverflow.com/questions/42728877/using-pymc3-on-windows-10-theano-cannot-import-name-floatx?noredirect=1#comment72639271_42728877) along with [these instructions](http://deeplearning.net/software/theano/install_windows.html) taking the updated theanos from the former instruction set over the later."
   ]
  },
  {
   "cell_type": "markdown",
   "metadata": {},
   "source": [
    "## Problem statement\n",
    "This laboratory comes from Daphne Kollor's Stanford Course on Probabalistic Graphical Models (PGM).\n",
    "\n",
    "The goal is to be able to classify a body based on its pose. To do this, we have access to data for 10 different parts of the body: torso (0), head(1), left arm (2), left forearm (3), right arm (4), right forearm (5), left thigh (6), left leg (7), right thigh (8), and right leg (9). For each body part we also have access to 3 parameters: Y position, X position, and rotation (alpha).\n",
    "\n",
    "The laboratory juxtaposes 2 methods of using this data to classify the body: A naive bayes model, and a conditional linear gaussian model (CLG)."
   ]
  },
  {
   "cell_type": "markdown",
   "metadata": {},
   "source": [
    "## Load Data\n",
    "The data we are loading was originally meant for matlab. To load the data, we will use scipy's io capabilities. The result of the load is a dictionary, where each key->value represents matrix_name->matrix. The matricies we are loading are:\n",
    "* G1: The tree structure of a regular bayesian network, where each body part has only the body classification (class priors) as it's parent node.\n",
    "* G2: The tree structure representing bodily connections for the CLG method of classification. This is to say that each body part, besides the torso, has another body part as a parent to learn from. all body parts also have the body classification as a parent. The structure of the data is [body_part][parent_type, parent].\n",
    "* trainData / testData: The actual input data for our use. The structure of the data is [sample][body_part][parameter].\n",
    "\n",
    "scipy.io loads the data strangly (there are extra, unneeded dimensions prepended), so we also extract it to the expected format listed above."
   ]
  },
  {
   "cell_type": "code",
   "execution_count": 3,
   "metadata": {
    "collapsed": false
   },
   "outputs": [
    {
     "name": "stdout",
     "output_type": "stream",
     "text": [
      "['__header__', '__version__', '__globals__', 'G1', 'G2', 'trainData', 'testData']\n"
     ]
    }
   ],
   "source": [
    "import scipy.io as sio\n",
    "\n",
    "data = sio.loadmat('data/PA8Data.mat')\n",
    "data['trainData'] = data['trainData'][0][0]\n",
    "data['testData'] = data['testData'][0][0]\n",
    "print (list(data))"
   ]
  },
  {
   "cell_type": "markdown",
   "metadata": {},
   "source": [
    "Next, we want to convert from 1d numpy arrays to pandas dataframes. Since DataFrames must be 2D, we will create a dictionary from body_part->(sample, parameters)"
   ]
  },
  {
   "cell_type": "code",
   "execution_count": 4,
   "metadata": {
    "collapsed": false
   },
   "outputs": [
    {
     "name": "stdout",
     "output_type": "stream",
     "text": [
      "Training Data (class=human(0), part=head(1)):\n",
      "           y          x     alpha\n",
      "0  22.977837   8.273512 -6.145974\n",
      "1   8.363819  -1.982919 -0.115858\n",
      "2  21.482629  38.584170 -6.267717\n",
      "3 -19.544711 -24.646000 -5.760630\n",
      "4  18.078155   8.942255 -5.676765\n",
      "\n",
      "Testing Data (class=human(0), part=head(1)):\n",
      "           y          x     alpha\n",
      "0   0.688736  -9.333963 -0.374123\n",
      "1  27.601101 -19.407871 -0.465951\n",
      "2  19.320989  -6.411027 -0.481047\n",
      "3 -23.182955  -1.804526 -6.082243\n",
      "4 -19.615777  18.688371 -5.888298\n"
     ]
    }
   ],
   "source": [
    "import pandas as pd\n",
    "import numpy as np\n",
    "# reshape input data from [s,b,p] to {b, df(s,p)}\n",
    "def reshape_data(samples):\n",
    "    # convert from [s][b][p] to [s,b,p]\n",
    "    retData = np.array(list(map(\n",
    "        lambda sample: np.array(np.array(sample)),\n",
    "        samples\n",
    "    )))\n",
    "    # convert from [s,b,p] to [b,s,p]\n",
    "    retData = np.swapaxes(retData, 0, 1)\n",
    "    # convert from [b,s,p] to {b: df(s,p)}\n",
    "    retData = dict(map(\n",
    "        lambda part_index: (part_index, pd.DataFrame(retData[part_index,:,:])),\n",
    "        range(0, retData.shape[0])\n",
    "    ))\n",
    "    # give each DF proper column names\n",
    "    for part in retData: \n",
    "        retData[part].columns = ['y', 'x', 'alpha']\n",
    "    return retData\n",
    "\n",
    "trainData = list(map(\n",
    "    lambda label: reshape_data(\n",
    "        data['trainData']['data'][np.where(data['trainData']['labels'][:,0] == label)]\n",
    "    ), [0, 1]\n",
    "))\n",
    "testData = list(map(\n",
    "    lambda label: reshape_data(\n",
    "        data['testData']['data'][np.where(data['testData']['labels'][:,0] == label)]\n",
    "    ), [0, 1]\n",
    "    \n",
    "))\n",
    "\n",
    "print(\"Training Data (class=human(0), part=head(1)):\")\n",
    "print(trainData[0][1][:5])\n",
    "print(\"\\nTesting Data (class=human(0), part=head(1)):\")\n",
    "print(testData[0][1][:5])"
   ]
  },
  {
   "cell_type": "markdown",
   "metadata": {},
   "source": [
    "## Develop Model\n",
    "For the purpose of this laboratory, only the CLG method will be explored (G2). Originally G1 was included to juxtapose the naive bayes method with the CLG method.\n",
    "\n",
    "The CLG method can be seen as determining the probability of a classification for the body by finding the probability of all body parts having that classification. Subsequently, each body part determine's it's probability of classification based on learned linear gaussian's whose mean is a linear combination the the classes prior probability the parent body part's parameters.\n",
    "\n",
    "While doing research to complete this laboratory, 3 ways were found to fulfil the requirements:\n",
    "\n",
    "1) The hardest is to write the models manually, which includes the writing of a method to solve the linear systems for each body_part-parameter-classification combination, or 60 linear systems in total. Then follow this up by writing a method to compute the log-likelihood for a testing sample to classify.  \n",
    "\n",
    "2) pgmpy could be used to make life easier by creating a LinearGaussianCPD model for each body_part-parameter-classification combination. The benifit of this is that it makes the calculation of the log-likelihood much simpler by providing the probability of classification for each model. These models would then just have to be combined to compute the probability of classification. To create these models, however, we would still need to compute the parameters for each gaussian, which is a significant amount of work.  \n",
    "\n",
    "3) pymc3 was then discovered which was capable of providing Generalized Linear Models (GLMs), which is precisely what we are looking to create. These take the capability of pgmpy above, but abstract away the work required to learn the gaussian parameters.      \n",
    "\n",
    "Since pymc3 abstracts a lot of the complicated work away, it was used to solve our problems."
   ]
  },
  {
   "cell_type": "markdown",
   "metadata": {},
   "source": [
    "### 1) Reformulate Data Into Linear Gaussian Form\n",
    "In order to utilize Pymc3, we need to reformulate each of our samples into (y<sub>parent</sub>, x<sub>parent</sub>, alpha<sub>parent</sub>, answer) form. This will allow us to have Pymc3 create models for each body part's parameter. The offset parameter is automatically calculated for us by Pymc3.\n",
    "\n",
    "Note that this format is only considered for all but the root body part (torso), as the root body part has no parent to parameterize off of. The torso will instead be modeled by a gaussian with the expectation and variance of the parameter being modeled."
   ]
  },
  {
   "cell_type": "code",
   "execution_count": 5,
   "metadata": {
    "collapsed": false
   },
   "outputs": [
    {
     "name": "stdout",
     "output_type": "stream",
     "text": [
      "Parameterized Training Data (class=human(0), part=head(1)):\n",
      "   Intercept     alpha   p_alpha        p_x        p_y          x          y\n",
      "0   0.488889 -6.145974 -6.145974   8.273512  22.977837   8.273512  22.977837\n",
      "1   0.488889 -0.115858 -0.115858  -1.982919   8.363819  -1.982919   8.363819\n",
      "2   0.488889 -6.267717 -6.267717  38.584170  21.482629  38.584170  21.482629\n",
      "3   0.488889 -5.760630 -5.760630 -24.646000 -19.544711 -24.646000 -19.544711\n",
      "4   0.488889 -5.676765 -5.676765   8.942255  18.078155   8.942255  18.078155\n",
      "\n",
      "Parameterized Testing Data (class=alien(1), part=right_leg(9)):\n",
      "   Intercept     alpha   p_alpha        p_x        p_y          x           y\n",
      "0   0.511111 -2.784688 -5.659289  -8.290587 -30.099826 -27.125302   80.679541\n",
      "1   0.511111 -3.467803 -0.168724 -26.986419 -35.347895  -2.146990   71.836016\n",
      "2   0.511111 -2.818784 -6.181410   9.526765  22.749323 -30.957147  127.921171\n",
      "3   0.511111 -3.585914 -6.281134   2.292619 -21.035900  42.804573   79.490427\n",
      "4   0.511111 -3.184570 -0.079682  -5.427882   6.020575   0.780237  118.510580\n"
     ]
    }
   ],
   "source": [
    "def as_paramed(data_in, class_prior):\n",
    "    return dict(map(\n",
    "        lambda part_index: (part_index, pd.DataFrame({\n",
    "            'Intercept': class_prior,\n",
    "            'p_x': data_in[data['G2'][1,1]]['x'],\n",
    "            'p_y': data_in[data['G2'][1,1]]['y'],\n",
    "            'p_alpha':data_in[data['G2'][1,1]]['alpha'],\n",
    "            'x': data_in[part_index]['x'],\n",
    "            'y': data_in[part_index]['y'],\n",
    "            'alpha': data_in[part_index]['alpha']\n",
    "        })),\n",
    "        range(1, len(data_in))\n",
    "    ))\n",
    "\n",
    "trainDataParamed = list(map(\n",
    "    lambda label: as_paramed(\n",
    "        trainData[label],\n",
    "        trainData[label][0].shape[0] / data['trainData']['data'].shape[0]\n",
    "    ), [0, 1]\n",
    "))\n",
    "testDataParamed = list(map(\n",
    "    lambda label: as_paramed(\n",
    "        testData[label],\n",
    "        testData[label][0].shape[0] / data['trainData']['data'].shape[0]\n",
    "    ), [0, 1]\n",
    "))\n",
    "\n",
    "print('Parameterized Training Data (class=human(0), part=head(1)):')\n",
    "print(trainDataParamed[0][1][:5])\n",
    "print('\\nParameterized Testing Data (class=alien(1), part=right_leg(9)):')\n",
    "print(trainDataParamed[1][9][:5])"
   ]
  },
  {
   "cell_type": "markdown",
   "metadata": {},
   "source": [
    "### 2) Build Pymc3 Generalized Linear Models\n",
    "We are going to start by building GLMs for each body part and classification, resulting in 20 GLMs in total. A normal probability distribution is assumed."
   ]
  },
  {
   "cell_type": "code",
   "execution_count": 6,
   "metadata": {
    "collapsed": false
   },
   "outputs": [],
   "source": [
    "# with glm[0][1]['x']:"
   ]
  },
  {
   "cell_type": "code",
   "execution_count": 7,
   "metadata": {
    "collapsed": true
   },
   "outputs": [],
   "source": [
    "from theano import shared"
   ]
  },
  {
   "cell_type": "code",
   "execution_count": 8,
   "metadata": {
    "collapsed": false
   },
   "outputs": [
    {
     "name": "stdout",
     "output_type": "stream",
     "text": [
      " GLMs for (label=human, part=head):\n",
      "{'y': <pymc3.model.Model object at 0x0000024ACF3CCF60>, 'x': <pymc3.model.Model object at 0x0000024ACF3CCF98>, 'alpha': <pymc3.model.Model object at 0x0000024AD0123588>}\n"
     ]
    }
   ],
   "source": [
    "import pymc3 as pm\n",
    "from theano import shared\n",
    "\n",
    "\n",
    "def generate_param_glm(param, samples):\n",
    "    with pm.Model() as model:\n",
    "         pm.glm.glm(param + ' ~ p_y + p_x + p_alpha', samples)\n",
    "    return model\n",
    "\n",
    "def generate_body_glms(samples):\n",
    "    return dict(map(\n",
    "        lambda param: (param, generate_param_glm(param, samples)),\n",
    "        ['y', 'x', 'alpha']\n",
    "    ))\n",
    "\n",
    "# Generate distributions as [{part: {param: model}}] where index is a classification (0, 1)\n",
    "glms = list(map(\n",
    "    lambda label: dict(map(\n",
    "        lambda part: (part, generate_body_glms(trainDataParamed[label][part])),\n",
    "        range(1, len(trainData[label]))\n",
    "    )),\n",
    "    [0, 1]\n",
    "))\n",
    "\n",
    "# Display\n",
    "print (' GLMs for (label=human, part=head):')\n",
    "print (glms[0][1])"
   ]
  },
  {
   "cell_type": "markdown",
   "metadata": {},
   "source": [
    "### 3) Define Methodology for computing Log Likelihood by Classification "
   ]
  },
  {
   "cell_type": "code",
   "execution_count": 10,
   "metadata": {
    "collapsed": false
   },
   "outputs": [
    {
     "name": "stderr",
     "output_type": "stream",
     "text": [
      "Auto-assigning NUTS sampler...\n",
      "Initializing NUTS using advi...\n",
      "\n",
      "  0%|                                                                       | 0/200000 [00:00<?, ?it/s]\n",
      "  1%|▎                                                        | 1004/200000 [00:00<00:19, 10027.03it/s]\n",
      "  1%|▌                                                        | 2022/200000 [00:00<00:19, 10069.20it/s]\n",
      "  2%|▊                                                        | 3014/200000 [00:00<00:19, 10019.75it/s]\n",
      "  2%|█▏                                                        | 4002/200000 [00:00<00:19, 9975.11it/s]\n",
      "  3%|█▍                                                        | 5005/200000 [00:00<00:19, 9988.33it/s]\n",
      "  3%|█▋                                                        | 6007/200000 [00:00<00:19, 9994.61it/s]\n",
      "  3%|██                                                        | 6992/200000 [00:00<00:19, 9947.51it/s]\n",
      "  4%|██▎                                                       | 7989/200000 [00:00<00:19, 9950.41it/s]\n",
      "  4%|██▌                                                       | 9000/200000 [00:00<00:19, 9995.22it/s]\n",
      "  5%|██▊                                                     | 10010/200000 [00:01<00:18, 10023.20it/s]\n",
      "  6%|███                                                     | 11019/200000 [00:01<00:18, 10039.94it/s]\n",
      "  6%|███▎                                                    | 12014/200000 [00:01<00:18, 10009.52it/s]\n",
      "  7%|███▋                                                    | 13024/200000 [00:01<00:18, 10032.69it/s]\n",
      "  7%|███▉                                                    | 14043/200000 [00:01<00:18, 10076.77it/s]\n",
      "  8%|████▏                                                   | 15044/200000 [00:01<00:18, 10023.63it/s]\n",
      "  8%|████▍                                                   | 16042/200000 [00:01<00:18, 10007.37it/s]\n",
      "  9%|████▊                                                    | 17040/200000 [00:01<00:18, 9966.55it/s]\n",
      "  9%|█████▏                                                   | 18035/200000 [00:01<00:18, 9929.09it/s]\n",
      " 10%|█████▍                                                   | 19027/200000 [00:01<00:18, 9923.16it/s]\n",
      "Average ELBO = -54,274:  10%|███▎                             | 20030/200000 [00:02<00:18, 9951.72it/s]\n",
      "Average ELBO = -54,274:  11%|███▍                             | 21025/200000 [00:02<00:18, 9918.89it/s]\n",
      "Average ELBO = -54,274:  11%|███▋                             | 22017/200000 [00:02<00:17, 9915.94it/s]\n",
      "Average ELBO = -54,274:  12%|███▊                             | 23009/200000 [00:02<00:17, 9856.03it/s]\n",
      "Average ELBO = -54,274:  12%|███▉                             | 24008/200000 [00:02<00:17, 9892.66it/s]\n",
      "Average ELBO = -54,274:  13%|████▏                            | 25002/200000 [00:02<00:17, 9903.67it/s]\n",
      "Average ELBO = -54,274:  13%|████▎                            | 25993/200000 [00:02<00:18, 9378.81it/s]\n",
      "Average ELBO = -54,274:  13%|████▍                            | 26955/200000 [00:02<00:18, 9446.13it/s]\n",
      "Average ELBO = -54,274:  14%|████▌                            | 27937/200000 [00:02<00:18, 9553.01it/s]\n",
      "Average ELBO = -54,274:  14%|████▊                            | 28896/200000 [00:02<00:17, 9560.31it/s]\n",
      "Average ELBO = -54,274:  15%|████▉                            | 29879/200000 [00:03<00:17, 9636.60it/s]\n",
      "Average ELBO = -54,274:  15%|█████                            | 30854/200000 [00:03<00:17, 9667.26it/s]\n",
      "Average ELBO = -54,274:  16%|█████▎                           | 31845/200000 [00:03<00:17, 9735.59it/s]\n",
      "Average ELBO = -54,274:  16%|█████▍                           | 32820/200000 [00:03<00:17, 9736.94it/s]\n",
      "Average ELBO = -54,274:  17%|█████▌                           | 33795/200000 [00:03<00:17, 9624.52it/s]\n",
      "Average ELBO = -54,274:  17%|█████▋                           | 34783/200000 [00:03<00:17, 9696.68it/s]\n",
      "Average ELBO = -54,274:  18%|█████▉                           | 35777/200000 [00:03<00:16, 9765.31it/s]\n",
      "Average ELBO = -54,274:  18%|██████                           | 36755/200000 [00:03<00:16, 9766.58it/s]\n",
      "Average ELBO = -54,274:  19%|██████▏                          | 37733/200000 [00:03<00:16, 9738.75it/s]\n",
      "Average ELBO = -54,274:  19%|██████▍                          | 38723/200000 [00:03<00:16, 9783.52it/s]\n",
      "Average ELBO = -54,274:  20%|██████▌                          | 39712/200000 [00:04<00:16, 9811.62it/s]\n",
      "Average ELBO = 42.387:  20%|██████▉                           | 40702/200000 [00:04<00:16, 9835.29it/s]\n",
      "Average ELBO = 42.387:  21%|███████                           | 41686/200000 [00:04<00:17, 9286.68it/s]\n",
      "Average ELBO = 42.387:  21%|███████▏                          | 42622/200000 [00:04<00:19, 8159.92it/s]\n",
      "Average ELBO = 42.387:  22%|███████▍                          | 43468/200000 [00:04<00:21, 7319.81it/s]\n",
      "Average ELBO = 42.387:  22%|███████▌                          | 44237/200000 [00:04<00:22, 7006.94it/s]\n",
      "Average ELBO = 42.387:  23%|███████▋                          | 45031/200000 [00:04<00:21, 7261.39it/s]\n",
      "Average ELBO = 42.387:  23%|███████▊                          | 45984/200000 [00:04<00:19, 7817.79it/s]\n",
      "Average ELBO = 42.387:  23%|███████▉                          | 46896/200000 [00:04<00:18, 8164.69it/s]\n",
      "Average ELBO = 42.387:  24%|████████▏                         | 47811/200000 [00:05<00:18, 8435.40it/s]\n",
      "Average ELBO = 42.387:  24%|████████▎                         | 48742/200000 [00:05<00:17, 8676.74it/s]\n",
      "Average ELBO = 42.387:  25%|████████▍                         | 49649/200000 [00:05<00:17, 8788.41it/s]\n",
      "Average ELBO = 42.387:  25%|████████▌                         | 50590/200000 [00:05<00:16, 8963.29it/s]\n",
      "Average ELBO = 42.387:  26%|████████▊                         | 51548/200000 [00:05<00:16, 9137.05it/s]\n",
      "Average ELBO = 42.387:  26%|████████▉                         | 52520/200000 [00:05<00:15, 9301.50it/s]\n",
      "Average ELBO = 42.387:  27%|█████████                         | 53493/200000 [00:05<00:15, 9423.16it/s]\n",
      "Average ELBO = 42.387:  27%|█████████▎                        | 54458/200000 [00:05<00:15, 9487.06it/s]\n",
      "Average ELBO = 42.387:  28%|█████████▍                        | 55410/200000 [00:05<00:17, 8343.15it/s]\n",
      "Average ELBO = 42.387:  28%|█████████▌                        | 56272/200000 [00:06<00:17, 8255.03it/s]\n",
      "Average ELBO = 42.387:  29%|█████████▋                        | 57184/200000 [00:06<00:16, 8494.43it/s]\n",
      "Average ELBO = 42.387:  29%|█████████▉                        | 58163/200000 [00:06<00:16, 8843.32it/s]\n",
      "Average ELBO = 42.387:  30%|██████████                        | 59104/200000 [00:06<00:15, 9003.50it/s]\n",
      "Average ELBO = 626.8:  30%|██████████▌                        | 60109/200000 [00:06<00:15, 9291.97it/s]\n",
      "Average ELBO = 626.8:  31%|██████████▋                        | 61065/200000 [00:06<00:14, 9366.73it/s]\n",
      "Average ELBO = 626.8:  31%|██████████▊                        | 62009/200000 [00:06<00:14, 9331.73it/s]\n",
      "Average ELBO = 626.8:  31%|███████████                        | 62948/200000 [00:06<00:15, 9080.30it/s]\n",
      "Average ELBO = 626.8:  32%|███████████▏                       | 63861/200000 [00:06<00:14, 9092.49it/s]\n",
      "Average ELBO = 626.8:  32%|███████████▎                       | 64796/200000 [00:06<00:14, 9165.58it/s]\n",
      "Average ELBO = 626.8:  33%|███████████▌                       | 65781/200000 [00:07<00:14, 9358.15it/s]\n",
      "Average ELBO = 626.8:  33%|███████████▋                       | 66757/200000 [00:07<00:14, 9472.47it/s]\n",
      "Average ELBO = 626.8:  34%|███████████▊                       | 67738/200000 [00:07<00:13, 9568.49it/s]\n",
      "Average ELBO = 626.8:  34%|████████████                       | 68708/200000 [00:07<00:13, 9604.50it/s]\n",
      "Average ELBO = 626.8:  35%|████████████▏                      | 69670/200000 [00:07<00:13, 9578.35it/s]\n",
      "Average ELBO = 626.8:  35%|████████████▎                      | 70629/200000 [00:07<00:13, 9579.02it/s]\n",
      "Average ELBO = 626.8:  36%|████████████▌                      | 71588/200000 [00:07<00:13, 9441.47it/s]\n",
      "Average ELBO = 626.8:  36%|████████████▋                      | 72534/200000 [00:07<00:14, 8846.20it/s]\n",
      "Average ELBO = 626.8:  37%|████████████▊                      | 73457/200000 [00:07<00:14, 8948.71it/s]\n",
      "Average ELBO = 626.8:  37%|█████████████                      | 74358/200000 [00:07<00:14, 8834.92it/s]\n",
      "Average ELBO = 626.8:  38%|█████████████▏                     | 75307/200000 [00:08<00:13, 9019.26it/s]\n",
      "Average ELBO = 626.8:  38%|█████████████▎                     | 76269/200000 [00:08<00:13, 9188.13it/s]\n",
      "Average ELBO = 626.8:  39%|█████████████▌                     | 77252/200000 [00:08<00:13, 9369.78it/s]\n",
      "Average ELBO = 626.8:  39%|█████████████▋                     | 78221/200000 [00:08<00:12, 9460.15it/s]\n",
      "Average ELBO = 626.8:  40%|█████████████▊                     | 79170/200000 [00:08<00:12, 9466.29it/s]\n",
      "Average ELBO = 678.96:  40%|█████████████▌                    | 80119/200000 [00:08<00:12, 9416.01it/s]\n",
      "Average ELBO = 678.96:  41%|█████████████▊                    | 81062/200000 [00:08<00:12, 9416.59it/s]\n",
      "Average ELBO = 678.96:  41%|█████████████▉                    | 82005/200000 [00:08<00:12, 9363.63it/s]\n",
      "Average ELBO = 678.96:  41%|██████████████                    | 82961/200000 [00:08<00:12, 9416.63it/s]\n",
      "Average ELBO = 678.96:  42%|██████████████▎                   | 83916/200000 [00:08<00:12, 9453.39it/s]\n",
      "Average ELBO = 678.96:  42%|██████████████▍                   | 84873/200000 [00:09<00:12, 9485.38it/s]\n",
      "Average ELBO = 678.96:  43%|██████████████▌                   | 85832/200000 [00:09<00:12, 9513.68it/s]\n",
      "Average ELBO = 678.96:  43%|██████████████▊                   | 86795/200000 [00:09<00:11, 9545.52it/s]\n",
      "Average ELBO = 678.96:  44%|██████████████▉                   | 87750/200000 [00:09<00:11, 9543.94it/s]\n",
      "Average ELBO = 678.96:  44%|███████████████                   | 88705/200000 [00:09<00:11, 9542.42it/s]\n",
      "Average ELBO = 678.96:  45%|███████████████▏                  | 89663/200000 [00:09<00:11, 9551.50it/s]\n",
      "Average ELBO = 678.96:  45%|███████████████▍                  | 90620/200000 [00:09<00:11, 9554.23it/s]\n",
      "Average ELBO = 678.96:  46%|███████████████▌                  | 91576/200000 [00:09<00:11, 9360.39it/s]\n",
      "Average ELBO = 678.96:  46%|███████████████▋                  | 92513/200000 [00:09<00:11, 9305.66it/s]\n",
      "Average ELBO = 678.96:  47%|███████████████▉                  | 93463/200000 [00:09<00:11, 9360.47it/s]\n",
      "Average ELBO = 678.96:  47%|████████████████                  | 94458/200000 [00:10<00:11, 9527.93it/s]\n",
      "Average ELBO = 678.96:  48%|████████████████▏                 | 95412/200000 [00:10<00:10, 9527.94it/s]\n",
      "Average ELBO = 678.96:  48%|████████████████▍                 | 96367/200000 [00:10<00:10, 9531.77it/s]\n",
      "Average ELBO = 678.96:  49%|████████████████▌                 | 97321/200000 [00:10<00:10, 9393.19it/s]\n",
      "Average ELBO = 678.96:  49%|████████████████▋                 | 98262/200000 [00:10<00:11, 9232.52it/s]\n",
      "Average ELBO = 678.96:  50%|████████████████▊                 | 99210/200000 [00:10<00:10, 9302.18it/s]\n",
      "Average ELBO = 673.63:  50%|████████████████▌                | 100160/200000 [00:10<00:10, 9358.63it/s]\n",
      "Average ELBO = 673.63:  51%|████████████████▋                | 101142/200000 [00:10<00:10, 9489.70it/s]\n",
      "Average ELBO = 673.63:  51%|████████████████▊                | 102116/200000 [00:10<00:10, 9560.69it/s]\n",
      "Average ELBO = 673.63:  52%|█████████████████                | 103116/200000 [00:10<00:10, 9685.49it/s]\n",
      "Average ELBO = 673.63:  52%|█████████████████▏               | 104095/200000 [00:11<00:09, 9713.86it/s]\n",
      "Average ELBO = 673.63:  53%|█████████████████▎               | 105074/200000 [00:11<00:09, 9733.64it/s]\n",
      "Average ELBO = 673.63:  53%|█████████████████▍               | 106048/200000 [00:11<00:09, 9732.75it/s]\n",
      "Average ELBO = 673.63:  54%|█████████████████▋               | 107022/200000 [00:11<00:09, 9731.86it/s]\n",
      "Average ELBO = 673.63:  54%|█████████████████▊               | 107996/200000 [00:11<00:09, 9618.45it/s]\n",
      "Average ELBO = 673.63:  54%|█████████████████▉               | 108959/200000 [00:11<00:09, 9317.65it/s]\n",
      "Average ELBO = 673.63:  55%|██████████████████▏              | 109894/200000 [00:11<00:09, 9297.29it/s]\n",
      "Average ELBO = 673.63:  55%|██████████████████▎              | 110872/200000 [00:11<00:09, 9434.26it/s]\n",
      "Average ELBO = 673.63:  56%|██████████████████▍              | 111859/200000 [00:11<00:09, 9558.23it/s]\n",
      "Average ELBO = 673.63:  56%|██████████████████▌              | 112857/200000 [00:12<00:09, 9678.19it/s]\n",
      "Average ELBO = 673.63:  57%|██████████████████▊              | 113837/200000 [00:12<00:08, 9711.60it/s]\n",
      "Average ELBO = 673.63:  57%|██████████████████▉              | 114810/200000 [00:12<00:08, 9685.76it/s]\n",
      "Average ELBO = 673.63:  58%|███████████████████              | 115780/200000 [00:12<00:08, 9574.58it/s]\n",
      "Average ELBO = 673.63:  58%|███████████████████▎             | 116739/200000 [00:12<00:08, 9548.16it/s]\n",
      "Average ELBO = 673.63:  59%|███████████████████▍             | 117718/200000 [00:12<00:08, 9616.81it/s]\n",
      "Average ELBO = 673.63:  59%|███████████████████▌             | 118683/200000 [00:12<00:08, 9623.90it/s]\n",
      "Average ELBO = 673.63:  60%|███████████████████▋             | 119646/200000 [00:12<00:08, 9623.67it/s]\n",
      "Average ELBO = 671.84:  60%|███████████████████▉             | 120609/200000 [00:12<00:08, 9012.48it/s]\n",
      "Average ELBO = 671.84:  61%|████████████████████             | 121562/200000 [00:12<00:08, 9158.86it/s]\n",
      "Average ELBO = 671.84:  61%|████████████████████▏            | 122541/200000 [00:13<00:08, 9336.84it/s]\n",
      "Average ELBO = 671.84:  62%|████████████████████▎            | 123480/200000 [00:13<00:08, 9135.63it/s]\n",
      "Average ELBO = 671.84:  62%|████████████████████▌            | 124439/200000 [00:13<00:08, 9264.81it/s]\n",
      "Average ELBO = 671.84:  63%|████████████████████▋            | 125405/200000 [00:13<00:07, 9377.24it/s]\n",
      "Average ELBO = 671.84:  63%|████████████████████▊            | 126350/200000 [00:13<00:07, 9396.20it/s]\n",
      "Average ELBO = 671.84:  64%|█████████████████████            | 127332/200000 [00:13<00:07, 9516.58it/s]\n",
      "Average ELBO = 671.84:  64%|█████████████████████▏           | 128310/200000 [00:13<00:07, 9591.45it/s]\n",
      "Average ELBO = 671.84:  65%|█████████████████████▎           | 129279/200000 [00:13<00:07, 9618.00it/s]\n",
      "Average ELBO = 671.84:  65%|█████████████████████▍           | 130256/200000 [00:13<00:07, 9659.38it/s]\n",
      "Average ELBO = 671.84:  66%|█████████████████████▋           | 131228/200000 [00:13<00:07, 9675.56it/s]\n",
      "Average ELBO = 671.84:  66%|█████████████████████▊           | 132197/200000 [00:14<00:07, 9427.47it/s]\n",
      "Average ELBO = 671.84:  67%|█████████████████████▉           | 133171/200000 [00:14<00:07, 9516.44it/s]\n",
      "Average ELBO = 671.84:  67%|██████████████████████▏          | 134148/200000 [00:14<00:06, 9588.32it/s]\n",
      "Average ELBO = 671.84:  68%|██████████████████████▎          | 135137/200000 [00:14<00:06, 9674.08it/s]\n",
      "Average ELBO = 671.84:  68%|██████████████████████▍          | 136109/200000 [00:14<00:06, 9684.95it/s]\n",
      "Average ELBO = 671.84:  69%|██████████████████████▌          | 137102/200000 [00:14<00:06, 9755.15it/s]\n",
      "Average ELBO = 671.84:  69%|██████████████████████▊          | 138088/200000 [00:14<00:06, 9782.71it/s]\n",
      "Average ELBO = 671.84:  70%|██████████████████████▉          | 139067/200000 [00:14<00:06, 9782.02it/s]\n",
      "Average ELBO = 670.96:  70%|███████████████████████          | 140046/200000 [00:14<00:06, 9752.84it/s]\n",
      "Average ELBO = 670.96:  71%|███████████████████████▎         | 141022/200000 [00:14<00:06, 9752.08it/s]\n",
      "Average ELBO = 670.96:  71%|███████████████████████▍         | 142007/200000 [00:15<00:05, 9778.40it/s]\n",
      "Average ELBO = 670.96:  71%|███████████████████████▌         | 142987/200000 [00:15<00:05, 9781.86it/s]\n",
      "Average ELBO = 670.96:  72%|███████████████████████▊         | 143980/200000 [00:15<00:05, 9823.10it/s]\n",
      "Average ELBO = 670.96:  72%|███████████████████████▉         | 144963/200000 [00:15<00:05, 9764.84it/s]\n",
      "Average ELBO = 670.96:  73%|████████████████████████         | 145940/200000 [00:15<00:05, 9763.40it/s]\n",
      "Average ELBO = 670.96:  73%|████████████████████████▏        | 146917/200000 [00:15<00:05, 9733.95it/s]\n",
      "Average ELBO = 670.96:  74%|████████████████████████▍        | 147895/200000 [00:15<00:05, 9744.84it/s]\n",
      "Average ELBO = 670.96:  74%|████████████████████████▌        | 148870/200000 [00:15<00:05, 9743.43it/s]\n",
      "Average ELBO = 670.96:  75%|████████████████████████▋        | 149845/200000 [00:15<00:05, 9657.31it/s]\n",
      "Average ELBO = 670.96:  75%|████████████████████████▉        | 150811/200000 [00:15<00:05, 9570.74it/s]\n",
      "Average ELBO = 670.96:  76%|█████████████████████████        | 151787/200000 [00:16<00:05, 9624.04it/s]\n",
      "Average ELBO = 670.96:  76%|█████████████████████████▏       | 152750/200000 [00:16<00:04, 9622.98it/s]\n",
      "Average ELBO = 670.96:  77%|█████████████████████████▎       | 153727/200000 [00:16<00:04, 9663.30it/s]\n",
      "Average ELBO = 670.96:  77%|█████████████████████████▌       | 154706/200000 [00:16<00:04, 9698.63it/s]\n",
      "Average ELBO = 670.96:  78%|█████████████████████████▋       | 155677/200000 [00:16<00:04, 9671.52it/s]\n",
      "Average ELBO = 670.96:  78%|█████████████████████████▊       | 156666/200000 [00:16<00:04, 9732.44it/s]\n",
      "Average ELBO = 670.96:  79%|██████████████████████████       | 157646/200000 [00:16<00:04, 9749.76it/s]\n",
      "Average ELBO = 670.96:  79%|██████████████████████████▏      | 158626/200000 [00:16<00:04, 9762.65it/s]\n",
      "Average ELBO = 670.96:  80%|██████████████████████████▎      | 159603/200000 [00:16<00:04, 9761.21it/s]\n",
      "Average ELBO = 671.83:  80%|██████████████████████████▍      | 160580/200000 [00:16<00:04, 9760.97it/s]\n",
      "Average ELBO = 671.83:  81%|██████████████████████████▋      | 161557/200000 [00:17<00:03, 9760.82it/s]\n",
      "Average ELBO = 671.83:  81%|██████████████████████████▊      | 162537/200000 [00:17<00:03, 9769.44it/s]\n",
      "Average ELBO = 671.83:  82%|██████████████████████████▉      | 163514/200000 [00:17<00:03, 9766.92it/s]\n",
      "Average ELBO = 671.83:  82%|███████████████████████████▏     | 164491/200000 [00:17<00:03, 9540.29it/s]\n",
      "Average ELBO = 671.83:  83%|███████████████████████████▎     | 165447/200000 [00:17<00:03, 9543.46it/s]\n",
      "Average ELBO = 671.83:  83%|███████████████████████████▍     | 166403/200000 [00:17<00:03, 9546.38it/s]\n",
      "Average ELBO = 671.83:  84%|███████████████████████████▌     | 167359/200000 [00:17<00:03, 9546.86it/s]\n",
      "Average ELBO = 671.83:  84%|███████████████████████████▊     | 168330/200000 [00:17<00:03, 9592.42it/s]\n",
      "Average ELBO = 671.83:  85%|███████████████████████████▉     | 169290/200000 [00:17<00:03, 9135.39it/s]\n",
      "Average ELBO = 671.83:  85%|████████████████████████████     | 170209/200000 [00:18<00:03, 8990.60it/s]\n",
      "Average ELBO = 671.83:  86%|████████████████████████████▏    | 171155/200000 [00:18<00:03, 9123.71it/s]\n",
      "Average ELBO = 671.83:  86%|████████████████████████████▍    | 172110/200000 [00:18<00:03, 9245.03it/s]\n",
      "Average ELBO = 671.83:  87%|████████████████████████████▌    | 173069/200000 [00:18<00:02, 9342.37it/s]\n",
      "Average ELBO = 671.83:  87%|████████████████████████████▋    | 174044/200000 [00:18<00:02, 9459.12it/s]\n",
      "Average ELBO = 671.83:  88%|████████████████████████████▉    | 175021/200000 [00:18<00:02, 9547.54it/s]\n",
      "Average ELBO = 671.83:  88%|█████████████████████████████    | 176003/200000 [00:18<00:02, 9624.92it/s]\n",
      "Average ELBO = 671.83:  88%|█████████████████████████████▏   | 176967/200000 [00:18<00:02, 9459.65it/s]\n",
      "Average ELBO = 671.83:  89%|█████████████████████████████▎   | 177915/200000 [00:18<00:02, 9463.76it/s]\n",
      "Average ELBO = 671.83:  89%|█████████████████████████████▌   | 178887/200000 [00:18<00:02, 9535.65it/s]\n",
      "Average ELBO = 671.83:  90%|█████████████████████████████▋   | 179862/200000 [00:19<00:02, 9596.23it/s]\n",
      "Average ELBO = 671.7:  90%|██████████████████████████████▋   | 180860/200000 [00:19<00:01, 9706.20it/s]\n",
      "Average ELBO = 671.7:  91%|██████████████████████████████▉   | 181852/200000 [00:19<00:01, 9765.59it/s]\n",
      "Average ELBO = 671.7:  91%|███████████████████████████████   | 182835/200000 [00:19<00:01, 9782.09it/s]\n",
      "Average ELBO = 671.7:  92%|███████████████████████████████▏  | 183814/200000 [00:19<00:01, 9696.77it/s]\n",
      "Average ELBO = 671.7:  92%|███████████████████████████████▍  | 184785/200000 [00:19<00:01, 9697.14it/s]\n",
      "Average ELBO = 671.7:  93%|███████████████████████████████▌  | 185756/200000 [00:19<00:01, 9670.46it/s]\n",
      "Average ELBO = 671.7:  93%|███████████████████████████████▋  | 186724/200000 [00:19<00:01, 9642.08it/s]\n",
      "Average ELBO = 671.7:  94%|███████████████████████████████▉  | 187689/200000 [00:19<00:01, 9640.74it/s]\n",
      "Average ELBO = 671.7:  94%|████████████████████████████████  | 188654/200000 [00:19<00:01, 9556.37it/s]\n",
      "Average ELBO = 671.7:  95%|████████████████████████████████▏ | 189641/200000 [00:20<00:01, 9645.64it/s]\n",
      "Average ELBO = 671.7:  95%|████████████████████████████████▍ | 190606/200000 [00:20<00:00, 9559.75it/s]\n",
      "Average ELBO = 671.7:  96%|████████████████████████████████▌ | 191563/200000 [00:20<00:00, 9559.91it/s]\n",
      "Average ELBO = 671.7:  96%|████████████████████████████████▋ | 192535/200000 [00:20<00:00, 9604.67it/s]\n",
      "Average ELBO = 671.7:  97%|████████████████████████████████▉ | 193504/200000 [00:20<00:00, 9627.28it/s]\n",
      "Average ELBO = 671.7:  97%|█████████████████████████████████ | 194471/200000 [00:20<00:00, 9635.87it/s]\n",
      "Average ELBO = 671.7:  98%|█████████████████████████████████▏| 195440/200000 [00:20<00:00, 9651.33it/s]\n",
      "Average ELBO = 671.7:  98%|█████████████████████████████████▍| 196414/200000 [00:20<00:00, 9673.95it/s]\n",
      "Average ELBO = 671.7:  99%|█████████████████████████████████▌| 197397/200000 [00:20<00:00, 9717.59it/s]\n",
      "Average ELBO = 671.7:  99%|█████████████████████████████████▋| 198369/200000 [00:20<00:00, 9715.41it/s]\n",
      "Average ELBO = 671.7: 100%|█████████████████████████████████▉| 199342/200000 [00:21<00:00, 9716.92it/s]\n",
      "Average ELBO = 671.7: 100%|██████████████████████████████████| 200000/200000 [00:21<00:00, 9481.74it/s]Finished [100%]: Average ELBO = 671.05\n",
      "\n",
      "  0%|                                                                          | 0/200 [00:00<?, ?it/s]\n",
      "  6%|███▉                                                             | 12/200 [00:00<00:02, 78.88it/s]\n",
      " 11%|███████▏                                                         | 22/200 [00:00<00:02, 80.80it/s]\n",
      " 18%|███████████▍                                                     | 35/200 [00:00<00:02, 78.77it/s]\n",
      " 22%|██████████████▋                                                  | 45/200 [00:00<00:01, 77.57it/s]\n",
      " 26%|████████████████▌                                                | 51/200 [00:00<00:02, 50.09it/s]\n",
      " 30%|███████████████████▌                                             | 60/200 [00:01<00:02, 47.75it/s]\n",
      " 36%|███████████████████████▋                                         | 73/200 [00:01<00:02, 58.46it/s]\n",
      " 40%|██████████████████████████▎                                      | 81/200 [00:01<00:01, 60.47it/s]\n",
      " 48%|███████████████████████████████▏                                 | 96/200 [00:01<00:01, 70.59it/s]\n",
      " 54%|██████████████████████████████████▌                             | 108/200 [00:01<00:01, 73.81it/s]\n",
      " 62%|███████████████████████████████████████▎                        | 123/200 [00:01<00:00, 84.05it/s]\n",
      " 66%|██████████████████████████████████████████▌                     | 133/200 [00:01<00:00, 74.84it/s]\n",
      " 72%|██████████████████████████████████████████████▍                 | 145/200 [00:01<00:00, 82.16it/s]\n",
      " 78%|█████████████████████████████████████████████████▌              | 155/200 [00:02<00:00, 49.63it/s]\n",
      " 82%|████████████████████████████████████████████████████▊           | 165/200 [00:02<00:00, 57.08it/s]\n",
      " 90%|█████████████████████████████████████████████████████████▎      | 179/200 [00:02<00:00, 59.25it/s]\n",
      " 95%|████████████████████████████████████████████████████████████▊   | 190/200 [00:02<00:00, 68.76it/s]\n",
      "100%|███████████████████████████████████████████████████████████████▋| 199/200 [00:02<00:00, 73.62it/s]\n",
      "100%|████████████████████████████████████████████████████████████████| 200/200 [00:02<00:00, 70.59it/s]"
     ]
    },
    {
     "data": {
      "text/plain": [
       "<MultiTrace: 1 chains, 200 iterations, 6 variables>"
      ]
     },
     "execution_count": 10,
     "metadata": {},
     "output_type": "execute_result"
    }
   ],
   "source": [
    "def get_part_probability(label, part, samples):\n",
    "    param_probs = list(map(\n",
    "        lambda param: glms[label][part][param].logp(sample),\n",
    "        list(samples)\n",
    "    ))\n",
    "    return param_probs\n",
    "\n",
    "def get_trace(label, part, param, in_data):\n",
    "    with glms[label][part][param]:\n",
    "        trace = pm.sample(in_data.shape[0], start=testData[0][1])\n",
    "    return trace\n",
    "\n",
    "with glms[0][1]['x']:\n",
    "    trace = pm.sample(200)\n",
    "trace"
   ]
  },
  {
   "cell_type": "code",
   "execution_count": 12,
   "metadata": {
    "collapsed": true
   },
   "outputs": [],
   "source": [
    "from pymc3 import traceplot\n",
    "import matplotlib.pyplot as plt\n",
    "\n",
    "traceplot(trace);"
   ]
  }
 ],
 "metadata": {
  "kernelspec": {
   "display_name": "Python 3",
   "language": "python",
   "name": "python3"
  },
  "language_info": {
   "codemirror_mode": {
    "name": "ipython",
    "version": 3
   },
   "file_extension": ".py",
   "mimetype": "text/x-python",
   "name": "python",
   "nbconvert_exporter": "python",
   "pygments_lexer": "ipython3",
   "version": "3.6.0"
  }
 },
 "nbformat": 4,
 "nbformat_minor": 2
}
