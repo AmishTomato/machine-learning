{
 "cells": [
  {
   "cell_type": "code",
   "execution_count": 3,
   "metadata": {
    "collapsed": true,
    "deletable": true,
    "editable": true
   },
   "outputs": [],
   "source": [
    "import numpy as np"
   ]
  },
  {
   "cell_type": "code",
   "execution_count": 9,
   "metadata": {
    "collapsed": false,
    "deletable": true,
    "editable": true
   },
   "outputs": [
    {
     "name": "stdout",
     "output_type": "stream",
     "text": [
      "[[-0.98854876+1.02606198j -0.55253148-0.64805464j  1.96501699+0.63233206j\n",
      "  -1.08808532-0.14117069j -1.42120610-1.47944647j -0.59206037-1.06048413j]\n",
      " [-0.60473538-0.27656937j -1.69476868-0.50142373j -0.53739597+0.8812741j\n",
      "   0.15669241-0.06877108j -0.17283684+0.18605598j -0.20668502+0.37237978j]\n",
      " [-1.47738275-0.39020157j  1.78440480+0.06758253j -0.11983219-0.18248063j\n",
      "  -0.26180410-0.2030266j  -0.27011346-1.96587172j -0.33899384+0.4925406j ]\n",
      " [ 0.14388832-0.81284665j -1.09610002-1.70962769j -0.83073066-0.29248835j\n",
      "   0.71584402+0.8272367j  -1.54343899-0.74688764j  0.61212349+1.05362058j]\n",
      " [ 0.68059039-0.30145022j  0.92345268-0.19943116j  1.24133279+1.43710682j\n",
      "  -0.69621892-0.31318654j  0.42991779+0.36390114j -0.68712524-0.25809401j]\n",
      " [-0.83610651+0.83522899j -0.31804831+1.8677485j   1.77278307-0.37496025j\n",
      "  -0.27817947-1.92246861j -0.58884274+0.73685619j -1.35261817+0.57179229j]\n",
      " [ 1.41840617-0.31589177j -1.18519527+0.35367878j  0.13833523+0.76913139j\n",
      "  -1.75785300-2.38920454j -0.16385171+1.01463203j -0.68615997-1.60721949j]\n",
      " [-0.85233260-0.28114225j  0.95953007-1.61113254j  0.38686413+0.74116373j\n",
      "  -0.66272037-1.00393984j  1.41467246+0.00732384j -1.20301014+0.75086951j]\n",
      " [-0.31130985+0.48176352j  0.42156562+0.55902401j  0.83168455+0.29735865j\n",
      "   0.80460791-0.07426282j -0.88385957-0.23888155j  0.96659703-0.18167084j]]\n"
     ]
    }
   ],
   "source": [
    "a = np.random.randn(9, 6) + 1j*np.random.randn(9, 6)\n",
    "print (a)"
   ]
  },
  {
   "cell_type": "markdown",
   "metadata": {
    "deletable": true,
    "editable": true
   },
   "source": [
    "### Reconstruction based on full SVD:"
   ]
  },
  {
   "cell_type": "code",
   "execution_count": 10,
   "metadata": {
    "collapsed": false,
    "deletable": true,
    "editable": true
   },
   "outputs": [
    {
     "name": "stdout",
     "output_type": "stream",
     "text": [
      "(9, 9) (6, 6) (6,)\n",
      "[[ 6.03806466+0.j  0.00000000+0.j  0.00000000+0.j  0.00000000+0.j\n",
      "   0.00000000+0.j  0.00000000+0.j]\n",
      " [ 0.00000000+0.j  4.96576278+0.j  0.00000000+0.j  0.00000000+0.j\n",
      "   0.00000000+0.j  0.00000000+0.j]\n",
      " [ 0.00000000+0.j  0.00000000+0.j  4.04486470+0.j  0.00000000+0.j\n",
      "   0.00000000+0.j  0.00000000+0.j]\n",
      " [ 0.00000000+0.j  0.00000000+0.j  0.00000000+0.j  2.84177188+0.j\n",
      "   0.00000000+0.j  0.00000000+0.j]\n",
      " [ 0.00000000+0.j  0.00000000+0.j  0.00000000+0.j  0.00000000+0.j\n",
      "   2.29875628+0.j  0.00000000+0.j]\n",
      " [ 0.00000000+0.j  0.00000000+0.j  0.00000000+0.j  0.00000000+0.j\n",
      "   0.00000000+0.j  1.55933266+0.j]\n",
      " [ 0.00000000+0.j  0.00000000+0.j  0.00000000+0.j  0.00000000+0.j\n",
      "   0.00000000+0.j  0.00000000+0.j]\n",
      " [ 0.00000000+0.j  0.00000000+0.j  0.00000000+0.j  0.00000000+0.j\n",
      "   0.00000000+0.j  0.00000000+0.j]\n",
      " [ 0.00000000+0.j  0.00000000+0.j  0.00000000+0.j  0.00000000+0.j\n",
      "   0.00000000+0.j  0.00000000+0.j]]\n"
     ]
    }
   ],
   "source": [
    "import numpy as np\n",
    "\n",
    "U, s, V = np.linalg.svd(a, full_matrices=True)\n",
    "print (U.shape, V.shape, s.shape)\n",
    "S = np.zeros((9, 6), dtype=complex)\n",
    "S[:6, :6] = np.diag(s)\n",
    "np.allclose(a, np.dot(U, np.dot(S, V)))\n",
    "print (S)\n",
    "\n",
    "S."
   ]
  },
  {
   "cell_type": "markdown",
   "metadata": {
    "deletable": true,
    "editable": true
   },
   "source": [
    "Reconstruction based on reduced SVD:"
   ]
  },
  {
   "cell_type": "code",
   "execution_count": 9,
   "metadata": {
    "collapsed": false,
    "deletable": true,
    "editable": true
   },
   "outputs": [
    {
     "name": "stdout",
     "output_type": "stream",
     "text": [
      "(9, 6) (6, 6) (6,)\n",
      "[[ 5.90496254  0.          0.          0.          0.          0.        ]\n",
      " [ 0.          5.0067991   0.          0.          0.          0.        ]\n",
      " [ 0.          0.          3.95907068  0.          0.          0.        ]\n",
      " [ 0.          0.          0.          3.57215693  0.          0.        ]\n",
      " [ 0.          0.          0.          0.          2.10829263  0.        ]\n",
      " [ 0.          0.          0.          0.          0.          1.38432245]]\n"
     ]
    }
   ],
   "source": [
    "U, s, V = np.linalg.svd(a, full_matrices=False)\n",
    "print U.shape, V.shape, s.shape\n",
    "S = np.diag(s)\n",
    "print S"
   ]
  },
  {
   "cell_type": "code",
   "execution_count": null,
   "metadata": {
    "collapsed": true,
    "deletable": true,
    "editable": true
   },
   "outputs": [],
   "source": [
    "import numpy as np\n",
    "\n",
    "def lsqsvd (A, b , eps=1e−6) :\n",
    "    U, s ,Vh = svd (A)\n",
    "    r = 1+where ( s / s [0] > eps ) [ 0 ] . max ( ) # numerical rank\n",
    "    y = dot (Vh [ : , : r ] . T, dot (U [ : , : r ] . T, b ) / s [ : r ] )\n",
    "    return y"
   ]
  }
 ],
 "metadata": {
  "kernelspec": {
   "display_name": "pgmpy35x1",
   "language": "python",
   "name": "pgmpy35x1"
  },
  "language_info": {
   "codemirror_mode": {
    "name": "ipython",
    "version": 3
   },
   "file_extension": ".py",
   "mimetype": "text/x-python",
   "name": "python",
   "nbconvert_exporter": "python",
   "pygments_lexer": "ipython3",
   "version": "3.5.2"
  }
 },
 "nbformat": 4,
 "nbformat_minor": 0
}
