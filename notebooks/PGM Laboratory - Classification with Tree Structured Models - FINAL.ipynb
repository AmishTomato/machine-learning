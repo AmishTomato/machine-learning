{
 "cells": [
  {
   "cell_type": "markdown",
   "metadata": {},
   "source": [
    "# PGM Laboratory: Classification with Tree Structured Models"
   ]
  },
  {
   "cell_type": "markdown",
   "metadata": {},
   "source": [
    "Author: Aaron Helmers\n",
    "\n",
    "This notebook requires:\n",
    "* numpy  \n",
    "* pandas  \n",
    "* scipy  \n",
    "* pymc3  \n",
    "* patsy  \n",
    "\n",
    "**warning**: pymc3 can be difficult to install. I was able to get it installed with [these instructions](http://stackoverflow.com/questions/42728877/using-pymc3-on-windows-10-theano-cannot-import-name-floatx?noredirect=1#comment72639271_42728877) along with [these instructions](http://deeplearning.net/software/theano/install_windows.html) taking the updated theanos from the former instruction set over the later."
   ]
  },
  {
   "cell_type": "markdown",
   "metadata": {},
   "source": [
    "## Problem statement\n",
    "This laboratory comes from Daphne Kollor's Stanford Course on Probabalistic Graphical Models (PGM).\n",
    "\n",
    "The goal is to be able to classify a body based on its pose. To do this, we have access to data for 10 different parts of the body: torso (0), head(1), left arm (2), left forearm (3), right arm (4), right forearm (5), left thigh (6), left leg (7), right thigh (8), and right leg (9). For each body part we also have access to 3 parameters: Y position, X position, and rotation (alpha).\n",
    "\n",
    "The laboratory juxtaposes 2 methods of using this data to classify the body: A naive bayes model, and a conditional linear gaussian model (CLG)."
   ]
  },
  {
   "cell_type": "markdown",
   "metadata": {},
   "source": [
    "## Load Data\n",
    "The data we are loading was originally meant for matlab. To load the data, we will use scipy's io capabilities. The result of the load is a dictionary, where each key->value represents matrix_name->matrix. The matricies we are loading are:\n",
    "* G1: The tree structure of a regular bayesian network, where each body part has only the body classification (class priors) as it's parent node.\n",
    "* G2: The tree structure representing bodily connections for the CLG method of classification. This is to say that each body part, besides the torso, has another body part as a parent to learn from. all body parts also have the body classification as a parent. The structure of the data is [body_part][parent_type, parent].\n",
    "* trainData / testData: The actual input data for our use. The structure of the data is [sample][body_part][parameter].\n",
    "\n",
    "scipy.io loads the data strangly (there are extra, unneeded dimensions prepended), so we also extract it to the expected format listed above."
   ]
  },
  {
   "cell_type": "code",
   "execution_count": 1,
   "metadata": {
    "collapsed": false
   },
   "outputs": [
    {
     "name": "stdout",
     "output_type": "stream",
     "text": [
      "['__header__', '__version__', '__globals__', 'G1', 'G2', 'trainData', 'testData']\n"
     ]
    }
   ],
   "source": [
    "import scipy.io as sio\n",
    "\n",
    "data = sio.loadmat('data/PA8Data.mat')\n",
    "data['trainData'] = data['trainData'][0][0]\n",
    "data['testData'] = data['testData'][0][0]\n",
    "print (list(data))"
   ]
  },
  {
   "cell_type": "markdown",
   "metadata": {},
   "source": [
    "Next, we want to convert from 1d numpy arrays to pandas dataframes. Since DataFrames must be 2D, we will create a dictionary from body_part->(sample, parameters)"
   ]
  },
  {
   "cell_type": "code",
   "execution_count": 2,
   "metadata": {
    "collapsed": false
   },
   "outputs": [
    {
     "name": "stdout",
     "output_type": "stream",
     "text": [
      "Training Data (class=human(0), part=head(1)):\n",
      "           y          x     alpha\n",
      "0  22.977837   8.273512 -6.145974\n",
      "1   8.363819  -1.982919 -0.115858\n",
      "2  21.482629  38.584170 -6.267717\n",
      "3 -19.544711 -24.646000 -5.760630\n",
      "4  18.078155   8.942255 -5.676765\n",
      "\n",
      "Testing Data (class=human(0), part=head(1)):\n",
      "           y          x     alpha\n",
      "0   0.688736  -9.333963 -0.374123\n",
      "1  27.601101 -19.407871 -0.465951\n",
      "2  19.320989  -6.411027 -0.481047\n",
      "3 -23.182955  -1.804526 -6.082243\n",
      "4 -19.615777  18.688371 -5.888298\n"
     ]
    }
   ],
   "source": [
    "import pandas as pd\n",
    "import numpy as np\n",
    "# reshape input data from [s,b,p] to {b, df(s,p)}\n",
    "def reshape_data(samples):\n",
    "    # convert from [s][b][p] to [s,b,p]\n",
    "    retData = np.array(list(map(\n",
    "        lambda sample: np.array(np.array(sample)),\n",
    "        samples\n",
    "    )))\n",
    "    # convert from [s,b,p] to [b,s,p]\n",
    "    retData = np.swapaxes(retData, 0, 1)\n",
    "    # convert from [b,s,p] to {b: df(s,p)}\n",
    "    retData = dict(map(\n",
    "        lambda part_index: (part_index, pd.DataFrame(retData[part_index,:,:])),\n",
    "        range(0, retData.shape[0])\n",
    "    ))\n",
    "    # give each DF proper column names\n",
    "    for part in retData: \n",
    "        retData[part].columns = ['y', 'x', 'alpha']\n",
    "    return retData\n",
    "\n",
    "trainData = list(map(\n",
    "    lambda label: reshape_data(\n",
    "        data['trainData']['data'][np.where(data['trainData']['labels'][:,0] == label)]\n",
    "    ), [0, 1]\n",
    "))\n",
    "testData = list(map(\n",
    "    lambda label: reshape_data(\n",
    "        data['testData']['data'][np.where(data['testData']['labels'][:,0] == label)]\n",
    "    ), [0, 1]\n",
    "    \n",
    "))\n",
    "\n",
    "print(\"Training Data (class=human(0), part=head(1)):\")\n",
    "print(trainData[0][1][:5])\n",
    "print(\"\\nTesting Data (class=human(0), part=head(1)):\")\n",
    "print(testData[0][1][:5])"
   ]
  },
  {
   "cell_type": "markdown",
   "metadata": {},
   "source": [
    "## Develop Model\n",
    "For the purpose of this laboratory, only the CLG method will be explored (G2). Originally G1 was included to juxtapose the naive bayes method with the CLG method.\n",
    "\n",
    "The CLG method can be seen as determining the probability of a classification for the body by finding the probability of all body parts having that classification. Subsequently, each body part determine's it's probability of classification based on learned linear gaussian's whose mean is a linear combination the the classes prior probability the parent body part's parameters.\n",
    "\n",
    "While doing research to complete this laboratory, 3 ways were found to fulfil the requirements:\n",
    "\n",
    "1) The hardest is to write the models manually, which includes the writing of a method to solve the linear systems for each body_part-parameter-classification combination, or 60 linear systems in total. Then follow this up by writing a method to compute the log-likelihood for a testing sample to classify.  \n",
    "\n",
    "2) pgmpy could be used to make life easier by creating a LinearGaussianCPD model for each body_part-parameter-classification combination. The benifit of this is that it makes the calculation of the log-likelihood much simpler by providing the probability of classification for each model. These models would then just have to be combined to compute the probability of classification. To create these models, however, we would still need to compute the parameters for each gaussian, which is a significant amount of work.  \n",
    "\n",
    "3) pymc3 was then discovered which was capable of providing Generalized Linear Models (GLMs), which is precisely what we are looking to create. These take the capability of pgmpy above, but abstract away the work required to learn the gaussian parameters.      \n",
    "\n",
    "Since pymc3 abstracts a lot of the complicated work away, it was used to solve our problems."
   ]
  },
  {
   "cell_type": "markdown",
   "metadata": {},
   "source": [
    "### 1) Reformulate Data Into Linear Gaussian Form\n",
    "In order to utilize Pymc3, we need to reformulate each of our samples into (y<sub>parent</sub>, x<sub>parent</sub>, alpha<sub>parent</sub>, answer) form. This will allow us to have Pymc3 create models for each body part's parameter. The offset parameter is automatically calculated for us by Pymc3."
   ]
  },
  {
   "cell_type": "code",
   "execution_count": 3,
   "metadata": {
    "collapsed": false
   },
   "outputs": [
    {
     "name": "stdout",
     "output_type": "stream",
     "text": [
      "Parameterized Training Data (class=human(0), part=head(1)):\n",
      "      alpha  intercept   p_alpha        p_x        p_y          x          y\n",
      "0 -6.145974   0.488889 -6.145974   8.273512  22.977837   8.273512  22.977837\n",
      "1 -0.115858   0.488889 -0.115858  -1.982919   8.363819  -1.982919   8.363819\n",
      "2 -6.267717   0.488889 -6.267717  38.584170  21.482629  38.584170  21.482629\n",
      "3 -5.760630   0.488889 -5.760630 -24.646000 -19.544711 -24.646000 -19.544711\n",
      "4 -5.676765   0.488889 -5.676765   8.942255  18.078155   8.942255  18.078155\n",
      "\n",
      "Parameterized Testing Data (class=alien(1), part=right_leg(9)):\n",
      "      alpha  intercept   p_alpha        p_x        p_y          x           y\n",
      "0 -2.784688   0.511111 -5.659289  -8.290587 -30.099826 -27.125302   80.679541\n",
      "1 -3.467803   0.511111 -0.168724 -26.986419 -35.347895  -2.146990   71.836016\n",
      "2 -2.818784   0.511111 -6.181410   9.526765  22.749323 -30.957147  127.921171\n",
      "3 -3.585914   0.511111 -6.281134   2.292619 -21.035900  42.804573   79.490427\n",
      "4 -3.184570   0.511111 -0.079682  -5.427882   6.020575   0.780237  118.510580\n"
     ]
    }
   ],
   "source": [
    "def as_paramed(data_in, class_prior):\n",
    "    return dict(map(\n",
    "        lambda part_index: (part_index, pd.DataFrame({\n",
    "            'intercept': class_prior,\n",
    "            'p_x': 0 if part_index == 0 else data_in[data['G2'][1,1]]['x'],\n",
    "            'p_y': 0 if part_index == 0 else data_in[data['G2'][1,1]]['y'],\n",
    "            'p_alpha':data_in[data['G2'][1,1]]['alpha'],\n",
    "            'x': data_in[part_index]['x'],\n",
    "            'y': data_in[part_index]['y'],\n",
    "            'alpha': data_in[part_index]['alpha']\n",
    "        })),\n",
    "        range(0, len(data_in))\n",
    "    ))\n",
    "\n",
    "trainDataParamed = list(map(\n",
    "    lambda label: as_paramed(\n",
    "        trainData[label],\n",
    "        trainData[label][0].shape[0] / data['trainData']['data'].shape[0]\n",
    "    ), [0, 1]\n",
    "))\n",
    "testDataParamed = list(map(\n",
    "    lambda label: as_paramed(\n",
    "        testData[label],\n",
    "        testData[label][0].shape[0] / data['trainData']['data'].shape[0]\n",
    "    ), [0, 1]\n",
    "))\n",
    "\n",
    "print('Parameterized Training Data (class=human(0), part=head(1)):')\n",
    "print(trainDataParamed[0][1][:5])\n",
    "print('\\nParameterized Testing Data (class=alien(1), part=right_leg(9)):')\n",
    "print(trainDataParamed[1][9][:5])"
   ]
  },
  {
   "cell_type": "markdown",
   "metadata": {},
   "source": [
    "### 2) Build Pymc3 Generalized Linear Models\n",
    "We are going to start by building GLMs for each body part and classification, resulting in 20 GLMs in total. A normal probability distribution is assumed."
   ]
  },
  {
   "cell_type": "code",
   "execution_count": null,
   "metadata": {
    "collapsed": false
   },
   "outputs": [],
   "source": [
    "import pymc3 as pm\n",
    "from theano import shared\n",
    "\n",
    "def generate_param_distro(label, part, param, sample_count):\n",
    "    samples = trainDataParamed[label][part]\n",
    "    means = samples.mean()\n",
    "    stds = samples.std()\n",
    "    print ('Generating for [%s,%s,%s]' % (label, part, param))\n",
    "    with pm.Model() as model:\n",
    "        if (part == 0): # is root, has no parent. distro defined directly by observed\n",
    "            sigma = pm.Normal('sigma', samples[param].std(), 1)\n",
    "            dist = pm.Normal(param, samples[param].mean(), samples[param].std())\n",
    "        else:    \n",
    "            #priors\n",
    "            intercept = pm.Normal('intercept', mu=means[param], sd=stds[param])\n",
    "            b_p_y = pm.Normal('p_y', mu=means['p_y'], sd=stds['p_y'])\n",
    "            b_p_x = pm.Normal('p_x', mu=means['p_x'], sd=stds['p_x'])\n",
    "            b_p_alpha = pm.Normal('p_alpha', mu=means['p_alpha'], sd=stds['p_alpha'])\n",
    "            sigma = pm.HalfNormal('sigma', sd=1)\n",
    "            # expected value of outcome\n",
    "            mu = intercept + b_p_y*samples['p_y'].values + b_p_x*samples['p_x'].values + b_p_alpha*samples['p_alpha'].values\n",
    "            # build/infer distribution\n",
    "        trace = pm.sample(sample_count)\n",
    "    return trace\n",
    "\n",
    "def generate_body_distros(label, part, sample_count):\n",
    "    return dict(map(\n",
    "        lambda param: (param, generate_param_distro(label, part, param, sample_count)),\n",
    "        ['y', 'x', 'alpha']\n",
    "    ))\n",
    "\n",
    "# Generate distributions as [{part: {param: model}}] where index is a classification (0, 1)\n",
    "glms = list(map(\n",
    "    lambda label: dict(map(\n",
    "        lambda part: (part, generate_body_distros(label, part, 5000)),\n",
    "        range(0, len(trainData[label]))\n",
    "    )),\n",
    "    [0, 1]\n",
    "))\n",
    "\n",
    "# Display\n",
    "print ('Trace distributions for (label=human, part=head):')\n",
    "# print (glms[0][1]['y'])"
   ]
  },
  {
   "cell_type": "markdown",
   "metadata": {},
   "source": [
    "### 3) Define logic for prediction\n",
    "First, we need the prediction logic."
   ]
  },
  {
   "cell_type": "code",
   "execution_count": 78,
   "metadata": {
    "collapsed": false
   },
   "outputs": [],
   "source": [
    "import scipy as sp\n",
    "from math import *\n",
    "\n",
    "def sample_mean(param, coeffs, variables, is_root=False):\n",
    "    if (is_root): # part is root, mean is only dependant on value\n",
    "        mu = variables[param]\n",
    "    else:\n",
    "        mu = coeffs['intercept'] + coeffs['p_y']*variables['p_y'] + coeffs['p_x']*variables['p_x'] + coeffs['p_alpha']*variables['p_alpha']\n",
    "    return mu\n",
    "\n",
    "def param_posterior(label, part, param, variables):\n",
    "    distro_stats = pm.df_summary(glms[label][part][param])['mean']\n",
    "    mean = sample_mean(param, distro_stats, variables, part == 0)\n",
    "    distro = sp.stats.norm.logpdf(variables[param], loc=mean, scale=distro_stats['sigma'])    \n",
    "    return distro\n",
    "\n",
    "def part_posterior(label, part, variables):\n",
    "    x_prob = param_posterior(label, part, 'x', variables)\n",
    "    y_prob = param_posterior(label, part, 'y', variables)\n",
    "    alpha_prob = param_posterior(label, part, 'alpha', variables)\n",
    "    return x_prob + y_prob + alpha_prob\n",
    "\n",
    "def class_posterior(label, variables):\n",
    "    class_prior = variables.loc[0]['intercept']\n",
    "    part_probs = list(map(\n",
    "        lambda part: part_posterior(label, part, variables.loc[part]) * log(class_prior),\n",
    "        range(0, 10)\n",
    "    ))\n",
    "    return sum(part_probs)\n",
    "\n",
    "def predict_class(variables):\n",
    "    post0 = class_posterior(0, variables)\n",
    "    post1 = class_posterior(1, variables)\n",
    "    normalizer = post0 + post1\n",
    "    post0 = post0 / normalizer\n",
    "    post1 = post1 / normalizer\n",
    "    return (0 if (post0 >= post1) else 1, post0, post1)\n",
    "\n",
    "def predict_one(sample):\n",
    "    prediction = predict_class(sample['data'])\n",
    "    sample['prediction'] = prediction[0]\n",
    "    sample['probabilities'] = [prediction[1], prediction[2]]\n",
    "    return sample\n",
    "\n",
    "def predict_all(samples):\n",
    "    return list(map(\n",
    "        lambda sample: predict_one(sample),\n",
    "        samples   \n",
    "    ))"
   ]
  },
  {
   "cell_type": "markdown",
   "metadata": {},
   "source": [
    "Now we need to format our data into a way were we can index by sample instead of by body part."
   ]
  },
  {
   "cell_type": "code",
   "execution_count": 6,
   "metadata": {
    "collapsed": false
   },
   "outputs": [],
   "source": [
    "def format_point_for_prediction(parts, sample=0):\n",
    "    return list(map(\n",
    "        lambda part: dict(parts[part].loc[sample]),\n",
    "        range(0, len(parts))\n",
    "    ))\n",
    "\n",
    "def format_for_prediction(in_data):\n",
    "    # covert [l,b,s] to [l,s,b] \n",
    "    flippedSamples = list(map(\n",
    "        lambda label: list(map(\n",
    "            lambda sample: pd.DataFrame(format_point_for_prediction(testDataParamed[label], sample)),\n",
    "            range(0, len(in_data[label][0]))\n",
    "        )),\n",
    "        range(0, len(testDataParamed))\n",
    "    ))\n",
    "    # move label into sample\n",
    "    retData = []\n",
    "    for label in range(0, len(testDataParamed)):\n",
    "        for sample in flippedSamples[label]:\n",
    "            retData.append({\n",
    "                'data': sample,\n",
    "                'label': label\n",
    "            })\n",
    "    return retData\n",
    "\n",
    "testDataFormated = format_for_prediction(testDataParamed)"
   ]
  },
  {
   "cell_type": "markdown",
   "metadata": {},
   "source": [
    "Lastly, we test our work with a sample prediction."
   ]
  },
  {
   "cell_type": "code",
   "execution_count": 7,
   "metadata": {
    "collapsed": false
   },
   "outputs": [
    {
     "data": {
      "text/plain": [
       "(1, 0.2711634896726271, 0.72883651032737284)"
      ]
     },
     "execution_count": 7,
     "metadata": {},
     "output_type": "execute_result"
    }
   ],
   "source": [
    "# predict class label for sample 0\n",
    "predict_class(testDataFormated[0]['data'])"
   ]
  },
  {
   "cell_type": "markdown",
   "metadata": {},
   "source": [
    "## Evaluate Model\n",
    "To evaluate our model, we are going to examine a confusion matrix across our loaded test data. We can also calculate accuracy, specificity, and precision.\n",
    "\n",
    "The first step of evaluating the model is to actually apply it to test data."
   ]
  },
  {
   "cell_type": "code",
   "execution_count": 8,
   "metadata": {
    "collapsed": false
   },
   "outputs": [
    {
     "data": {
      "text/plain": [
       "{'data':       alpha  intercept   p_alpha       p_x       p_y          x           y\n",
       " 0 -3.400987   0.444444 -0.374123  0.000000  0.000000  -7.569149    7.222869\n",
       " 1 -0.374123   0.444444 -0.374123 -9.333963  0.688736  -9.333963    0.688736\n",
       " 2 -1.302784   0.444444 -0.374123 -9.333963  0.688736 -22.708795    7.728330\n",
       " 3 -7.562699   0.444444 -0.374123 -9.333963  0.688736  24.568718   56.047027\n",
       " 4 -5.499189   0.444444 -0.374123 -9.333963  0.688736  10.005413    4.593543\n",
       " 5  2.297350   0.444444 -0.374123 -9.333963  0.688736 -11.392491   66.188674\n",
       " 6 -2.569829   0.444444 -0.374123 -9.333963  0.688736  -2.200336   65.956361\n",
       " 7 -2.658934   0.444444 -0.374123 -9.333963  0.688736 -29.696874  106.704019\n",
       " 8 -4.232145   0.444444 -0.374123 -9.333963  0.688736  15.308749   64.840397\n",
       " 9 -4.250539   0.444444 -0.374123 -9.333963  0.688736  57.451544   85.492153,\n",
       " 'label': 0,\n",
       " 'prediction': 1,\n",
       " 'probabilities': [0.2711634896726271, 0.72883651032737284]}"
      ]
     },
     "execution_count": 8,
     "metadata": {},
     "output_type": "execute_result"
    }
   ],
   "source": [
    "import random\n",
    "\n",
    "testDataPredicted = predict_all(testDataFormated)\n",
    "testDataPredicted[0]"
   ]
  },
  {
   "cell_type": "markdown",
   "metadata": {},
   "source": [
    "Next, we make our confusion matrix (actually, crosstab)."
   ]
  },
  {
   "cell_type": "code",
   "execution_count": 9,
   "metadata": {
    "collapsed": false
   },
   "outputs": [
    {
     "data": {
      "text/html": [
       "<div>\n",
       "<table border=\"1\" class=\"dataframe\">\n",
       "  <thead>\n",
       "    <tr style=\"text-align: right;\">\n",
       "      <th>Prediction</th>\n",
       "      <th>alien</th>\n",
       "      <th>human</th>\n",
       "      <th>All</th>\n",
       "    </tr>\n",
       "    <tr>\n",
       "      <th>Label</th>\n",
       "      <th></th>\n",
       "      <th></th>\n",
       "      <th></th>\n",
       "    </tr>\n",
       "  </thead>\n",
       "  <tbody>\n",
       "    <tr>\n",
       "      <th>alien</th>\n",
       "      <td>67</td>\n",
       "      <td>133</td>\n",
       "      <td>200</td>\n",
       "    </tr>\n",
       "    <tr>\n",
       "      <th>human</th>\n",
       "      <td>99</td>\n",
       "      <td>101</td>\n",
       "      <td>200</td>\n",
       "    </tr>\n",
       "    <tr>\n",
       "      <th>All</th>\n",
       "      <td>166</td>\n",
       "      <td>234</td>\n",
       "      <td>400</td>\n",
       "    </tr>\n",
       "  </tbody>\n",
       "</table>\n",
       "</div>"
      ],
      "text/plain": [
       "Prediction  alien  human  All\n",
       "Label                        \n",
       "alien          67    133  200\n",
       "human          99    101  200\n",
       "All           166    234  400"
      ]
     },
     "execution_count": 9,
     "metadata": {},
     "output_type": "execute_result"
    }
   ],
   "source": [
    "from sklearn import metrics as met\n",
    "testLabels = pd.Series(list(map(\n",
    "    lambda test: test['label'],\n",
    "    testDataPredicted\n",
    ")))\n",
    "\n",
    "testPredictions = pd.DataFrame(list(map(\n",
    "    lambda test: (test['prediction'], test['probabilities'][test['prediction']]),\n",
    "    testDataPredicted\n",
    ")))\n",
    "testPredictions.columns = ['prediction', 'confidence']\n",
    "\n",
    "testLabelsNamed = pd.Series(list(map(\n",
    "    lambda test: 'human' if (test['label'] == 0) else 'alien',\n",
    "    testDataPredicted\n",
    ")))\n",
    "\n",
    "testPredictionsNamed = pd.Series(list(map(\n",
    "    lambda test: 'human' if (test['prediction'] == 0) else 'alien',\n",
    "    testDataPredicted\n",
    ")))\n",
    "\n",
    "# [TN] [FN]\n",
    "# [FP] [TP]\n",
    "crosstab = pd.crosstab(testLabelsNamed, testPredictionsNamed, rownames=['Label'], colnames=['Prediction'], margins=True)\n",
    "crosstab"
   ]
  },
  {
   "cell_type": "code",
   "execution_count": 10,
   "metadata": {
    "collapsed": false,
    "scrolled": true
   },
   "outputs": [
    {
     "data": {
      "text/html": [
       "<div>\n",
       "<table border=\"1\" class=\"dataframe\">\n",
       "  <thead>\n",
       "    <tr style=\"text-align: right;\">\n",
       "      <th></th>\n",
       "      <th>prediction</th>\n",
       "      <th>confidence</th>\n",
       "    </tr>\n",
       "  </thead>\n",
       "  <tbody>\n",
       "    <tr>\n",
       "      <th>0</th>\n",
       "      <td>1</td>\n",
       "      <td>0.728837</td>\n",
       "    </tr>\n",
       "    <tr>\n",
       "      <th>1</th>\n",
       "      <td>1</td>\n",
       "      <td>0.587361</td>\n",
       "    </tr>\n",
       "    <tr>\n",
       "      <th>2</th>\n",
       "      <td>1</td>\n",
       "      <td>0.542378</td>\n",
       "    </tr>\n",
       "    <tr>\n",
       "      <th>3</th>\n",
       "      <td>0</td>\n",
       "      <td>0.529833</td>\n",
       "    </tr>\n",
       "    <tr>\n",
       "      <th>4</th>\n",
       "      <td>1</td>\n",
       "      <td>0.589235</td>\n",
       "    </tr>\n",
       "  </tbody>\n",
       "</table>\n",
       "</div>"
      ],
      "text/plain": [
       "   prediction  confidence\n",
       "0           1    0.728837\n",
       "1           1    0.587361\n",
       "2           1    0.542378\n",
       "3           0    0.529833\n",
       "4           1    0.589235"
      ]
     },
     "execution_count": 10,
     "metadata": {},
     "output_type": "execute_result"
    }
   ],
   "source": [
    "testPredictions[:5]"
   ]
  },
  {
   "cell_type": "code",
   "execution_count": 11,
   "metadata": {
    "collapsed": false
   },
   "outputs": [
    {
     "name": "stdout",
     "output_type": "stream",
     "text": [
      "Accuracy   : 0.42\n",
      "Specificity: 0.335\n",
      "Precision  : 0.403614457831\n"
     ]
    }
   ],
   "source": [
    "accuracy = met.accuracy_score(testLabels, testPredictions['prediction'])\n",
    "specificity = met.recall_score(testLabels, testPredictions['prediction']) # TP / P\n",
    "precision = met.precision_score(testLabels, testPredictions['prediction']) # TP / TP + FP\n",
    "print('Accuracy   : ' + str(accuracy))\n",
    "print('Specificity: ' + str(specificity))\n",
    "print('Precision  : ' + str(precision))"
   ]
  },
  {
   "cell_type": "markdown",
   "metadata": {},
   "source": [
    "finally, we will evaluate the model by viewing its ROC (Reciever Operator Characteristic) plot."
   ]
  },
  {
   "cell_type": "code",
   "execution_count": 12,
   "metadata": {
    "collapsed": false
   },
   "outputs": [
    {
     "data": {
      "image/png": "[encoded data removed]",
      "text/plain": [
       "<matplotlib.figure.Figure at 0x1f07ee7a748>"
      ]
     },
     "metadata": {},
     "output_type": "display_data"
    }
   ],
   "source": [
    "import matplotlib.pyplot as plt\n",
    "fpr, tpr, _ = met.roc_curve(testLabels, testPredictions['confidence'])\n",
    "auc = met.roc_auc_score(testLabels, testPredictions['confidence'])\n",
    "\n",
    "plt.close()\n",
    "plt.title('ROC (Receiver Operating Characteristic)')\n",
    "plt.plot(fpr, tpr, 'b', label='AUC = %0.2f' % auc)\n",
    "plt.legend(loc='lower right')\n",
    "plt.plot([0, 1], [0, 1], 'k--')\n",
    "plt.ylabel('True Positive Rate')\n",
    "plt.xlabel('False Positive Rate')\n",
    "plt.show()"
   ]
  }
 ],
 "metadata": {
  "kernelspec": {
   "display_name": "Python 3",
   "language": "python",
   "name": "python3"
  },
  "language_info": {
   "codemirror_mode": {
    "name": "ipython",
    "version": 3
   },
   "file_extension": ".py",
   "mimetype": "text/x-python",
   "name": "python",
   "nbconvert_exporter": "python",
   "pygments_lexer": "ipython3",
   "version": "3.6.0"
  }
 },
 "nbformat": 4,
 "nbformat_minor": 2
}
