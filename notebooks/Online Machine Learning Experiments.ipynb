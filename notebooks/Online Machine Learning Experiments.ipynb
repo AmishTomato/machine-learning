{
 "cells": [
  {
   "cell_type": "markdown",
   "metadata": {},
   "source": [
    "### Online Machine Learning Experiments\n",
    "\n",
    "Jay Urbain, PhD\n",
    "\n",
    "#### Description\n",
    "\n",
    "We conduct experiements in online machine learning where machine learning models incrementally learn and predict future values. In our approach, we retrain our models across all previous data with each new increment of samples. These samples can be of any granularity, i.e., 1 or more. Machine learning model coefficients are updated with each increment of data. \n",
    "\n",
    "We perform experiments for both classification (class target value) and regression (numeric target value) to test the feasibility of several machine learning algorithms for our incremental learning approach. Across 3 sets of data, we find our online machine learning approach to be very accurate.\n",
    "\n",
    "**Datesets**\n",
    "- digits - numeric prediction classification  \n",
    "- boston house - regression for house value prediction  \n",
    "- diabetes - regression and classification of self-monitored blood glucose (SMBG) data  \n",
    "\n",
    "**Machine Learning Models**\n",
    "\n",
    "The top performing classification model was a Support Vector Machine with test error < 2.5%.\n",
    "\n",
    "The top performing regression models included ordinary least squares (OLS) and ridge regression using cross-validation (to identify the weigthing of a regularization term). Average mean-squared error (MSE) was < 2% for both the Boston house price prediction and SMBG prediction. \n",
    "\n",
    "The diabetes data set is our target data set, therefore we go into more depth in our explanation (below) and preprocessing.\n",
    "\n",
    "#### Diabetes dataset\n",
    "The diabetes dataset consists of 10 physiological variables (age, sex, weight, blood pressure) measure on 442 patients, and an indication of disease progression after one year:\n",
    "\n",
    "Diabetes patient records were obtained from two sources:  an automatic\n",
    "electronic recording device and paper records.  The automatic device\n",
    "had an internal clock to timestamp events, whereas the paper records\n",
    "only provided \"logical time\" slots (breakfast, lunch, dinner,\n",
    "bedtime).  For paper records, fixed times were assigned to breakfast\n",
    "(08:00), lunch (12:00), dinner (18:00), and bedtime (22:00).  Thus\n",
    "paper records have fictitious uniform recording times whereas\n",
    "electronic records have more realistic time stamps.\n",
    "\n",
    "Diabetes files consist of four fields per record.  Each field is\n",
    "separated by a tab and each record is separated by a newline.\n",
    "\n",
    "File Names and format:\n",
    "\n",
    "(1) Date in MM-DD-YYYY format\n",
    "\n",
    "(2) Time in XX:YY format\n",
    "\n",
    "(3) Code\n",
    "\n",
    "(4) Value\n",
    "\n",
    "The Code field is deciphered as follows:\n",
    "\n",
    "33 = Regular insulin dose\n",
    "\n",
    "34 = NPH insulin dose (intermediate acting)\n",
    "\n",
    "35 = UltraLente insulin dose (long acting)\n",
    "\n",
    "48 = Unspecified blood glucose measurement\n",
    "\n",
    "57 = Unspecified blood glucose measurement\n",
    "\n",
    "58 = Pre-breakfast blood glucose measurement\n",
    "\n",
    "59 = Post-breakfast blood glucose measurement\n",
    "\n",
    "60 = Pre-lunch blood glucose measurement\n",
    "\n",
    "61 = Post-lunch blood glucose measurement\n",
    "\n",
    "62 = Pre-supper blood glucose measurement\n",
    "\n",
    "63 = Post-supper blood glucose measurement\n",
    "\n",
    "64 = Pre-snack blood glucose measurement\n",
    "\n",
    "65 = Hypoglycemic symptoms\n",
    "\n",
    "66 = Typical meal ingestion\n",
    "\n",
    "67 = More-than-usual meal ingestion\n",
    "\n",
    "68 = Less-than-usual meal ingestion\n",
    "\n",
    "69 = Typical exercise activity\n",
    "\n",
    "70 = More-than-usual exercise activity\n",
    "\n",
    "71 = Less-than-usual exercise activity\n",
    "\n",
    "72 = Unspecified special event"
   ]
  },
  {
   "cell_type": "code",
   "execution_count": 1,
   "metadata": {},
   "outputs": [
    {
     "name": "stdout",
     "output_type": "stream",
     "text": [
      "Once deleted, variables cannot be recovered. Proceed (y/[n])? y\n"
     ]
    }
   ],
   "source": [
    "# reset environment\n",
    "%reset\n",
    "\n",
    "import numpy as np\n",
    "import pandas as pd\n",
    "import glob\n",
    "import re\n",
    "import csv\n",
    "\n",
    "# define insulin and glucose measurements\n",
    "insulin_injections =[33,34,35]\n",
    "\n",
    "glucose_measurements = [48,57,58,59,60,61,62,63,64]\n",
    "'''\n",
    "48 = Unspecified blood glucose measurement\n",
    "57 = Unspecified blood glucose measurement\n",
    "58 = Pre-breakfast blood glucose measurement\n",
    "59 = Post-breakfast blood glucose measurement\n",
    "60 = Pre-lunch blood glucose measurement\n",
    "61 = Post-lunch blood glucose measurement\n",
    "62 = Pre-supper blood glucose measurement\n",
    "63 = Post-supper blood glucose measurement\n",
    "64 = Pre-snack blood glucose measurement\n",
    "'''\n",
    "glucose_measurements_pre_meal  = [58,60,62,64]\n",
    "glucose_measurements_post_meal = [59,61,63]\n",
    "glucose_measurements_unspec    = [48,57]"
   ]
  },
  {
   "cell_type": "markdown",
   "metadata": {},
   "source": [
    "#### Sliding window functions\n",
    "\n",
    "Assumes df rows are sorted most recent first in ascending order."
   ]
  },
  {
   "cell_type": "code",
   "execution_count": 3,
   "metadata": {},
   "outputs": [],
   "source": [
    "# Calculate a moving average on length n items in measurements\n",
    "# Note: This is a sparse calculation since the calculations are\n",
    "# carried forward over records that do not contain an item in measurements.\n",
    "def sparse_moving_average(df, measurements, n=5):\n",
    "    nlist = []\n",
    "    mvalist = []\n",
    "    #count = 0\n",
    "    mva = 0.\n",
    "    for index, row in df.iterrows():\n",
    "        if row.code in measurements:\n",
    "            nlist.append(row.value)\n",
    "        if len(nlist) > n:\n",
    "            nlist.pop(0)\n",
    "        if len(nlist) > 0:\n",
    "            mva = np.mean(nlist)\n",
    "        #print 'code=', row.code, 'value=', row.value, 'mva=', mva, 'nlist=', nlist\n",
    "        mvalist.append(mva)\n",
    "    return mvalist\n",
    "'''\n",
    "ma_list = sparse_moving_average(diabetes_df, glucose_measurements, n=3)\n",
    "print diabetes_df.shape\n",
    "#print ma_list\n",
    "print len(ma_list)\n",
    "print ma_list[:20]\n",
    "'''\n",
    "\n",
    "# Same as sparse moving average, however calulate the median.\n",
    "def sparse_moving_median(df, measurements, n=5):\n",
    "    nlist = []\n",
    "    medlist = []\n",
    "    #count = 0\n",
    "    med = 0.\n",
    "    for index, row in df.iterrows():\n",
    "        if row.code in measurements:\n",
    "            nlist.append(row.value)\n",
    "        if len(nlist) > n:\n",
    "            nlist.pop(0)\n",
    "        if len(nlist) > 0:\n",
    "            med = np.median(nlist)\n",
    "        #print 'code=', row.code, 'value=', row.value, 'med=', med, 'nlist=', nlist\n",
    "        medlist.append(med)\n",
    "        #count += 1\n",
    "        #if count == 10: \n",
    "        #    break\n",
    "    return medlist\n",
    "'''\n",
    "mm_list = sparse_moving_median(diabetes_df, glucose_measurements, n=3)\n",
    "print diabetes_df.shape\n",
    "#print ma_list\n",
    "print len(mm_list)\n",
    "print mm_list[:20]\n",
    "'''\n",
    "\n",
    "# Calculate the percentage of records of the past n records that contain an item in measurements.\n",
    "def sparse_moving_percent(df, measurements, n=5):\n",
    "    percent_list = []\n",
    "    count = 0\n",
    "    total_count = 0\n",
    "    for index, row in df.iterrows():\n",
    "        if row.code in measurements:\n",
    "            count += 1\n",
    "        total_count += 1\n",
    "        percent = float(count)/total_count\n",
    "        percent_list.append( percent )\n",
    "        #print 'code=', row.code, 'value=', row.value, 'percent=', percent\n",
    "        #if total_count == 5: \n",
    "        #    break\n",
    "    return percent_list\n",
    "'''\n",
    "p_list = sparse_moving_percent(diabetes_df, glucose_measurements, n=10)\n",
    "print len(p_list)\n",
    "print p_list[:20]\n",
    "print diabetes_df.head(20)\n",
    "'''\n",
    "\n",
    "# Calculate the running count of items in measurements over the past n records.\n",
    "# A negative value for n will result in counting all records.\n",
    "def sparse_moving_count(df, measurements, n=20):\n",
    "    nlist = []\n",
    "    medlist = []\n",
    "    for index, row in df.iterrows():\n",
    "        if row.code in measurements:\n",
    "            nlist.append(1)\n",
    "        else:\n",
    "            nlist.append(0)\n",
    "        if n > 0 and len(nlist) > n:\n",
    "            nlist.pop(0)\n",
    "        medlist.append(np.sum(nlist))\n",
    "    return medlist\n"
   ]
  },
  {
   "cell_type": "markdown",
   "metadata": {},
   "source": [
    "#### Preprocessing"
   ]
  },
  {
   "cell_type": "code",
   "execution_count": 5,
   "metadata": {
    "collapsed": true
   },
   "outputs": [],
   "source": [
    "def preprocessDf(df, id) :\n",
    "    \n",
    "    # add id column\n",
    "    df.insert(0, 'id', id[0])\n",
    "    \n",
    "    # add date_, time_, datetime_ columns of datetime type\n",
    "    #diabetes_df['date_'] = pd.to_datetime(df.date, format='%m-%d-%Y', errors='coerce')\n",
    "    #diabetes_df['time_'] = pd.to_datetime(df.time, format='%M:%H', errors='coerce')\n",
    "    diabetes_df['datetime_'] = pd.to_datetime(df.date + ' ' + df.time, errors='coerce')\n",
    "    \n",
    "    # convert value to numeric\n",
    "    df['code'] = pd.to_numeric(df['code'], errors='coerce')\n",
    "    df['value'] = pd.to_numeric(df['value'], errors='coerce')\n",
    "    \n",
    "    # generate stats \n",
    "    # all glucose measurements\n",
    "    m_list = sparse_moving_average(df, glucose_measurements, n=1)\n",
    "    df['glu_avg_all_1'] = m_list\n",
    "    m_list = sparse_moving_average(df, glucose_measurements, n=3)\n",
    "    df['glu_avg_all_3'] = m_list\n",
    "    m_list = sparse_moving_average(df, glucose_measurements, n=5)\n",
    "    df['glu_avg_all_5'] = m_list\n",
    "    \n",
    "    m_list = sparse_moving_median(df, glucose_measurements, n=1)\n",
    "    df['glu_med_all_1'] = m_list\n",
    "    m_list = sparse_moving_median(df, glucose_measurements, n=3)\n",
    "    df['glu_med_all_3'] = m_list\n",
    "    m_list = sparse_moving_median(df, glucose_measurements, n=5)\n",
    "    df['glu_med_all_5'] = m_list\n",
    "    \n",
    "    # glucose_measurements_pre_meal  = [58,60,62,64]\n",
    "    m_list = sparse_moving_average(df, glucose_measurements_pre_meal, n=1)\n",
    "    df['glu_pre_avg_all_1'] = m_list\n",
    "    m_list = sparse_moving_average(df, glucose_measurements_pre_meal, n=3)\n",
    "    df['glu_pre_avg_all_3'] = m_list\n",
    "    m_list = sparse_moving_average(df, glucose_measurements_pre_meal, n=5)\n",
    "    df['glu_pre_avg_all_5'] = m_list\n",
    "    \n",
    "    m_list = sparse_moving_median(df, glucose_measurements_pre_meal, n=1)\n",
    "    df['glu_pre_med_all_1'] = m_list\n",
    "    m_list = sparse_moving_median(df, glucose_measurements_pre_meal, n=3)\n",
    "    df['glu_pre_med_all_3'] = m_list\n",
    "    m_list = sparse_moving_median(df, glucose_measurements_pre_meal, n=5)\n",
    "    df['glu_pre_med_all_5'] = m_list\n",
    "    \n",
    "    # glucose_measurements_post_meal = [59,61,63]\n",
    "    m_list = sparse_moving_average(df, glucose_measurements_post_meal, n=1)\n",
    "    df['glu_post_avg_all_1'] = m_list\n",
    "    m_list = sparse_moving_average(df, glucose_measurements_post_meal, n=3)\n",
    "    df['glu_post_avg_all_3'] = m_list\n",
    "    m_list = sparse_moving_average(df, glucose_measurements_post_meal, n=5)\n",
    "    df['glu_post_avg_all_5'] = m_list\n",
    "    \n",
    "    m_list = sparse_moving_median(df, glucose_measurements_post_meal, n=1)\n",
    "    df['glu_post_med_all_1'] = m_list\n",
    "    m_list = sparse_moving_median(df, glucose_measurements_post_meal, n=3)\n",
    "    df['glu_post_med_all_3'] = m_list\n",
    "    m_list = sparse_moving_median(df, glucose_measurements_post_meal, n=5)\n",
    "    df['glu_post_med_all_5'] = m_list\n",
    "    \n",
    "    # glucose_measurements_unspec    = [48,57]\n",
    "    m_list = sparse_moving_average(df, glucose_measurements_unspec, n=1)\n",
    "    df['glu_unspec_avg_all_1'] = m_list\n",
    "    m_list = sparse_moving_average(df, glucose_measurements_unspec, n=3)\n",
    "    df['glu_unspec_avg_all_3'] = m_list\n",
    "    m_list = sparse_moving_average(df, glucose_measurements_unspec, n=5)\n",
    "    df['glu_unspec_avg_all_5'] = m_list\n",
    "    \n",
    "    m_list = sparse_moving_median(df, glucose_measurements_unspec, n=1)\n",
    "    df['glu_unspec_med_all_1'] = m_list\n",
    "    m_list = sparse_moving_median(df, glucose_measurements_unspec, n=3)\n",
    "    df['glu_unspec_med_all_3'] = m_list\n",
    "    m_list = sparse_moving_median(df, glucose_measurements_unspec, n=5)\n",
    "    df['glu_unspec_med_all_5'] = m_list\n",
    "      \n",
    "    # percents and counts\n",
    "    m_list = sparse_moving_percent(df, glucose_measurements, n=20)\n",
    "    df['glu_pct_all'] = m_list\n",
    "    m_list = sparse_moving_percent(df, insulin_injections, n=20)\n",
    "    df['ins_pct_all'] = m_list \n",
    "    \n",
    "    #df_list = sparse_moving_count(diabetes_df, glucose_measurements, -1)\n",
    "    m_list = sparse_moving_count(df, glucose_measurements, 20)\n",
    "    df['glu_cnt_all'] = m_list\n",
    "    m_list = sparse_moving_count(df, insulin_injections, 20)\n",
    "    df['ins_cnt_all'] = m_list \n",
    "    \n",
    "    return df\n"
   ]
  },
  {
   "cell_type": "markdown",
   "metadata": {},
   "source": [
    "#### Diabetes Data Import"
   ]
  },
  {
   "cell_type": "code",
   "execution_count": 6,
   "metadata": {},
   "outputs": [
    {
     "name": "stdout",
     "output_type": "stream",
     "text": [
      "/Users/jayurbain/Dropbox/machine-learning/machine-learning/data/Diabetes-Data/data-01\n",
      "/Users/jayurbain/Dropbox/machine-learning/machine-learning/data/Diabetes-Data/data-02\n"
     ]
    },
    {
     "name": "stderr",
     "output_type": "stream",
     "text": [
      "/Applications/anaconda/lib/python2.7/site-packages/numpy/lib/function_base.py:3558: RuntimeWarning: Invalid value encountered in median\n",
      "  RuntimeWarning)\n"
     ]
    },
    {
     "name": "stdout",
     "output_type": "stream",
     "text": [
      "/Users/jayurbain/Dropbox/machine-learning/machine-learning/data/Diabetes-Data/data-03\n",
      "/Users/jayurbain/Dropbox/machine-learning/machine-learning/data/Diabetes-Data/data-04\n",
      "/Users/jayurbain/Dropbox/machine-learning/machine-learning/data/Diabetes-Data/data-05\n",
      "/Users/jayurbain/Dropbox/machine-learning/machine-learning/data/Diabetes-Data/data-06\n",
      "/Users/jayurbain/Dropbox/machine-learning/machine-learning/data/Diabetes-Data/data-07\n",
      "/Users/jayurbain/Dropbox/machine-learning/machine-learning/data/Diabetes-Data/data-08\n",
      "/Users/jayurbain/Dropbox/machine-learning/machine-learning/data/Diabetes-Data/data-09\n",
      "/Users/jayurbain/Dropbox/machine-learning/machine-learning/data/Diabetes-Data/data-10\n",
      "/Users/jayurbain/Dropbox/machine-learning/machine-learning/data/Diabetes-Data/data-11\n",
      "/Users/jayurbain/Dropbox/machine-learning/machine-learning/data/Diabetes-Data/data-12\n",
      "/Users/jayurbain/Dropbox/machine-learning/machine-learning/data/Diabetes-Data/data-13\n",
      "/Users/jayurbain/Dropbox/machine-learning/machine-learning/data/Diabetes-Data/data-14\n",
      "/Users/jayurbain/Dropbox/machine-learning/machine-learning/data/Diabetes-Data/data-15\n",
      "/Users/jayurbain/Dropbox/machine-learning/machine-learning/data/Diabetes-Data/data-16\n",
      "/Users/jayurbain/Dropbox/machine-learning/machine-learning/data/Diabetes-Data/data-17\n",
      "/Users/jayurbain/Dropbox/machine-learning/machine-learning/data/Diabetes-Data/data-18\n",
      "/Users/jayurbain/Dropbox/machine-learning/machine-learning/data/Diabetes-Data/data-19\n",
      "/Users/jayurbain/Dropbox/machine-learning/machine-learning/data/Diabetes-Data/data-20\n",
      "/Users/jayurbain/Dropbox/machine-learning/machine-learning/data/Diabetes-Data/data-21\n",
      "/Users/jayurbain/Dropbox/machine-learning/machine-learning/data/Diabetes-Data/data-22\n",
      "/Users/jayurbain/Dropbox/machine-learning/machine-learning/data/Diabetes-Data/data-23\n",
      "/Users/jayurbain/Dropbox/machine-learning/machine-learning/data/Diabetes-Data/data-24\n",
      "/Users/jayurbain/Dropbox/machine-learning/machine-learning/data/Diabetes-Data/data-25\n",
      "/Users/jayurbain/Dropbox/machine-learning/machine-learning/data/Diabetes-Data/data-26\n",
      "/Users/jayurbain/Dropbox/machine-learning/machine-learning/data/Diabetes-Data/data-27\n",
      "/Users/jayurbain/Dropbox/machine-learning/machine-learning/data/Diabetes-Data/data-28\n",
      "/Users/jayurbain/Dropbox/machine-learning/machine-learning/data/Diabetes-Data/data-29\n",
      "/Users/jayurbain/Dropbox/machine-learning/machine-learning/data/Diabetes-Data/data-30\n",
      "/Users/jayurbain/Dropbox/machine-learning/machine-learning/data/Diabetes-Data/data-31\n",
      "/Users/jayurbain/Dropbox/machine-learning/machine-learning/data/Diabetes-Data/data-32\n",
      "/Users/jayurbain/Dropbox/machine-learning/machine-learning/data/Diabetes-Data/data-33\n",
      "/Users/jayurbain/Dropbox/machine-learning/machine-learning/data/Diabetes-Data/data-34\n",
      "/Users/jayurbain/Dropbox/machine-learning/machine-learning/data/Diabetes-Data/data-35\n",
      "/Users/jayurbain/Dropbox/machine-learning/machine-learning/data/Diabetes-Data/data-36\n",
      "/Users/jayurbain/Dropbox/machine-learning/machine-learning/data/Diabetes-Data/data-37\n",
      "/Users/jayurbain/Dropbox/machine-learning/machine-learning/data/Diabetes-Data/data-38\n",
      "/Users/jayurbain/Dropbox/machine-learning/machine-learning/data/Diabetes-Data/data-39\n",
      "/Users/jayurbain/Dropbox/machine-learning/machine-learning/data/Diabetes-Data/data-40\n",
      "/Users/jayurbain/Dropbox/machine-learning/machine-learning/data/Diabetes-Data/data-41\n",
      "/Users/jayurbain/Dropbox/machine-learning/machine-learning/data/Diabetes-Data/data-42\n",
      "/Users/jayurbain/Dropbox/machine-learning/machine-learning/data/Diabetes-Data/data-43\n",
      "/Users/jayurbain/Dropbox/machine-learning/machine-learning/data/Diabetes-Data/data-44\n",
      "/Users/jayurbain/Dropbox/machine-learning/machine-learning/data/Diabetes-Data/data-45\n",
      "/Users/jayurbain/Dropbox/machine-learning/machine-learning/data/Diabetes-Data/data-46\n",
      "/Users/jayurbain/Dropbox/machine-learning/machine-learning/data/Diabetes-Data/data-47\n",
      "/Users/jayurbain/Dropbox/machine-learning/machine-learning/data/Diabetes-Data/data-48\n",
      "/Users/jayurbain/Dropbox/machine-learning/machine-learning/data/Diabetes-Data/data-49\n",
      "/Users/jayurbain/Dropbox/machine-learning/machine-learning/data/Diabetes-Data/data-50\n",
      "/Users/jayurbain/Dropbox/machine-learning/machine-learning/data/Diabetes-Data/data-51\n",
      "/Users/jayurbain/Dropbox/machine-learning/machine-learning/data/Diabetes-Data/data-52\n",
      "/Users/jayurbain/Dropbox/machine-learning/machine-learning/data/Diabetes-Data/data-53\n",
      "/Users/jayurbain/Dropbox/machine-learning/machine-learning/data/Diabetes-Data/data-54\n",
      "/Users/jayurbain/Dropbox/machine-learning/machine-learning/data/Diabetes-Data/data-55\n",
      "/Users/jayurbain/Dropbox/machine-learning/machine-learning/data/Diabetes-Data/data-56\n",
      "/Users/jayurbain/Dropbox/machine-learning/machine-learning/data/Diabetes-Data/data-57\n",
      "/Users/jayurbain/Dropbox/machine-learning/machine-learning/data/Diabetes-Data/data-58\n",
      "/Users/jayurbain/Dropbox/machine-learning/machine-learning/data/Diabetes-Data/data-59\n",
      "/Users/jayurbain/Dropbox/machine-learning/machine-learning/data/Diabetes-Data/data-60\n",
      "/Users/jayurbain/Dropbox/machine-learning/machine-learning/data/Diabetes-Data/data-61\n",
      "/Users/jayurbain/Dropbox/machine-learning/machine-learning/data/Diabetes-Data/data-62\n",
      "/Users/jayurbain/Dropbox/machine-learning/machine-learning/data/Diabetes-Data/data-63\n",
      "/Users/jayurbain/Dropbox/machine-learning/machine-learning/data/Diabetes-Data/data-64\n",
      "/Users/jayurbain/Dropbox/machine-learning/machine-learning/data/Diabetes-Data/data-65\n",
      "/Users/jayurbain/Dropbox/machine-learning/machine-learning/data/Diabetes-Data/data-66\n",
      "/Users/jayurbain/Dropbox/machine-learning/machine-learning/data/Diabetes-Data/data-67\n",
      "/Users/jayurbain/Dropbox/machine-learning/machine-learning/data/Diabetes-Data/data-68\n",
      "/Users/jayurbain/Dropbox/machine-learning/machine-learning/data/Diabetes-Data/data-69\n",
      "/Users/jayurbain/Dropbox/machine-learning/machine-learning/data/Diabetes-Data/data-70\n",
      "(943, 34)\n",
      "   id        date   time  code  value  glu_avg_all_1  glu_avg_all_3  \\\n",
      "0  01  04-21-1991   9:09    58    100            100          100.0   \n",
      "1  01  04-21-1991   9:09    33      9            100          100.0   \n",
      "2  01  04-21-1991   9:09    34     13            100          100.0   \n",
      "3  01  04-21-1991  17:08    62    119            119          109.5   \n",
      "4  01  04-21-1991  17:08    33      7            119          109.5   \n",
      "\n",
      "   glu_avg_all_5  glu_med_all_1  glu_med_all_3         ...          \\\n",
      "0          100.0            100          100.0         ...           \n",
      "1          100.0            100          100.0         ...           \n",
      "2          100.0            100          100.0         ...           \n",
      "3          109.5            119          109.5         ...           \n",
      "4          109.5            119          109.5         ...           \n",
      "\n",
      "   glu_unspec_avg_all_3  glu_unspec_avg_all_5  glu_unspec_med_all_1  \\\n",
      "0                     0                     0                     0   \n",
      "1                     0                     0                     0   \n",
      "2                     0                     0                     0   \n",
      "3                     0                     0                     0   \n",
      "4                     0                     0                     0   \n",
      "\n",
      "   glu_unspec_med_all_3  glu_unspec_med_all_5  glu_pct_all  ins_pct_all  \\\n",
      "0                     0                     0     1.000000     0.000000   \n",
      "1                     0                     0     0.500000     0.500000   \n",
      "2                     0                     0     0.333333     0.666667   \n",
      "3                     0                     0     0.500000     0.500000   \n",
      "4                     0                     0     0.400000     0.600000   \n",
      "\n",
      "   glu_cnt_all  ins_cnt_all           datetime_  \n",
      "0            1            0 1989-03-13 08:00:00  \n",
      "1            1            1 1989-03-13 08:00:00  \n",
      "2            1            2 1989-03-13 08:00:00  \n",
      "3            2            2 1989-03-13 18:00:00  \n",
      "4            2            3 1989-03-13 18:00:00  \n",
      "\n",
      "[5 rows x 34 columns]\n",
      "     id        date   time  code  value  glu_avg_all_1  glu_avg_all_3  \\\n",
      "938  01  09-02-1991  17:30    33      7             61     134.333333   \n",
      "939  01  09-02-1991  23:00    48    155            155     128.000000   \n",
      "940  01  09-03-1991   7:20    58    110            110     108.666667   \n",
      "941  01  09-03-1991   7:20    33      9            110     108.666667   \n",
      "942  01  09-03-1991   7:20    34     16            110     108.666667   \n",
      "\n",
      "     glu_avg_all_5  glu_med_all_1  glu_med_all_3    ...      \\\n",
      "938          167.0             61            168    ...       \n",
      "939          161.4            155            155    ...       \n",
      "940          133.6            110            110    ...       \n",
      "941          133.6            110            110    ...       \n",
      "942          133.6            110            110    ...       \n",
      "\n",
      "     glu_unspec_avg_all_3  glu_unspec_avg_all_5  glu_unspec_med_all_1  \\\n",
      "938            210.333333                 201.8                   174   \n",
      "939            200.333333                 176.0                   155   \n",
      "940            200.333333                 176.0                   155   \n",
      "941            200.333333                 176.0                   155   \n",
      "942            200.333333                 176.0                   155   \n",
      "\n",
      "     glu_unspec_med_all_3  glu_unspec_med_all_5  glu_pct_all  ins_pct_all  \\\n",
      "938                   185                   185     0.390841     0.554846   \n",
      "939                   174                   174     0.391489     0.554255   \n",
      "940                   174                   174     0.392136     0.553666   \n",
      "941                   174                   174     0.391720     0.554140   \n",
      "942                   174                   174     0.391304     0.554613   \n",
      "\n",
      "     glu_cnt_all  ins_cnt_all  datetime_  \n",
      "938            8           11        NaT  \n",
      "939            8           11        NaT  \n",
      "940            9           10        NaT  \n",
      "941            9           10        NaT  \n",
      "942            8           11        NaT  \n",
      "\n",
      "[5 rows x 34 columns]\n"
     ]
    }
   ],
   "source": [
    "path ='/Users/jayurbain/Dropbox/machine-learning/machine-learning/data/Diabetes-Data'\n",
    "allFiles = glob.glob(path + \"/*data*\")\n",
    "diabetes_df = pd.DataFrame()\n",
    "count = 0\n",
    "for file_ in allFiles:\n",
    "    print file_\n",
    "    id = re.findall('\\d+', file_ )\n",
    "    df = pd.read_table(file_,index_col=None, header=None, names=['date','time','code','value'])\n",
    "    df = preprocessDf(df, id)\n",
    "        \n",
    "    #print np.isfinite(df['code']).all()\n",
    "    \n",
    "    #print df.shape\n",
    "    #print df.head()\n",
    "    #print df.tail()\n",
    "    if count == 0:\n",
    "        diabetes_df = df\n",
    "        count += 1\n",
    "    else:\n",
    "        diabetes_df.append(df, ignore_index=True)\n",
    "    #break\n",
    "    \n",
    "print diabetes_df.shape\n",
    "print diabetes_df.head()\n",
    "print diabetes_df.tail()"
   ]
  },
  {
   "cell_type": "markdown",
   "metadata": {
    "collapsed": true
   },
   "source": [
    "#### Evaluation of Stochastic Gradient Descent (SGD) on random data across multiple classifiers\n",
    "\n",
    "Each classifier is evaluated across descreasing levels of hold out data, i.e., 95% (trained on 5%), 90% (trained on 10%), etc."
   ]
  },
  {
   "cell_type": "markdown",
   "metadata": {},
   "source": [
    "#### Classifier and Regressor Models"
   ]
  },
  {
   "cell_type": "code",
   "execution_count": 7,
   "metadata": {},
   "outputs": [],
   "source": [
    "import numpy as np\n",
    "import matplotlib.pyplot as plt\n",
    "from sklearn import datasets\n",
    "# plots within notebook versus launching a separate window\n",
    "%matplotlib inline \n",
    "\n",
    "import sklearn\n",
    "from sklearn.cross_validation import train_test_split\n",
    "from sklearn.linear_model import SGDClassifier, Perceptron\n",
    "from sklearn.linear_model import PassiveAggressiveClassifier\n",
    "from sklearn.linear_model import LogisticRegression, LinearRegression, Ridge, RidgeCV, Lasso, LassoCV\n",
    "from sklearn.svm import SVC\n",
    "from sklearn.svm import SVR\n",
    "import math\n",
    "from sklearn import datasets\n",
    "\n",
    "heldout = [0.95, 0.90, 0.75, 0.50, 0.01]\n",
    "rounds = 20\n",
    "digits = datasets.load_digits()\n",
    "    \n",
    "classifiers = [\n",
    "    (\"SGD\", SGDClassifier()),\n",
    "    (\"ASGD\", SGDClassifier(average=True)),\n",
    "    (\"Perceptron\", Perceptron()),\n",
    "    (\"Passive-Aggressive I\", PassiveAggressiveClassifier(loss='hinge', C=1.0)),\n",
    "    (\"Passive-Aggressive II\", PassiveAggressiveClassifier(loss='squared_hinge',C=1.0)),\n",
    "    #(\"SAG\", LogisticRegression(solver='sag', tol=1e-1, C=1.e4 / X.shape[0]))\n",
    "    (\"SAG\", LogisticRegression(solver='sag', tol=1e-1, C=1.0)),\n",
    "    #(\"SVMlinear\", SVC(C=1.0, kernel='linear'))\n",
    "    (\"SVClinear\", SVC(C=1.0, kernel='linear', probability=True))\n",
    "]\n",
    "\n",
    "regressors = [\n",
    "    (\"OLS\", LinearRegression(normalize=False)),\n",
    "    #(\"OLSN\", LinearRegression(normalize=True)),\n",
    "    #(\"Ridge\", Ridge(alpha = .5)),\n",
    "    (\"RidgeCV\", RidgeCV(alphas=[0.01, 0.1, 0.5, 1.0, 5.0, 10.0])),\n",
    "    #(\"Lasso\", Lasso(alpha = .5)),\n",
    "    (\"LassoCV\", LassoCV(alphas=[0.01, 0.1, 0.5, 1.0, 5.0, 10.0]))\n",
    "    #(\"svr_rbf\", SVR(kernel='rbf', C=1.0, epsilon=0.2))\n",
    "    #(\"svr_lin\", SVR(kernel='linear', C=1.0, epsilon=0.2))\n",
    "    #(\"svr_poly\", SVR(kernel='poly', C=1e3, degree=2))\n",
    "    ]\n"
   ]
  },
  {
   "cell_type": "markdown",
   "metadata": {},
   "source": [
    "#### SGD classification on digits data set"
   ]
  },
  {
   "cell_type": "code",
   "execution_count": 8,
   "metadata": {},
   "outputs": [
    {
     "name": "stdout",
     "output_type": "stream",
     "text": [
      "training SGD\n",
      "training ASGD\n",
      "training Perceptron\n",
      "training Passive-Aggressive I\n",
      "training Passive-Aggressive II\n",
      "training SAG\n",
      "training SVClinear\n",
      "[[ 0.06597682  0.06484287  0.02970624  0.00937077  0.04292513  0.01796168\n",
      "   0.59524153  0.03220318  0.06286363  0.07890815]]\n",
      "[[ 0.01134321  0.01938766  0.04981672  0.0557206   0.02228304  0.71767328\n",
      "   0.00868589  0.03984726  0.03262671  0.04261564]]\n",
      "[[ 0.02897615  0.0471157   0.0234206   0.0548802   0.04153014  0.0636718\n",
      "   0.02239152  0.10931314  0.12104515  0.48765561]]\n",
      "[[ 0.056098    0.07497965  0.05624073  0.03107984  0.0812321   0.42480024\n",
      "   0.05847773  0.10321342  0.06480922  0.04906907]]\n",
      "[[ 0.01875033  0.12911396  0.04926696  0.05358509  0.02692863  0.02021886\n",
      "   0.05583559  0.04724597  0.55121018  0.04784443]]\n",
      "[[ 0.01833311  0.08096469  0.06089786  0.09217785  0.03267945  0.03631916\n",
      "   0.0183176   0.55493183  0.06513051  0.04024794]]\n",
      "[[ 0.02184108  0.08411375  0.03376951  0.61374611  0.00953523  0.07022507\n",
      "   0.01366531  0.01994855  0.03336142  0.09979398]]\n",
      "[[ 0.02637867  0.05853983  0.05137137  0.06065854  0.09162539  0.12242928\n",
      "   0.01986383  0.45967285  0.07412135  0.03533889]]\n",
      "[[ 0.0257882   0.04005149  0.06884053  0.01568958  0.07743262  0.35375972\n",
      "   0.15835171  0.08843951  0.15048149  0.02116515]]\n"
     ]
    },
    {
     "name": "stderr",
     "output_type": "stream",
     "text": [
      "/Applications/anaconda/lib/python2.7/site-packages/sklearn/utils/validation.py:386: DeprecationWarning: Passing 1d arrays as data is deprecated in 0.17 and willraise ValueError in 0.19. Reshape your data either using X.reshape(-1, 1) if your data has a single feature or X.reshape(1, -1) if it contains a single sample.\n",
      "  DeprecationWarning)\n",
      "/Applications/anaconda/lib/python2.7/site-packages/sklearn/utils/validation.py:386: DeprecationWarning: Passing 1d arrays as data is deprecated in 0.17 and willraise ValueError in 0.19. Reshape your data either using X.reshape(-1, 1) if your data has a single feature or X.reshape(1, -1) if it contains a single sample.\n",
      "  DeprecationWarning)\n",
      "/Applications/anaconda/lib/python2.7/site-packages/sklearn/utils/validation.py:386: DeprecationWarning: Passing 1d arrays as data is deprecated in 0.17 and willraise ValueError in 0.19. Reshape your data either using X.reshape(-1, 1) if your data has a single feature or X.reshape(1, -1) if it contains a single sample.\n",
      "  DeprecationWarning)\n",
      "/Applications/anaconda/lib/python2.7/site-packages/sklearn/utils/validation.py:386: DeprecationWarning: Passing 1d arrays as data is deprecated in 0.17 and willraise ValueError in 0.19. Reshape your data either using X.reshape(-1, 1) if your data has a single feature or X.reshape(1, -1) if it contains a single sample.\n",
      "  DeprecationWarning)\n",
      "/Applications/anaconda/lib/python2.7/site-packages/sklearn/utils/validation.py:386: DeprecationWarning: Passing 1d arrays as data is deprecated in 0.17 and willraise ValueError in 0.19. Reshape your data either using X.reshape(-1, 1) if your data has a single feature or X.reshape(1, -1) if it contains a single sample.\n",
      "  DeprecationWarning)\n",
      "/Applications/anaconda/lib/python2.7/site-packages/sklearn/utils/validation.py:386: DeprecationWarning: Passing 1d arrays as data is deprecated in 0.17 and willraise ValueError in 0.19. Reshape your data either using X.reshape(-1, 1) if your data has a single feature or X.reshape(1, -1) if it contains a single sample.\n",
      "  DeprecationWarning)\n",
      "/Applications/anaconda/lib/python2.7/site-packages/sklearn/utils/validation.py:386: DeprecationWarning: Passing 1d arrays as data is deprecated in 0.17 and willraise ValueError in 0.19. Reshape your data either using X.reshape(-1, 1) if your data has a single feature or X.reshape(1, -1) if it contains a single sample.\n",
      "  DeprecationWarning)\n",
      "/Applications/anaconda/lib/python2.7/site-packages/sklearn/utils/validation.py:386: DeprecationWarning: Passing 1d arrays as data is deprecated in 0.17 and willraise ValueError in 0.19. Reshape your data either using X.reshape(-1, 1) if your data has a single feature or X.reshape(1, -1) if it contains a single sample.\n",
      "  DeprecationWarning)\n",
      "/Applications/anaconda/lib/python2.7/site-packages/sklearn/utils/validation.py:386: DeprecationWarning: Passing 1d arrays as data is deprecated in 0.17 and willraise ValueError in 0.19. Reshape your data either using X.reshape(-1, 1) if your data has a single feature or X.reshape(1, -1) if it contains a single sample.\n",
      "  DeprecationWarning)\n",
      "/Applications/anaconda/lib/python2.7/site-packages/sklearn/utils/validation.py:386: DeprecationWarning: Passing 1d arrays as data is deprecated in 0.17 and willraise ValueError in 0.19. Reshape your data either using X.reshape(-1, 1) if your data has a single feature or X.reshape(1, -1) if it contains a single sample.\n",
      "  DeprecationWarning)\n",
      "/Applications/anaconda/lib/python2.7/site-packages/sklearn/utils/validation.py:386: DeprecationWarning: Passing 1d arrays as data is deprecated in 0.17 and willraise ValueError in 0.19. Reshape your data either using X.reshape(-1, 1) if your data has a single feature or X.reshape(1, -1) if it contains a single sample.\n",
      "  DeprecationWarning)\n"
     ]
    },
    {
     "name": "stdout",
     "output_type": "stream",
     "text": [
      "[[ 0.01421175  0.19904251  0.03485168  0.04403729  0.06754748  0.01743155\n",
      "   0.53349823  0.01408678  0.05946944  0.01582329]]\n",
      "[[ 0.00518621  0.71015891  0.01922399  0.01125971  0.07348461  0.02762802\n",
      "   0.06676252  0.01662441  0.04548252  0.02418909]]\n",
      "[[ 0.02320925  0.03177449  0.02889751  0.07786296  0.08618203  0.02093232\n",
      "   0.01473114  0.58003565  0.03695218  0.09942247]]\n",
      "[[ 0.02072117  0.01808296  0.03326912  0.56757303  0.01538853  0.02544102\n",
      "   0.00994421  0.02203905  0.02352495  0.26401597]]\n",
      "[[ 0.01595435  0.50519112  0.02253623  0.04008563  0.13389469  0.03911529\n",
      "   0.01344513  0.05608357  0.05492749  0.11876649]]\n",
      "[[ 0.52066596  0.02226481  0.05276587  0.04178998  0.03120778  0.05375384\n",
      "   0.05806204  0.06792367  0.08565357  0.06591247]]\n",
      "[[ 0.11873312  0.07247065  0.09453217  0.01960273  0.07181255  0.03167933\n",
      "   0.51504745  0.01549512  0.03730271  0.02332416]]\n",
      "[[ 0.0137352   0.22000408  0.24993351  0.1154887   0.03203747  0.09582855\n",
      "   0.05620017  0.01669411  0.05850384  0.14157436]]\n",
      "[[ 0.52449211  0.02532974  0.0212714   0.04725241  0.05656782  0.05725289\n",
      "   0.11827686  0.05580509  0.05009947  0.04365221]]\n",
      "[[ 0.02635752  0.10701929  0.10877022  0.33712772  0.0194998   0.09242339\n",
      "   0.01919766  0.03444857  0.16562607  0.08952976]]\n"
     ]
    },
    {
     "name": "stderr",
     "output_type": "stream",
     "text": [
      "/Applications/anaconda/lib/python2.7/site-packages/sklearn/utils/validation.py:386: DeprecationWarning: Passing 1d arrays as data is deprecated in 0.17 and willraise ValueError in 0.19. Reshape your data either using X.reshape(-1, 1) if your data has a single feature or X.reshape(1, -1) if it contains a single sample.\n",
      "  DeprecationWarning)\n",
      "/Applications/anaconda/lib/python2.7/site-packages/sklearn/utils/validation.py:386: DeprecationWarning: Passing 1d arrays as data is deprecated in 0.17 and willraise ValueError in 0.19. Reshape your data either using X.reshape(-1, 1) if your data has a single feature or X.reshape(1, -1) if it contains a single sample.\n",
      "  DeprecationWarning)\n",
      "/Applications/anaconda/lib/python2.7/site-packages/sklearn/utils/validation.py:386: DeprecationWarning: Passing 1d arrays as data is deprecated in 0.17 and willraise ValueError in 0.19. Reshape your data either using X.reshape(-1, 1) if your data has a single feature or X.reshape(1, -1) if it contains a single sample.\n",
      "  DeprecationWarning)\n",
      "/Applications/anaconda/lib/python2.7/site-packages/sklearn/utils/validation.py:386: DeprecationWarning: Passing 1d arrays as data is deprecated in 0.17 and willraise ValueError in 0.19. Reshape your data either using X.reshape(-1, 1) if your data has a single feature or X.reshape(1, -1) if it contains a single sample.\n",
      "  DeprecationWarning)\n",
      "/Applications/anaconda/lib/python2.7/site-packages/sklearn/utils/validation.py:386: DeprecationWarning: Passing 1d arrays as data is deprecated in 0.17 and willraise ValueError in 0.19. Reshape your data either using X.reshape(-1, 1) if your data has a single feature or X.reshape(1, -1) if it contains a single sample.\n",
      "  DeprecationWarning)\n",
      "/Applications/anaconda/lib/python2.7/site-packages/sklearn/utils/validation.py:386: DeprecationWarning: Passing 1d arrays as data is deprecated in 0.17 and willraise ValueError in 0.19. Reshape your data either using X.reshape(-1, 1) if your data has a single feature or X.reshape(1, -1) if it contains a single sample.\n",
      "  DeprecationWarning)\n",
      "/Applications/anaconda/lib/python2.7/site-packages/sklearn/utils/validation.py:386: DeprecationWarning: Passing 1d arrays as data is deprecated in 0.17 and willraise ValueError in 0.19. Reshape your data either using X.reshape(-1, 1) if your data has a single feature or X.reshape(1, -1) if it contains a single sample.\n",
      "  DeprecationWarning)\n",
      "/Applications/anaconda/lib/python2.7/site-packages/sklearn/utils/validation.py:386: DeprecationWarning: Passing 1d arrays as data is deprecated in 0.17 and willraise ValueError in 0.19. Reshape your data either using X.reshape(-1, 1) if your data has a single feature or X.reshape(1, -1) if it contains a single sample.\n",
      "  DeprecationWarning)\n",
      "/Applications/anaconda/lib/python2.7/site-packages/sklearn/utils/validation.py:386: DeprecationWarning: Passing 1d arrays as data is deprecated in 0.17 and willraise ValueError in 0.19. Reshape your data either using X.reshape(-1, 1) if your data has a single feature or X.reshape(1, -1) if it contains a single sample.\n",
      "  DeprecationWarning)\n",
      "/Applications/anaconda/lib/python2.7/site-packages/sklearn/utils/validation.py:386: DeprecationWarning: Passing 1d arrays as data is deprecated in 0.17 and willraise ValueError in 0.19. Reshape your data either using X.reshape(-1, 1) if your data has a single feature or X.reshape(1, -1) if it contains a single sample.\n",
      "  DeprecationWarning)\n"
     ]
    },
    {
     "name": "stdout",
     "output_type": "stream",
     "text": [
      "[[ 0.01107438  0.03084237  0.69301281  0.14136185  0.0190952   0.02441015\n",
      "   0.01674606  0.01987839  0.02983971  0.01373909]]\n",
      "[[ 0.00785605  0.01503202  0.00641568  0.05969872  0.00622194  0.81590485\n",
      "   0.01827142  0.01469117  0.02683265  0.0290755 ]]\n",
      "[[ 0.09032074  0.02431256  0.02528779  0.08497356  0.01158112  0.09194181\n",
      "   0.00792425  0.0226405   0.1035976   0.53742006]]\n",
      "[[ 0.0300615   0.0129167   0.01209364  0.00770529  0.014313    0.0281199\n",
      "   0.85856611  0.00676336  0.02465157  0.00480894]]\n",
      "[[ 0.01280209  0.00406262  0.051933    0.81652988  0.00161416  0.01091762\n",
      "   0.00323714  0.0099767   0.01076055  0.07816625]]\n",
      "[[ 0.03327083  0.33633624  0.06951903  0.02659715  0.07221435  0.04891004\n",
      "   0.16499817  0.01731851  0.21426035  0.01657533]]\n",
      "[[ 0.00254205  0.85168237  0.01131134  0.00593436  0.00965851  0.00214088\n",
      "   0.01137726  0.01248679  0.08595493  0.00691151]]\n"
     ]
    },
    {
     "name": "stderr",
     "output_type": "stream",
     "text": [
      "/Applications/anaconda/lib/python2.7/site-packages/sklearn/utils/validation.py:386: DeprecationWarning: Passing 1d arrays as data is deprecated in 0.17 and willraise ValueError in 0.19. Reshape your data either using X.reshape(-1, 1) if your data has a single feature or X.reshape(1, -1) if it contains a single sample.\n",
      "  DeprecationWarning)\n",
      "/Applications/anaconda/lib/python2.7/site-packages/sklearn/utils/validation.py:386: DeprecationWarning: Passing 1d arrays as data is deprecated in 0.17 and willraise ValueError in 0.19. Reshape your data either using X.reshape(-1, 1) if your data has a single feature or X.reshape(1, -1) if it contains a single sample.\n",
      "  DeprecationWarning)\n",
      "/Applications/anaconda/lib/python2.7/site-packages/sklearn/utils/validation.py:386: DeprecationWarning: Passing 1d arrays as data is deprecated in 0.17 and willraise ValueError in 0.19. Reshape your data either using X.reshape(-1, 1) if your data has a single feature or X.reshape(1, -1) if it contains a single sample.\n",
      "  DeprecationWarning)\n",
      "/Applications/anaconda/lib/python2.7/site-packages/sklearn/utils/validation.py:386: DeprecationWarning: Passing 1d arrays as data is deprecated in 0.17 and willraise ValueError in 0.19. Reshape your data either using X.reshape(-1, 1) if your data has a single feature or X.reshape(1, -1) if it contains a single sample.\n",
      "  DeprecationWarning)\n",
      "/Applications/anaconda/lib/python2.7/site-packages/sklearn/utils/validation.py:386: DeprecationWarning: Passing 1d arrays as data is deprecated in 0.17 and willraise ValueError in 0.19. Reshape your data either using X.reshape(-1, 1) if your data has a single feature or X.reshape(1, -1) if it contains a single sample.\n",
      "  DeprecationWarning)\n",
      "/Applications/anaconda/lib/python2.7/site-packages/sklearn/utils/validation.py:386: DeprecationWarning: Passing 1d arrays as data is deprecated in 0.17 and willraise ValueError in 0.19. Reshape your data either using X.reshape(-1, 1) if your data has a single feature or X.reshape(1, -1) if it contains a single sample.\n",
      "  DeprecationWarning)\n",
      "/Applications/anaconda/lib/python2.7/site-packages/sklearn/utils/validation.py:386: DeprecationWarning: Passing 1d arrays as data is deprecated in 0.17 and willraise ValueError in 0.19. Reshape your data either using X.reshape(-1, 1) if your data has a single feature or X.reshape(1, -1) if it contains a single sample.\n",
      "  DeprecationWarning)\n"
     ]
    },
    {
     "name": "stdout",
     "output_type": "stream",
     "text": [
      "[[ 0.03991951  0.03605328  0.01006347  0.00787639  0.13962454  0.01891289\n",
      "   0.71263813  0.01038483  0.01716445  0.0073625 ]]\n",
      "[[ 0.00383311  0.72619269  0.03006428  0.05132363  0.01629823  0.00611977\n",
      "   0.00606336  0.02506419  0.12050826  0.01453247]]\n",
      "[[ 0.10363783  0.06535943  0.08042166  0.01642488  0.1058432   0.03521839\n",
      "   0.47097666  0.02064067  0.08602266  0.01545462]]\n",
      "[[ 0.01309172  0.03030811  0.67368707  0.10474205  0.00796611  0.02493551\n",
      "   0.02348105  0.03929123  0.06332404  0.01917312]]\n",
      "[[ 0.00326404  0.00734683  0.03781611  0.84753291  0.00327285  0.01016549\n",
      "   0.00159328  0.01340445  0.06242092  0.01318312]]\n",
      "[[ 0.78783418  0.00651396  0.03562691  0.01553051  0.01516976  0.03013754\n",
      "   0.01691505  0.01470949  0.03005374  0.04750885]]\n",
      "[[ 0.03358575  0.13880088  0.00624914  0.01031814  0.62934353  0.012556\n",
      "   0.07423564  0.03364689  0.03127981  0.02998424]]\n"
     ]
    },
    {
     "name": "stderr",
     "output_type": "stream",
     "text": [
      "/Applications/anaconda/lib/python2.7/site-packages/sklearn/utils/validation.py:386: DeprecationWarning: Passing 1d arrays as data is deprecated in 0.17 and willraise ValueError in 0.19. Reshape your data either using X.reshape(-1, 1) if your data has a single feature or X.reshape(1, -1) if it contains a single sample.\n",
      "  DeprecationWarning)\n",
      "/Applications/anaconda/lib/python2.7/site-packages/sklearn/utils/validation.py:386: DeprecationWarning: Passing 1d arrays as data is deprecated in 0.17 and willraise ValueError in 0.19. Reshape your data either using X.reshape(-1, 1) if your data has a single feature or X.reshape(1, -1) if it contains a single sample.\n",
      "  DeprecationWarning)\n",
      "/Applications/anaconda/lib/python2.7/site-packages/sklearn/utils/validation.py:386: DeprecationWarning: Passing 1d arrays as data is deprecated in 0.17 and willraise ValueError in 0.19. Reshape your data either using X.reshape(-1, 1) if your data has a single feature or X.reshape(1, -1) if it contains a single sample.\n",
      "  DeprecationWarning)\n",
      "/Applications/anaconda/lib/python2.7/site-packages/sklearn/utils/validation.py:386: DeprecationWarning: Passing 1d arrays as data is deprecated in 0.17 and willraise ValueError in 0.19. Reshape your data either using X.reshape(-1, 1) if your data has a single feature or X.reshape(1, -1) if it contains a single sample.\n",
      "  DeprecationWarning)\n",
      "/Applications/anaconda/lib/python2.7/site-packages/sklearn/utils/validation.py:386: DeprecationWarning: Passing 1d arrays as data is deprecated in 0.17 and willraise ValueError in 0.19. Reshape your data either using X.reshape(-1, 1) if your data has a single feature or X.reshape(1, -1) if it contains a single sample.\n",
      "  DeprecationWarning)\n",
      "/Applications/anaconda/lib/python2.7/site-packages/sklearn/utils/validation.py:386: DeprecationWarning: Passing 1d arrays as data is deprecated in 0.17 and willraise ValueError in 0.19. Reshape your data either using X.reshape(-1, 1) if your data has a single feature or X.reshape(1, -1) if it contains a single sample.\n",
      "  DeprecationWarning)\n",
      "/Applications/anaconda/lib/python2.7/site-packages/sklearn/utils/validation.py:386: DeprecationWarning: Passing 1d arrays as data is deprecated in 0.17 and willraise ValueError in 0.19. Reshape your data either using X.reshape(-1, 1) if your data has a single feature or X.reshape(1, -1) if it contains a single sample.\n",
      "  DeprecationWarning)\n"
     ]
    },
    {
     "name": "stdout",
     "output_type": "stream",
     "text": [
      "[[ 0.63202257  0.02330987  0.04703017  0.0342413   0.0167053   0.08484577\n",
      "   0.05382242  0.01469857  0.04037468  0.05294934]]\n",
      "[[ 0.0088992   0.00774836  0.69510295  0.201844    0.00435286  0.01095617\n",
      "   0.00941303  0.01345496  0.02060042  0.02762806]]\n",
      "[[ 0.03673831  0.01988015  0.05899503  0.14757482  0.01374775  0.06323808\n",
      "   0.02493761  0.04862399  0.06293209  0.52333216]]\n",
      "[[ 0.00968904  0.20555068  0.1666182   0.12507693  0.01870768  0.08064554\n",
      "   0.00847306  0.09470293  0.2355443   0.05499166]]\n",
      "[[ 0.00380923  0.00813245  0.0059951   0.95234861  0.00180183  0.00722188\n",
      "   0.00407383  0.00394862  0.00316888  0.00949957]]\n",
      "[[ 0.03389534  0.01990874  0.01557849  0.00740652  0.76360234  0.00671829\n",
      "   0.01643409  0.09894402  0.02797413  0.00953803]]\n",
      "[[ 0.77896413  0.01102613  0.05755663  0.01427471  0.01171723  0.0175175\n",
      "   0.03477195  0.007293    0.02693862  0.0399401 ]]\n"
     ]
    },
    {
     "name": "stderr",
     "output_type": "stream",
     "text": [
      "/Applications/anaconda/lib/python2.7/site-packages/sklearn/utils/validation.py:386: DeprecationWarning: Passing 1d arrays as data is deprecated in 0.17 and willraise ValueError in 0.19. Reshape your data either using X.reshape(-1, 1) if your data has a single feature or X.reshape(1, -1) if it contains a single sample.\n",
      "  DeprecationWarning)\n",
      "/Applications/anaconda/lib/python2.7/site-packages/sklearn/utils/validation.py:386: DeprecationWarning: Passing 1d arrays as data is deprecated in 0.17 and willraise ValueError in 0.19. Reshape your data either using X.reshape(-1, 1) if your data has a single feature or X.reshape(1, -1) if it contains a single sample.\n",
      "  DeprecationWarning)\n",
      "/Applications/anaconda/lib/python2.7/site-packages/sklearn/utils/validation.py:386: DeprecationWarning: Passing 1d arrays as data is deprecated in 0.17 and willraise ValueError in 0.19. Reshape your data either using X.reshape(-1, 1) if your data has a single feature or X.reshape(1, -1) if it contains a single sample.\n",
      "  DeprecationWarning)\n",
      "/Applications/anaconda/lib/python2.7/site-packages/sklearn/utils/validation.py:386: DeprecationWarning: Passing 1d arrays as data is deprecated in 0.17 and willraise ValueError in 0.19. Reshape your data either using X.reshape(-1, 1) if your data has a single feature or X.reshape(1, -1) if it contains a single sample.\n",
      "  DeprecationWarning)\n",
      "/Applications/anaconda/lib/python2.7/site-packages/sklearn/utils/validation.py:386: DeprecationWarning: Passing 1d arrays as data is deprecated in 0.17 and willraise ValueError in 0.19. Reshape your data either using X.reshape(-1, 1) if your data has a single feature or X.reshape(1, -1) if it contains a single sample.\n",
      "  DeprecationWarning)\n",
      "/Applications/anaconda/lib/python2.7/site-packages/sklearn/utils/validation.py:386: DeprecationWarning: Passing 1d arrays as data is deprecated in 0.17 and willraise ValueError in 0.19. Reshape your data either using X.reshape(-1, 1) if your data has a single feature or X.reshape(1, -1) if it contains a single sample.\n",
      "  DeprecationWarning)\n"
     ]
    },
    {
     "name": "stdout",
     "output_type": "stream",
     "text": [
      "[[  6.87849998e-03   5.44822973e-03   1.27078670e-03   2.25633827e-03\n",
      "    9.57394624e-01   1.38445357e-03   5.69325109e-03   1.49079126e-02\n",
      "    3.89131255e-03   8.74591199e-04]]\n",
      "[[  3.66961320e-04   8.50265801e-01   3.07942143e-03   1.11435698e-02\n",
      "    8.66667215e-02   8.14124736e-04   1.22386830e-03   8.00618731e-03\n",
      "    2.87274187e-02   9.70592563e-03]]\n",
      "[[ 0.01719344  0.00479133  0.00608619  0.00560952  0.02829948  0.00927017\n",
      "   0.90326541  0.00545016  0.01646871  0.00356559]]\n",
      "[[ 0.00442249  0.03830475  0.00470912  0.03449899  0.0751161   0.05823139\n",
      "   0.0062061   0.06788797  0.44244004  0.26818305]]\n"
     ]
    },
    {
     "name": "stderr",
     "output_type": "stream",
     "text": [
      "/Applications/anaconda/lib/python2.7/site-packages/sklearn/utils/validation.py:386: DeprecationWarning: Passing 1d arrays as data is deprecated in 0.17 and willraise ValueError in 0.19. Reshape your data either using X.reshape(-1, 1) if your data has a single feature or X.reshape(1, -1) if it contains a single sample.\n",
      "  DeprecationWarning)\n",
      "/Applications/anaconda/lib/python2.7/site-packages/sklearn/utils/validation.py:386: DeprecationWarning: Passing 1d arrays as data is deprecated in 0.17 and willraise ValueError in 0.19. Reshape your data either using X.reshape(-1, 1) if your data has a single feature or X.reshape(1, -1) if it contains a single sample.\n",
      "  DeprecationWarning)\n",
      "/Applications/anaconda/lib/python2.7/site-packages/sklearn/utils/validation.py:386: DeprecationWarning: Passing 1d arrays as data is deprecated in 0.17 and willraise ValueError in 0.19. Reshape your data either using X.reshape(-1, 1) if your data has a single feature or X.reshape(1, -1) if it contains a single sample.\n",
      "  DeprecationWarning)\n",
      "/Applications/anaconda/lib/python2.7/site-packages/sklearn/utils/validation.py:386: DeprecationWarning: Passing 1d arrays as data is deprecated in 0.17 and willraise ValueError in 0.19. Reshape your data either using X.reshape(-1, 1) if your data has a single feature or X.reshape(1, -1) if it contains a single sample.\n",
      "  DeprecationWarning)\n"
     ]
    },
    {
     "name": "stdout",
     "output_type": "stream",
     "text": [
      "[[ 0.00295703  0.00750947  0.03805913  0.0054386   0.01116239  0.00769055\n",
      "   0.00455759  0.0109258   0.90187357  0.00982587]]\n",
      "[[ 0.85095592  0.02549861  0.01487468  0.0075924   0.00803609  0.00682135\n",
      "   0.0244176   0.00225005  0.02306561  0.03648769]]\n",
      "[[ 0.030867    0.02037423  0.05935578  0.08223033  0.00772315  0.01568013\n",
      "   0.01092413  0.00955854  0.03371554  0.72957118]]\n"
     ]
    },
    {
     "name": "stderr",
     "output_type": "stream",
     "text": [
      "/Applications/anaconda/lib/python2.7/site-packages/sklearn/utils/validation.py:386: DeprecationWarning: Passing 1d arrays as data is deprecated in 0.17 and willraise ValueError in 0.19. Reshape your data either using X.reshape(-1, 1) if your data has a single feature or X.reshape(1, -1) if it contains a single sample.\n",
      "  DeprecationWarning)\n",
      "/Applications/anaconda/lib/python2.7/site-packages/sklearn/utils/validation.py:386: DeprecationWarning: Passing 1d arrays as data is deprecated in 0.17 and willraise ValueError in 0.19. Reshape your data either using X.reshape(-1, 1) if your data has a single feature or X.reshape(1, -1) if it contains a single sample.\n",
      "  DeprecationWarning)\n",
      "/Applications/anaconda/lib/python2.7/site-packages/sklearn/utils/validation.py:386: DeprecationWarning: Passing 1d arrays as data is deprecated in 0.17 and willraise ValueError in 0.19. Reshape your data either using X.reshape(-1, 1) if your data has a single feature or X.reshape(1, -1) if it contains a single sample.\n",
      "  DeprecationWarning)\n",
      "/Applications/anaconda/lib/python2.7/site-packages/sklearn/utils/validation.py:386: DeprecationWarning: Passing 1d arrays as data is deprecated in 0.17 and willraise ValueError in 0.19. Reshape your data either using X.reshape(-1, 1) if your data has a single feature or X.reshape(1, -1) if it contains a single sample.\n",
      "  DeprecationWarning)\n"
     ]
    },
    {
     "name": "stdout",
     "output_type": "stream",
     "text": [
      "[[ 0.01617459  0.0640738   0.01025961  0.01528271  0.24388847  0.03250457\n",
      "   0.01761475  0.36160728  0.041822    0.19677222]]\n",
      "[[ 0.00460743  0.005147    0.00632848  0.00405536  0.0064929   0.01136727\n",
      "   0.92783696  0.00550442  0.02345745  0.00520273]]\n",
      "[[ 0.00255965  0.01926866  0.00341108  0.00518401  0.93083305  0.00514585\n",
      "   0.00530251  0.01975654  0.00583601  0.00270265]]\n"
     ]
    },
    {
     "name": "stderr",
     "output_type": "stream",
     "text": [
      "/Applications/anaconda/lib/python2.7/site-packages/sklearn/utils/validation.py:386: DeprecationWarning: Passing 1d arrays as data is deprecated in 0.17 and willraise ValueError in 0.19. Reshape your data either using X.reshape(-1, 1) if your data has a single feature or X.reshape(1, -1) if it contains a single sample.\n",
      "  DeprecationWarning)\n",
      "/Applications/anaconda/lib/python2.7/site-packages/sklearn/utils/validation.py:386: DeprecationWarning: Passing 1d arrays as data is deprecated in 0.17 and willraise ValueError in 0.19. Reshape your data either using X.reshape(-1, 1) if your data has a single feature or X.reshape(1, -1) if it contains a single sample.\n",
      "  DeprecationWarning)\n",
      "/Applications/anaconda/lib/python2.7/site-packages/sklearn/utils/validation.py:386: DeprecationWarning: Passing 1d arrays as data is deprecated in 0.17 and willraise ValueError in 0.19. Reshape your data either using X.reshape(-1, 1) if your data has a single feature or X.reshape(1, -1) if it contains a single sample.\n",
      "  DeprecationWarning)\n"
     ]
    },
    {
     "name": "stdout",
     "output_type": "stream",
     "text": [
      "[[ 0.00431135  0.05307574  0.08380233  0.01026677  0.01688833  0.010074\n",
      "   0.77032613  0.00552917  0.03715774  0.00856844]]\n",
      "[[ 0.00349295  0.01095048  0.03111601  0.03264633  0.008236    0.02283212\n",
      "   0.00284437  0.80978986  0.01685733  0.06123456]]\n",
      "[[ 0.00316789  0.00969782  0.00175686  0.00515864  0.0026278   0.00517416\n",
      "   0.96139782  0.00180053  0.00614849  0.00306999]]\n"
     ]
    },
    {
     "name": "stderr",
     "output_type": "stream",
     "text": [
      "/Applications/anaconda/lib/python2.7/site-packages/sklearn/utils/validation.py:386: DeprecationWarning: Passing 1d arrays as data is deprecated in 0.17 and willraise ValueError in 0.19. Reshape your data either using X.reshape(-1, 1) if your data has a single feature or X.reshape(1, -1) if it contains a single sample.\n",
      "  DeprecationWarning)\n",
      "/Applications/anaconda/lib/python2.7/site-packages/sklearn/utils/validation.py:386: DeprecationWarning: Passing 1d arrays as data is deprecated in 0.17 and willraise ValueError in 0.19. Reshape your data either using X.reshape(-1, 1) if your data has a single feature or X.reshape(1, -1) if it contains a single sample.\n",
      "  DeprecationWarning)\n",
      "/Applications/anaconda/lib/python2.7/site-packages/sklearn/utils/validation.py:386: DeprecationWarning: Passing 1d arrays as data is deprecated in 0.17 and willraise ValueError in 0.19. Reshape your data either using X.reshape(-1, 1) if your data has a single feature or X.reshape(1, -1) if it contains a single sample.\n",
      "  DeprecationWarning)\n"
     ]
    },
    {
     "name": "stdout",
     "output_type": "stream",
     "text": [
      "[[ 0.00385823  0.00497452  0.00204116  0.01709757  0.00655875  0.93757408\n",
      "   0.00192912  0.00774872  0.00583365  0.0123842 ]]\n",
      "[[ 0.91341342  0.0030855   0.00489302  0.01048748  0.00421234  0.01689973\n",
      "   0.02247055  0.00587916  0.00906896  0.00958983]]\n",
      "[[  3.28012004e-04   9.59807645e-01   1.50050756e-03   2.11624770e-03\n",
      "    5.09605149e-03   1.48199581e-03   8.61217388e-04   1.14403917e-03\n",
      "    2.07308022e-02   6.93348150e-03]]\n"
     ]
    },
    {
     "name": "stderr",
     "output_type": "stream",
     "text": [
      "/Applications/anaconda/lib/python2.7/site-packages/sklearn/utils/validation.py:386: DeprecationWarning: Passing 1d arrays as data is deprecated in 0.17 and willraise ValueError in 0.19. Reshape your data either using X.reshape(-1, 1) if your data has a single feature or X.reshape(1, -1) if it contains a single sample.\n",
      "  DeprecationWarning)\n",
      "/Applications/anaconda/lib/python2.7/site-packages/sklearn/utils/validation.py:386: DeprecationWarning: Passing 1d arrays as data is deprecated in 0.17 and willraise ValueError in 0.19. Reshape your data either using X.reshape(-1, 1) if your data has a single feature or X.reshape(1, -1) if it contains a single sample.\n",
      "  DeprecationWarning)\n",
      "/Applications/anaconda/lib/python2.7/site-packages/sklearn/utils/validation.py:386: DeprecationWarning: Passing 1d arrays as data is deprecated in 0.17 and willraise ValueError in 0.19. Reshape your data either using X.reshape(-1, 1) if your data has a single feature or X.reshape(1, -1) if it contains a single sample.\n",
      "  DeprecationWarning)\n"
     ]
    },
    {
     "name": "stdout",
     "output_type": "stream",
     "text": [
      "[[ 0.01143888  0.00645391  0.07879049  0.80489899  0.00377137  0.01868869\n",
      "   0.00506467  0.01526834  0.01527831  0.04034635]]\n",
      "[[  7.97400226e-04   9.65427677e-01   9.79378371e-04   3.92138334e-03\n",
      "    9.33305669e-03   4.81748179e-03   4.38406580e-04   1.49351423e-03\n",
      "    5.01246451e-03   7.77923762e-03]]\n",
      "[[ 0.00400584  0.0106295   0.00214576  0.0043518   0.91255634  0.03385417\n",
      "   0.01718096  0.00723995  0.00709645  0.00093924]]\n"
     ]
    },
    {
     "name": "stderr",
     "output_type": "stream",
     "text": [
      "/Applications/anaconda/lib/python2.7/site-packages/sklearn/utils/validation.py:386: DeprecationWarning: Passing 1d arrays as data is deprecated in 0.17 and willraise ValueError in 0.19. Reshape your data either using X.reshape(-1, 1) if your data has a single feature or X.reshape(1, -1) if it contains a single sample.\n",
      "  DeprecationWarning)\n",
      "/Applications/anaconda/lib/python2.7/site-packages/sklearn/utils/validation.py:386: DeprecationWarning: Passing 1d arrays as data is deprecated in 0.17 and willraise ValueError in 0.19. Reshape your data either using X.reshape(-1, 1) if your data has a single feature or X.reshape(1, -1) if it contains a single sample.\n",
      "  DeprecationWarning)\n",
      "/Applications/anaconda/lib/python2.7/site-packages/sklearn/utils/validation.py:386: DeprecationWarning: Passing 1d arrays as data is deprecated in 0.17 and willraise ValueError in 0.19. Reshape your data either using X.reshape(-1, 1) if your data has a single feature or X.reshape(1, -1) if it contains a single sample.\n",
      "  DeprecationWarning)\n"
     ]
    },
    {
     "name": "stdout",
     "output_type": "stream",
     "text": [
      "[[ 0.00743438  0.00416401  0.01892478  0.01256845  0.01395011  0.01411626\n",
      "   0.89853105  0.00784539  0.01566361  0.00680196]]\n",
      "[[ 0.00418311  0.02187597  0.00667424  0.0293733   0.10536431  0.00980656\n",
      "   0.00770823  0.77520576  0.02317481  0.0166337 ]]\n"
     ]
    },
    {
     "name": "stderr",
     "output_type": "stream",
     "text": [
      "/Applications/anaconda/lib/python2.7/site-packages/sklearn/utils/validation.py:386: DeprecationWarning: Passing 1d arrays as data is deprecated in 0.17 and willraise ValueError in 0.19. Reshape your data either using X.reshape(-1, 1) if your data has a single feature or X.reshape(1, -1) if it contains a single sample.\n",
      "  DeprecationWarning)\n",
      "/Applications/anaconda/lib/python2.7/site-packages/sklearn/utils/validation.py:386: DeprecationWarning: Passing 1d arrays as data is deprecated in 0.17 and willraise ValueError in 0.19. Reshape your data either using X.reshape(-1, 1) if your data has a single feature or X.reshape(1, -1) if it contains a single sample.\n",
      "  DeprecationWarning)\n"
     ]
    },
    {
     "name": "stdout",
     "output_type": "stream",
     "text": [
      "[[ 0.80689848  0.00335341  0.01149665  0.01515494  0.00844341  0.04236274\n",
      "   0.07932167  0.00950948  0.01354974  0.00990949]]\n",
      "[[  3.06361325e-04   2.23009837e-03   1.91132247e-03   2.16964257e-03\n",
      "    2.34760971e-04   9.77896693e-01   2.69502787e-04   2.45226875e-03\n",
      "    5.98686495e-03   6.54248524e-03]]\n"
     ]
    },
    {
     "name": "stderr",
     "output_type": "stream",
     "text": [
      "/Applications/anaconda/lib/python2.7/site-packages/sklearn/utils/validation.py:386: DeprecationWarning: Passing 1d arrays as data is deprecated in 0.17 and willraise ValueError in 0.19. Reshape your data either using X.reshape(-1, 1) if your data has a single feature or X.reshape(1, -1) if it contains a single sample.\n",
      "  DeprecationWarning)\n",
      "/Applications/anaconda/lib/python2.7/site-packages/sklearn/utils/validation.py:386: DeprecationWarning: Passing 1d arrays as data is deprecated in 0.17 and willraise ValueError in 0.19. Reshape your data either using X.reshape(-1, 1) if your data has a single feature or X.reshape(1, -1) if it contains a single sample.\n",
      "  DeprecationWarning)\n"
     ]
    },
    {
     "name": "stdout",
     "output_type": "stream",
     "text": [
      "[[  7.07147699e-04   9.39433887e-01   2.31997026e-02   2.72211127e-03\n",
      "    6.35388429e-03   2.72453642e-04   3.15309707e-03   4.55555600e-03\n",
      "    1.88547583e-02   7.47402212e-04]]\n",
      "[[ 0.00189659  0.00127578  0.00181096  0.00222225  0.00406128  0.0186968\n",
      "   0.00227607  0.95283827  0.01222393  0.00269806]]\n"
     ]
    },
    {
     "name": "stderr",
     "output_type": "stream",
     "text": [
      "/Applications/anaconda/lib/python2.7/site-packages/sklearn/utils/validation.py:386: DeprecationWarning: Passing 1d arrays as data is deprecated in 0.17 and willraise ValueError in 0.19. Reshape your data either using X.reshape(-1, 1) if your data has a single feature or X.reshape(1, -1) if it contains a single sample.\n",
      "  DeprecationWarning)\n",
      "/Applications/anaconda/lib/python2.7/site-packages/sklearn/utils/validation.py:386: DeprecationWarning: Passing 1d arrays as data is deprecated in 0.17 and willraise ValueError in 0.19. Reshape your data either using X.reshape(-1, 1) if your data has a single feature or X.reshape(1, -1) if it contains a single sample.\n",
      "  DeprecationWarning)\n"
     ]
    },
    {
     "name": "stdout",
     "output_type": "stream",
     "text": [
      "[[  1.14676156e-03   1.66087260e-02   4.61973972e-03   9.02221081e-03\n",
      "    1.47026267e-03   9.95550319e-04   5.75590570e-02   8.94795392e-04\n",
      "    9.04549888e-01   3.13300886e-03]]\n",
      "[[ 0.10867028  0.14316853  0.01084716  0.00949162  0.22598004  0.04204828\n",
      "   0.39053006  0.01355823  0.02336305  0.03234274]]\n"
     ]
    },
    {
     "name": "stderr",
     "output_type": "stream",
     "text": [
      "/Applications/anaconda/lib/python2.7/site-packages/sklearn/utils/validation.py:386: DeprecationWarning: Passing 1d arrays as data is deprecated in 0.17 and willraise ValueError in 0.19. Reshape your data either using X.reshape(-1, 1) if your data has a single feature or X.reshape(1, -1) if it contains a single sample.\n",
      "  DeprecationWarning)\n",
      "/Applications/anaconda/lib/python2.7/site-packages/sklearn/utils/validation.py:386: DeprecationWarning: Passing 1d arrays as data is deprecated in 0.17 and willraise ValueError in 0.19. Reshape your data either using X.reshape(-1, 1) if your data has a single feature or X.reshape(1, -1) if it contains a single sample.\n",
      "  DeprecationWarning)\n"
     ]
    },
    {
     "name": "stdout",
     "output_type": "stream",
     "text": [
      "[[ 0.8491302   0.02056382  0.00286999  0.00742208  0.0078078   0.03918488\n",
      "   0.01434986  0.00401602  0.02243444  0.03222091]]\n",
      "[[  2.38108581e-03   4.58182142e-04   6.44277396e-04   1.28120820e-04\n",
      "    9.89674848e-01   6.70818275e-04   3.81177622e-03   9.50731710e-04\n",
      "    1.22880503e-03   5.13547552e-05]]\n"
     ]
    },
    {
     "name": "stderr",
     "output_type": "stream",
     "text": [
      "/Applications/anaconda/lib/python2.7/site-packages/sklearn/utils/validation.py:386: DeprecationWarning: Passing 1d arrays as data is deprecated in 0.17 and willraise ValueError in 0.19. Reshape your data either using X.reshape(-1, 1) if your data has a single feature or X.reshape(1, -1) if it contains a single sample.\n",
      "  DeprecationWarning)\n",
      "/Applications/anaconda/lib/python2.7/site-packages/sklearn/utils/validation.py:386: DeprecationWarning: Passing 1d arrays as data is deprecated in 0.17 and willraise ValueError in 0.19. Reshape your data either using X.reshape(-1, 1) if your data has a single feature or X.reshape(1, -1) if it contains a single sample.\n",
      "  DeprecationWarning)\n"
     ]
    },
    {
     "name": "stdout",
     "output_type": "stream",
     "text": [
      "[[ 0.00558002  0.00177023  0.00547113  0.01682429  0.00214455  0.00366007\n",
      "   0.00350124  0.02086839  0.0056168   0.93456329]]\n",
      "[[ 0.00212305  0.86768011  0.0019986   0.00675104  0.07197316  0.00210321\n",
      "   0.00687706  0.00706493  0.02221432  0.01121452]]\n"
     ]
    },
    {
     "name": "stderr",
     "output_type": "stream",
     "text": [
      "/Applications/anaconda/lib/python2.7/site-packages/sklearn/utils/validation.py:386: DeprecationWarning: Passing 1d arrays as data is deprecated in 0.17 and willraise ValueError in 0.19. Reshape your data either using X.reshape(-1, 1) if your data has a single feature or X.reshape(1, -1) if it contains a single sample.\n",
      "  DeprecationWarning)\n",
      "/Applications/anaconda/lib/python2.7/site-packages/sklearn/utils/validation.py:386: DeprecationWarning: Passing 1d arrays as data is deprecated in 0.17 and willraise ValueError in 0.19. Reshape your data either using X.reshape(-1, 1) if your data has a single feature or X.reshape(1, -1) if it contains a single sample.\n",
      "  DeprecationWarning)\n"
     ]
    },
    {
     "name": "stdout",
     "output_type": "stream",
     "text": [
      "[[  2.04212270e-03   8.22452822e-04   3.68397149e-03   9.64237677e-01\n",
      "    3.11828099e-03   8.25625454e-03   3.70664206e-04   9.92592543e-03\n",
      "    4.72885382e-03   2.81379738e-03]]\n",
      "[[ 0.97295392  0.00279405  0.00131263  0.00204174  0.00151029  0.00717901\n",
      "   0.00404408  0.00190032  0.00357943  0.00268453]]\n"
     ]
    },
    {
     "name": "stderr",
     "output_type": "stream",
     "text": [
      "/Applications/anaconda/lib/python2.7/site-packages/sklearn/utils/validation.py:386: DeprecationWarning: Passing 1d arrays as data is deprecated in 0.17 and willraise ValueError in 0.19. Reshape your data either using X.reshape(-1, 1) if your data has a single feature or X.reshape(1, -1) if it contains a single sample.\n",
      "  DeprecationWarning)\n",
      "/Applications/anaconda/lib/python2.7/site-packages/sklearn/utils/validation.py:386: DeprecationWarning: Passing 1d arrays as data is deprecated in 0.17 and willraise ValueError in 0.19. Reshape your data either using X.reshape(-1, 1) if your data has a single feature or X.reshape(1, -1) if it contains a single sample.\n",
      "  DeprecationWarning)\n"
     ]
    },
    {
     "name": "stdout",
     "output_type": "stream",
     "text": [
      "[[ 0.01778987  0.00694282  0.00713424  0.01104708  0.00637527  0.03370691\n",
      "   0.86680581  0.00300415  0.04269736  0.00449649]]\n",
      "[[  2.27741777e-03   1.21984894e-03   3.40390059e-03   6.83158542e-03\n",
      "    2.15178862e-03   8.97780355e-04   4.68337604e-04   9.79781758e-01\n",
      "    1.75535840e-03   1.21222387e-03]]\n"
     ]
    },
    {
     "name": "stderr",
     "output_type": "stream",
     "text": [
      "/Applications/anaconda/lib/python2.7/site-packages/sklearn/utils/validation.py:386: DeprecationWarning: Passing 1d arrays as data is deprecated in 0.17 and willraise ValueError in 0.19. Reshape your data either using X.reshape(-1, 1) if your data has a single feature or X.reshape(1, -1) if it contains a single sample.\n",
      "  DeprecationWarning)\n",
      "/Applications/anaconda/lib/python2.7/site-packages/sklearn/utils/validation.py:386: DeprecationWarning: Passing 1d arrays as data is deprecated in 0.17 and willraise ValueError in 0.19. Reshape your data either using X.reshape(-1, 1) if your data has a single feature or X.reshape(1, -1) if it contains a single sample.\n",
      "  DeprecationWarning)\n"
     ]
    },
    {
     "name": "stdout",
     "output_type": "stream",
     "text": [
      "[[  2.76128432e-05   1.09051812e-04   2.49989131e-04   7.95342467e-03\n",
      "    1.12890178e-04   9.89994816e-01   6.11404705e-05   1.15149530e-04\n",
      "    1.16206126e-03   2.13863868e-04]]\n",
      "[[ 0.96811478  0.00099262  0.00135376  0.0028287   0.0014074   0.00655364\n",
      "   0.00233347  0.00332387  0.00697939  0.00611237]]\n"
     ]
    },
    {
     "name": "stderr",
     "output_type": "stream",
     "text": [
      "/Applications/anaconda/lib/python2.7/site-packages/sklearn/utils/validation.py:386: DeprecationWarning: Passing 1d arrays as data is deprecated in 0.17 and willraise ValueError in 0.19. Reshape your data either using X.reshape(-1, 1) if your data has a single feature or X.reshape(1, -1) if it contains a single sample.\n",
      "  DeprecationWarning)\n",
      "/Applications/anaconda/lib/python2.7/site-packages/sklearn/utils/validation.py:386: DeprecationWarning: Passing 1d arrays as data is deprecated in 0.17 and willraise ValueError in 0.19. Reshape your data either using X.reshape(-1, 1) if your data has a single feature or X.reshape(1, -1) if it contains a single sample.\n",
      "  DeprecationWarning)\n"
     ]
    },
    {
     "name": "stdout",
     "output_type": "stream",
     "text": [
      "[[  1.26214757e-04   3.35204227e-04   9.88035269e-01   3.77227482e-03\n",
      "    1.52418876e-04   2.82538937e-04   1.82171745e-04   2.82174425e-03\n",
      "    1.99224111e-03   2.29992216e-03]]\n",
      "[[ 0.00402713  0.65042998  0.01059347  0.00195572  0.0088551   0.00119624\n",
      "   0.0226519   0.00192433  0.29587575  0.0024904 ]]\n"
     ]
    },
    {
     "name": "stderr",
     "output_type": "stream",
     "text": [
      "/Applications/anaconda/lib/python2.7/site-packages/sklearn/utils/validation.py:386: DeprecationWarning: Passing 1d arrays as data is deprecated in 0.17 and willraise ValueError in 0.19. Reshape your data either using X.reshape(-1, 1) if your data has a single feature or X.reshape(1, -1) if it contains a single sample.\n",
      "  DeprecationWarning)\n"
     ]
    },
    {
     "name": "stdout",
     "output_type": "stream",
     "text": [
      "[[  6.76744381e-04   1.83519110e-03   3.29169172e-03   2.18481487e-02\n",
      "    2.22447064e-03   7.17135446e-03   7.28383700e-04   3.33447127e-03\n",
      "    8.90977082e-01   6.79124620e-02]]\n"
     ]
    },
    {
     "name": "stderr",
     "output_type": "stream",
     "text": [
      "/Applications/anaconda/lib/python2.7/site-packages/sklearn/utils/validation.py:386: DeprecationWarning: Passing 1d arrays as data is deprecated in 0.17 and willraise ValueError in 0.19. Reshape your data either using X.reshape(-1, 1) if your data has a single feature or X.reshape(1, -1) if it contains a single sample.\n",
      "  DeprecationWarning)\n"
     ]
    },
    {
     "name": "stdout",
     "output_type": "stream",
     "text": [
      "[[ 0.94803489  0.00171577  0.00237323  0.00518051  0.00236045  0.00942841\n",
      "   0.00560567  0.00528768  0.00796962  0.01204377]]\n"
     ]
    },
    {
     "name": "stderr",
     "output_type": "stream",
     "text": [
      "/Applications/anaconda/lib/python2.7/site-packages/sklearn/utils/validation.py:386: DeprecationWarning: Passing 1d arrays as data is deprecated in 0.17 and willraise ValueError in 0.19. Reshape your data either using X.reshape(-1, 1) if your data has a single feature or X.reshape(1, -1) if it contains a single sample.\n",
      "  DeprecationWarning)\n"
     ]
    },
    {
     "name": "stdout",
     "output_type": "stream",
     "text": [
      "[[  3.11513451e-03   7.02850248e-04   2.36029790e-04   2.05188117e-03\n",
      "    1.11635302e-03   9.82645896e-01   2.08004567e-03   4.69774147e-03\n",
      "    2.04302302e-03   1.31104524e-03]]\n"
     ]
    },
    {
     "name": "stderr",
     "output_type": "stream",
     "text": [
      "/Applications/anaconda/lib/python2.7/site-packages/sklearn/utils/validation.py:386: DeprecationWarning: Passing 1d arrays as data is deprecated in 0.17 and willraise ValueError in 0.19. Reshape your data either using X.reshape(-1, 1) if your data has a single feature or X.reshape(1, -1) if it contains a single sample.\n",
      "  DeprecationWarning)\n"
     ]
    },
    {
     "name": "stdout",
     "output_type": "stream",
     "text": [
      "[[  1.53124324e-03   1.00179619e-03   1.43572869e-04   1.29479981e-02\n",
      "    5.55583238e-03   9.51585951e-01   4.61691750e-03   3.36835497e-03\n",
      "    1.37436522e-02   5.50468103e-03]]\n"
     ]
    },
    {
     "name": "stderr",
     "output_type": "stream",
     "text": [
      "/Applications/anaconda/lib/python2.7/site-packages/sklearn/utils/validation.py:386: DeprecationWarning: Passing 1d arrays as data is deprecated in 0.17 and willraise ValueError in 0.19. Reshape your data either using X.reshape(-1, 1) if your data has a single feature or X.reshape(1, -1) if it contains a single sample.\n",
      "  DeprecationWarning)\n"
     ]
    },
    {
     "name": "stdout",
     "output_type": "stream",
     "text": [
      "[[ 0.00411094  0.04744429  0.00358047  0.07232558  0.02617492  0.74301552\n",
      "   0.02109505  0.00729462  0.0613528   0.01360582]]\n"
     ]
    },
    {
     "name": "stderr",
     "output_type": "stream",
     "text": [
      "/Applications/anaconda/lib/python2.7/site-packages/sklearn/utils/validation.py:386: DeprecationWarning: Passing 1d arrays as data is deprecated in 0.17 and willraise ValueError in 0.19. Reshape your data either using X.reshape(-1, 1) if your data has a single feature or X.reshape(1, -1) if it contains a single sample.\n",
      "  DeprecationWarning)\n"
     ]
    },
    {
     "name": "stdout",
     "output_type": "stream",
     "text": [
      "[[  2.48689089e-03   9.96655172e-03   9.70189519e-01   7.98888085e-04\n",
      "    2.13193334e-03   1.88452491e-04   5.09428569e-03   1.69942326e-03\n",
      "    6.23713601e-03   1.20691990e-03]]\n"
     ]
    },
    {
     "name": "stderr",
     "output_type": "stream",
     "text": [
      "/Applications/anaconda/lib/python2.7/site-packages/sklearn/utils/validation.py:386: DeprecationWarning: Passing 1d arrays as data is deprecated in 0.17 and willraise ValueError in 0.19. Reshape your data either using X.reshape(-1, 1) if your data has a single feature or X.reshape(1, -1) if it contains a single sample.\n",
      "  DeprecationWarning)\n"
     ]
    },
    {
     "name": "stdout",
     "output_type": "stream",
     "text": [
      "[[  4.48696908e-07   1.31628822e-06   9.99173743e-01   1.06803376e-04\n",
      "    4.89237777e-05   2.33340925e-04   2.19945688e-04   3.52599410e-05\n",
      "    3.67025382e-05   1.43515307e-04]]\n"
     ]
    },
    {
     "name": "stderr",
     "output_type": "stream",
     "text": [
      "/Applications/anaconda/lib/python2.7/site-packages/sklearn/utils/validation.py:386: DeprecationWarning: Passing 1d arrays as data is deprecated in 0.17 and willraise ValueError in 0.19. Reshape your data either using X.reshape(-1, 1) if your data has a single feature or X.reshape(1, -1) if it contains a single sample.\n",
      "  DeprecationWarning)\n"
     ]
    },
    {
     "name": "stdout",
     "output_type": "stream",
     "text": [
      "[[  2.17911760e-03   3.88354539e-04   7.85212851e-04   5.86354613e-03\n",
      "    2.36181513e-04   9.83768442e-01   1.49811222e-03   2.47302721e-04\n",
      "    3.68013471e-03   1.35359540e-03]]\n"
     ]
    },
    {
     "name": "stderr",
     "output_type": "stream",
     "text": [
      "/Applications/anaconda/lib/python2.7/site-packages/sklearn/utils/validation.py:386: DeprecationWarning: Passing 1d arrays as data is deprecated in 0.17 and willraise ValueError in 0.19. Reshape your data either using X.reshape(-1, 1) if your data has a single feature or X.reshape(1, -1) if it contains a single sample.\n",
      "  DeprecationWarning)\n"
     ]
    },
    {
     "name": "stdout",
     "output_type": "stream",
     "text": [
      "[[  1.46960550e-03   6.28784684e-04   2.40336420e-03   9.76494104e-01\n",
      "    1.16956561e-03   6.93376713e-03   1.08156356e-03   1.19186193e-03\n",
      "    5.02649122e-03   3.60089201e-03]]\n"
     ]
    },
    {
     "name": "stderr",
     "output_type": "stream",
     "text": [
      "/Applications/anaconda/lib/python2.7/site-packages/sklearn/utils/validation.py:386: DeprecationWarning: Passing 1d arrays as data is deprecated in 0.17 and willraise ValueError in 0.19. Reshape your data either using X.reshape(-1, 1) if your data has a single feature or X.reshape(1, -1) if it contains a single sample.\n",
      "  DeprecationWarning)\n"
     ]
    },
    {
     "name": "stdout",
     "output_type": "stream",
     "text": [
      "[[  8.04511349e-04   8.73724529e-03   1.83623170e-04   2.49629733e-03\n",
      "    6.57564456e-04   1.14663316e-03   9.80027797e-01   2.56228188e-04\n",
      "    3.82603236e-03   1.86406720e-03]]\n"
     ]
    },
    {
     "name": "stderr",
     "output_type": "stream",
     "text": [
      "/Applications/anaconda/lib/python2.7/site-packages/sklearn/utils/validation.py:386: DeprecationWarning: Passing 1d arrays as data is deprecated in 0.17 and willraise ValueError in 0.19. Reshape your data either using X.reshape(-1, 1) if your data has a single feature or X.reshape(1, -1) if it contains a single sample.\n",
      "  DeprecationWarning)\n"
     ]
    },
    {
     "name": "stdout",
     "output_type": "stream",
     "text": [
      "[[  5.32407816e-04   1.89189275e-03   3.17875455e-04   1.29369760e-03\n",
      "    1.84311719e-03   4.75724125e-03   9.75958691e-01   5.08364809e-04\n",
      "    1.25348747e-02   3.61837382e-04]]\n"
     ]
    },
    {
     "name": "stderr",
     "output_type": "stream",
     "text": [
      "/Applications/anaconda/lib/python2.7/site-packages/sklearn/utils/validation.py:386: DeprecationWarning: Passing 1d arrays as data is deprecated in 0.17 and willraise ValueError in 0.19. Reshape your data either using X.reshape(-1, 1) if your data has a single feature or X.reshape(1, -1) if it contains a single sample.\n",
      "  DeprecationWarning)\n"
     ]
    },
    {
     "name": "stdout",
     "output_type": "stream",
     "text": [
      "[[  4.19923915e-03   9.73958180e-01   9.69867340e-04   1.38900176e-03\n",
      "    6.08109480e-04   8.77613325e-04   1.25538698e-02   2.64824278e-04\n",
      "    4.54869712e-03   6.30597313e-04]]\n"
     ]
    },
    {
     "name": "stderr",
     "output_type": "stream",
     "text": [
      "/Applications/anaconda/lib/python2.7/site-packages/sklearn/utils/validation.py:386: DeprecationWarning: Passing 1d arrays as data is deprecated in 0.17 and willraise ValueError in 0.19. Reshape your data either using X.reshape(-1, 1) if your data has a single feature or X.reshape(1, -1) if it contains a single sample.\n",
      "  DeprecationWarning)\n"
     ]
    },
    {
     "name": "stdout",
     "output_type": "stream",
     "text": [
      "[[  1.03988358e-06   3.82620055e-06   9.98085059e-01   1.08750314e-04\n",
      "    9.97471839e-05   1.86877586e-04   2.50651765e-04   3.52589370e-04\n",
      "    6.37923957e-04   2.73534507e-04]]\n"
     ]
    },
    {
     "name": "stderr",
     "output_type": "stream",
     "text": [
      "/Applications/anaconda/lib/python2.7/site-packages/sklearn/utils/validation.py:386: DeprecationWarning: Passing 1d arrays as data is deprecated in 0.17 and willraise ValueError in 0.19. Reshape your data either using X.reshape(-1, 1) if your data has a single feature or X.reshape(1, -1) if it contains a single sample.\n",
      "  DeprecationWarning)\n"
     ]
    },
    {
     "name": "stdout",
     "output_type": "stream",
     "text": [
      "[[  9.30667825e-04   1.12109771e-03   1.01594393e-03   3.86867056e-03\n",
      "    2.34586794e-03   9.59104891e-01   1.56724093e-03   7.90511775e-04\n",
      "    7.95828796e-04   2.84592796e-02]]\n"
     ]
    },
    {
     "name": "stderr",
     "output_type": "stream",
     "text": [
      "/Applications/anaconda/lib/python2.7/site-packages/sklearn/utils/validation.py:386: DeprecationWarning: Passing 1d arrays as data is deprecated in 0.17 and willraise ValueError in 0.19. Reshape your data either using X.reshape(-1, 1) if your data has a single feature or X.reshape(1, -1) if it contains a single sample.\n",
      "  DeprecationWarning)\n"
     ]
    },
    {
     "name": "stdout",
     "output_type": "stream",
     "text": [
      "[[  9.89596499e-01   1.73725572e-04   4.03638649e-03   1.35930481e-03\n",
      "    2.40213309e-04   1.53357695e-03   1.08590772e-03   3.59308551e-04\n",
      "    9.30964535e-04   6.84112917e-04]]\n"
     ]
    },
    {
     "name": "stderr",
     "output_type": "stream",
     "text": [
      "/Applications/anaconda/lib/python2.7/site-packages/sklearn/utils/validation.py:386: DeprecationWarning: Passing 1d arrays as data is deprecated in 0.17 and willraise ValueError in 0.19. Reshape your data either using X.reshape(-1, 1) if your data has a single feature or X.reshape(1, -1) if it contains a single sample.\n",
      "  DeprecationWarning)\n"
     ]
    },
    {
     "name": "stdout",
     "output_type": "stream",
     "text": [
      "[[ 0.00102117  0.00266011  0.00292079  0.005764    0.00192848  0.00127547\n",
      "   0.00107522  0.93388593  0.04630426  0.00316456]]\n"
     ]
    },
    {
     "name": "stderr",
     "output_type": "stream",
     "text": [
      "/Applications/anaconda/lib/python2.7/site-packages/sklearn/utils/validation.py:386: DeprecationWarning: Passing 1d arrays as data is deprecated in 0.17 and willraise ValueError in 0.19. Reshape your data either using X.reshape(-1, 1) if your data has a single feature or X.reshape(1, -1) if it contains a single sample.\n",
      "  DeprecationWarning)\n"
     ]
    },
    {
     "name": "stdout",
     "output_type": "stream",
     "text": [
      "[[ 0.00227871  0.00188134  0.00108043  0.01200524  0.00597518  0.01653061\n",
      "   0.0051151   0.00791295  0.9369658   0.01025464]]\n"
     ]
    },
    {
     "name": "stderr",
     "output_type": "stream",
     "text": [
      "/Applications/anaconda/lib/python2.7/site-packages/sklearn/utils/validation.py:386: DeprecationWarning: Passing 1d arrays as data is deprecated in 0.17 and willraise ValueError in 0.19. Reshape your data either using X.reshape(-1, 1) if your data has a single feature or X.reshape(1, -1) if it contains a single sample.\n",
      "  DeprecationWarning)\n"
     ]
    },
    {
     "name": "stdout",
     "output_type": "stream",
     "text": [
      "[[  3.40751999e-04   9.65430522e-04   3.04155296e-04   2.23713389e-03\n",
      "    9.62019244e-04   7.13722898e-03   5.88945498e-04   9.63354485e-01\n",
      "    3.41616238e-03   2.06936869e-02]]\n"
     ]
    },
    {
     "name": "stderr",
     "output_type": "stream",
     "text": [
      "/Applications/anaconda/lib/python2.7/site-packages/sklearn/utils/validation.py:386: DeprecationWarning: Passing 1d arrays as data is deprecated in 0.17 and willraise ValueError in 0.19. Reshape your data either using X.reshape(-1, 1) if your data has a single feature or X.reshape(1, -1) if it contains a single sample.\n",
      "  DeprecationWarning)\n"
     ]
    },
    {
     "name": "stdout",
     "output_type": "stream",
     "text": [
      "[[  2.91648488e-04   1.73539061e-04   9.95413472e-01   6.04262519e-04\n",
      "    6.41384969e-04   4.06727021e-04   1.60711881e-04   1.35544545e-03\n",
      "    5.68487070e-04   3.84321282e-04]]\n"
     ]
    },
    {
     "name": "stderr",
     "output_type": "stream",
     "text": [
      "/Applications/anaconda/lib/python2.7/site-packages/sklearn/utils/validation.py:386: DeprecationWarning: Passing 1d arrays as data is deprecated in 0.17 and willraise ValueError in 0.19. Reshape your data either using X.reshape(-1, 1) if your data has a single feature or X.reshape(1, -1) if it contains a single sample.\n",
      "  DeprecationWarning)\n"
     ]
    },
    {
     "name": "stdout",
     "output_type": "stream",
     "text": [
      "[[  1.53213094e-03   3.12025786e-03   9.89674155e-05   5.55023483e-03\n",
      "    2.52992397e-03   9.60128481e-01   4.93605324e-04   4.62880720e-03\n",
      "    8.53336379e-03   1.33842272e-02]]\n",
      "[[  1.37100494e-04   1.43323700e-05   3.91933411e-04   9.98020188e-01\n",
      "    4.69653229e-05   3.16934277e-04   5.83260978e-06   4.00100134e-04\n",
      "    2.96141075e-05   6.36998844e-04]]\n"
     ]
    },
    {
     "name": "stderr",
     "output_type": "stream",
     "text": [
      "/Applications/anaconda/lib/python2.7/site-packages/sklearn/utils/validation.py:386: DeprecationWarning: Passing 1d arrays as data is deprecated in 0.17 and willraise ValueError in 0.19. Reshape your data either using X.reshape(-1, 1) if your data has a single feature or X.reshape(1, -1) if it contains a single sample.\n",
      "  DeprecationWarning)\n"
     ]
    },
    {
     "data": {
      "image/png": "[encoded data removed]",
      "text/plain": [
       "<matplotlib.figure.Figure at 0x109846fd0>"
      ]
     },
     "metadata": {},
     "output_type": "display_data"
    }
   ],
   "source": [
    "X, y = digits.data, digits.target\n",
    "\n",
    "xx = 1. - np.array(heldout)\n",
    "\n",
    "for name, clf in classifiers:\n",
    "    print(\"training %s\" % name)\n",
    "    rng = np.random.RandomState(42)\n",
    "    yy = []\n",
    "    for i in heldout:\n",
    "        yy_ = []\n",
    "        for r in range(rounds):\n",
    "            X_train, X_test, y_train, y_test = train_test_split(X, y, test_size=i, random_state=rng)\n",
    "            clf.fit(X_train, y_train)\n",
    "            y_pred = clf.predict(X_test)\n",
    "            yy_.append(1 - np.mean(y_pred == y_test))\n",
    "            if name == \"SVClinear\":\n",
    "                print clf.predict_proba(X_test[0])\n",
    "        yy.append(np.mean(yy_))\n",
    "\n",
    "    plt.plot(xx, yy, label=name)\n",
    "\n",
    "plt.legend(loc=\"upper right\")\n",
    "plt.xlabel(\"Proportion train\")\n",
    "plt.ylabel(\"Test Error Rate\")\n",
    "plt.show()\n"
   ]
  },
  {
   "cell_type": "code",
   "execution_count": 19,
   "metadata": {},
   "outputs": [
    {
     "name": "stdout",
     "output_type": "stream",
     "text": [
      "6\n",
      "1.00000001\n"
     ]
    }
   ],
   "source": [
    "print sum([1,2,3])\n",
    "\n",
    "print sum([.06657449,  0.06911963,  0.02892965,  0.00858564,  0.04956085,  0.01983755, 0.57699796,  0.03700886,  0.0582358, 0.08514958])"
   ]
  },
  {
   "cell_type": "markdown",
   "metadata": {},
   "source": [
    "### SGD regression on Boston housing dataset on *price*"
   ]
  },
  {
   "cell_type": "code",
   "execution_count": 17,
   "metadata": {},
   "outputs": [
    {
     "name": "stdout",
     "output_type": "stream",
     "text": [
      "Dataset:  <class 'sklearn.datasets.base.Bunch'>\n",
      "Data:  <type 'numpy.ndarray'>\n",
      "(379, 14) (127, 14) (379,) (127,)\n",
      "Table 1. Multivariate coefficients\n",
      "   Features  Coefficient Estimate\n",
      "0      CRIM          1.665335e-16\n",
      "1        ZN         -1.266348e-16\n",
      "2     INDUS          1.457168e-16\n",
      "3      CHAS         -6.905500e-15\n",
      "4       NOX         -1.961972e-15\n",
      "5        RM         -2.151057e-16\n",
      "6       AGE         -3.209238e-17\n",
      "7       DIS         -7.632783e-17\n",
      "8       RAD         -2.775558e-16\n",
      "9       TAX         -2.081668e-17\n",
      "10  PTRATIO          3.053113e-16\n",
      "11        B          1.986258e-16\n",
      "12    LSTAT         -2.775558e-16\n",
      "13    Price          1.000000e+00\n",
      "Baseline batch regression:\n",
      "Fit a model X_train, and calculate MSE with Y_train: 0.00\n",
      "Fit a model X_train, and calculate MSE with X_test and Y_test: 0.00\n",
      "training OLS\n",
      "training RidgeCV\n",
      "training LassoCV\n"
     ]
    },
    {
     "data": {
      "image/png": "[encoded data removed]",
      "text/plain": [
       "<matplotlib.figure.Figure at 0x112a572d0>"
      ]
     },
     "metadata": {},
     "output_type": "display_data"
    }
   ],
   "source": [
    "from sklearn.datasets import load_boston\n",
    "\n",
    "boston = load_boston()\n",
    "print 'Dataset: ', type(boston)\n",
    "# the actual data is in a numpy array\n",
    "print 'Data: ', type(boston.data)\n",
    "\n",
    "# load the data into a pandas DataFrame\n",
    "boston_df = pd.DataFrame(boston.data)\n",
    "\n",
    "# add label columns to the dataframe from the original dataset\n",
    "boston_df.columns = boston.feature_names\n",
    "\n",
    "#show\n",
    "boston_df.head()\n",
    "\n",
    "#X_multi = boston_df[['RM', 'CHAS', 'NOX', 'DIS', 'PTRATIO', 'LSTAT', 'RAD', 'INDUS']]\n",
    "X_multi = boston_df\n",
    "\n",
    "# Targets\n",
    "Y_target = boston.target\n",
    "\n",
    "XX = boston_df\n",
    "XX['Price'] = boston.target\n",
    "from pandas.tools.plotting import scatter_matrix\n",
    "#matplotlib.style.use('ggplot')\n",
    "#scatter_matrix(XX, alpha=0.2, figsize=(6, 6), diagonal='kde')\n",
    "\n",
    "# Regression object\n",
    "lreg = LinearRegression()\n",
    "\n",
    "X_train, X_test, y_train, y_test = sklearn.cross_validation.train_test_split(X_multi, Y_target)\n",
    "\n",
    "# Print shapes of the training and testing data sets\n",
    "print X_train.shape, X_test.shape, y_train.shape, y_test.shape\n",
    "\n",
    "# Build a linear regression on the training data only\n",
    "lreg.fit(X_train, y_train)\n",
    "\n",
    "# Create a DataFrame from the Features\n",
    "def printCoefficients(df, lm):\n",
    "    coeff_df = pd.DataFrame(df.columns)\n",
    "    coeff_df.columns = ['Features']\n",
    "    # Add a new column with the coefficients from the linear regression\n",
    "    coeff_df[\"Coefficient Estimate\"] = pd.Series(lm.coef_)\n",
    "    # Show\n",
    "    print 'Table 1. Multivariate coefficients'\n",
    "    print coeff_df\n",
    "\n",
    "printCoefficients(boston_df, lreg)\n",
    "\n",
    "# Predictions on training and testing sets\n",
    "pred_train = lreg.predict(X_train)\n",
    "pred_test = lreg.predict(X_test)\n",
    "print \"Baseline batch regression:\"\n",
    "print \"Fit a model X_train, and calculate MSE with Y_train: %.2f\"  % np.mean((y_train - pred_train) ** 2)  \n",
    "print \"Fit a model X_train, and calculate MSE with X_test and Y_test: %.2f\"  % np.mean((y_test - pred_test) ** 2)\n",
    "\n",
    "rng = np.random.RandomState(42)\n",
    "yy = []\n",
    "\n",
    "for name, lreg in regressors:\n",
    "    print(\"training %s\" % name)\n",
    "    rng = np.random.RandomState(42)\n",
    "    yy = []\n",
    "    for i in heldout:\n",
    "        yy_ = []\n",
    "        for r in range(rounds):\n",
    "            X_train, X_test, y_train, y_test = train_test_split(X_multi, Y_target, test_size=i, random_state=rng)\n",
    "            lreg.fit(X_train, y_train)\n",
    "            y_pred = lreg.predict(X_test)\n",
    "            mse = np.mean((y_test - y_pred) ** 2)\n",
    "            rmse = np.sqrt( np.mean((y_test - y_pred) ** 2) )\n",
    "            yy_.append(mse)\n",
    "        yy.append(np.mean(yy_))\n",
    "    plt.plot(xx, yy, label=name)\n",
    "\n",
    "plt.legend(loc=\"upper right\")\n",
    "plt.xlabel(\"Proportion train\")\n",
    "plt.ylabel(\"Average MSE\")\n",
    "plt.show()\n"
   ]
  },
  {
   "cell_type": "markdown",
   "metadata": {},
   "source": [
    "### Diabetes dataset regression online learning"
   ]
  },
  {
   "cell_type": "code",
   "execution_count": 27,
   "metadata": {},
   "outputs": [
    {
     "name": "stdout",
     "output_type": "stream",
     "text": [
      "   glu_avg_all_3  glu_avg_all_5  glu_med_all_3  glu_med_all_5  glu_pct_all  \\\n",
      "0          100.0          100.0          100.0          100.0     1.000000   \n",
      "1          100.0          100.0          100.0          100.0     0.500000   \n",
      "2          100.0          100.0          100.0          100.0     0.333333   \n",
      "3          109.5          109.5          109.5          109.5     0.500000   \n",
      "4          109.5          109.5          109.5          109.5     0.400000   \n",
      "\n",
      "   ins_pct_all  \n",
      "0     0.000000  \n",
      "1     0.500000  \n",
      "2     0.666667  \n",
      "3     0.500000  \n",
      "4     0.600000  \n",
      "0    100\n",
      "1    100\n",
      "2    100\n",
      "3    119\n",
      "4    119\n",
      "Name: glu_avg_all_1, dtype: float64\n",
      "(707, 6) (236, 6) (707,) (236,)\n",
      "Fit a model X_train, and calculate MSE with Y_train: 3060.40\n",
      "Fit a model X_train, and calculate MSE with X_test and Y_test: 3108.37\n",
      "training OLS\n",
      "training RidgeCV\n",
      "training LassoCV\n"
     ]
    },
    {
     "data": {
      "image/png": "[encoded data removed]",
      "text/plain": [
       "<matplotlib.figure.Figure at 0x10a96e750>"
      ]
     },
     "metadata": {},
     "output_type": "display_data"
    }
   ],
   "source": [
    "\n",
    "#X, y = diabetes_df[['glu_avg_all_3','glu_avg_all_5', 'ins_pct_all']], diabetes_df['glu_avg_all_1']\n",
    "\n",
    "X, y = diabetes_df[['glu_avg_all_3','glu_avg_all_5', 'glu_med_all_3', 'glu_med_all_5', 'glu_pct_all', 'ins_pct_all']], diabetes_df['glu_avg_all_1']\n",
    "\n",
    "print X.head()\n",
    "print y.head()\n",
    "\n",
    "# Regression object\n",
    "lreg = LinearRegression()\n",
    "\n",
    "X_train, X_test, y_train, y_test = sklearn.cross_validation.train_test_split(X, y)\n",
    "\n",
    "# Print shapes of the training and testing data sets\n",
    "print X_train.shape, X_test.shape, y_train.shape, y_test.shape\n",
    "\n",
    "# Build a linear regression on the training data only\n",
    "lreg.fit(X_train, y_train)\n",
    "\n",
    "# Perform baseline prediction on training and testing sets\n",
    "pred_train = lreg.predict(X_train)\n",
    "pred_test = lreg.predict(X_test)\n",
    "print \"Fit a model X_train, and calculate MSE with Y_train: %.2f\"  % np.mean((y_train - pred_train) ** 2)  \n",
    "print \"Fit a model X_train, and calculate MSE with X_test and Y_test: %.2f\"  % np.mean((y_test - pred_test) ** 2)\n",
    "\n",
    "rng = np.random.RandomState(42)\n",
    "yy = []\n",
    "\n",
    "for name, lreg in regressors:\n",
    "    print(\"training %s\" % name)\n",
    "    rng = np.random.RandomState(42)\n",
    "    yy = []\n",
    "    for i in heldout:\n",
    "        yy_ = []\n",
    "        for r in range(rounds):\n",
    "            X_train, X_test, y_train, y_test = train_test_split(X_multi, Y_target, test_size=i, random_state=rng)\n",
    "            lreg.fit(X_train, y_train)\n",
    "            y_pred = lreg.predict(X_test)\n",
    "            mse = np.mean((y_test - y_pred) ** 2)\n",
    "            rmse = np.sqrt( np.mean((y_test - y_pred) ** 2) )\n",
    "            yy_.append(mse)\n",
    "        yy.append(np.mean(yy_))\n",
    "    plt.plot(xx, yy, label=name)\n",
    "\n",
    "plt.legend(loc=\"upper right\")\n",
    "plt.xlabel(\"Proportion train\")\n",
    "plt.ylabel(\"Average MSE\")\n",
    "plt.show()"
   ]
  },
  {
   "cell_type": "code",
   "execution_count": null,
   "metadata": {},
   "outputs": [],
   "source": [
    "dates = pd.date_range('1/1/2000', periods=8)\n",
    "\n",
    "df = pd.DataFrame(np.random.randn(8, 4), index=dates, columns=['A', 'B', 'C', 'D'])\n",
    "\n",
    "print df\n",
    "\n",
    "\"\"\"\n",
    "#Using DataFrame.drop\n",
    "    df.drop(df.columns[[1, 2]], axis=1, inplace=True)\n",
    "\n",
    "    # drop by Name\n",
    "    df1 = df1.drop(['B', 'C'], axis=1)\n",
    "\n",
    "\n",
    "    ## Select the ones you want\n",
    "    df1 = df[['a','d']]\n",
    "\"\"\"\n",
    "df2 = df.drop(['B'], axis=1)\n",
    "print df2\n",
    "\n",
    "X, y = diabetes_df.drop(['glu_avg_all_1'], axis=1), diabetes_df['glu_avg_all_1']\n",
    "#print X.head()\n",
    "\n",
    "\n",
    "X, y = diabetes_df[['glu_avg_all_3','glu_avg_all_5', 'ins_pct_all']], diabetes_df['glu_avg_all_1']\n"
   ]
  },
  {
   "cell_type": "markdown",
   "metadata": {},
   "source": [
    "#### Work"
   ]
  },
  {
   "cell_type": "markdown",
   "metadata": {},
   "source": [
    "### SVR test - Support Vector Machine Regression\n",
    "\n",
    "Did not work well on Boston data set. So we need to experiment. Looks like we used it correctly."
   ]
  },
  {
   "cell_type": "code",
   "execution_count": 20,
   "metadata": {},
   "outputs": [
    {
     "name": "stdout",
     "output_type": "stream",
     "text": [
      "[ 1.76405235  0.40015721  0.97873798  2.2408932   1.86755799 -0.97727788\n",
      "  0.95008842 -0.15135721 -0.10321885  0.4105985 ]\n",
      "[ 0.89267763  0.60015715  0.98206621  1.85535147  0.92760639  0.37993472\n",
      "  1.02794306  0.0486428   0.32927924  0.34111871]\n"
     ]
    }
   ],
   "source": [
    "from sklearn.svm import SVR\n",
    "import numpy as np\n",
    "n_samples, n_features = 10, 5\n",
    "np.random.seed(0)\n",
    "y = np.random.randn(n_samples)\n",
    "X = np.random.randn(n_samples, n_features)\n",
    "clf = SVR(C=1.0, epsilon=0.2)\n",
    "clf.fit(X, y)\n",
    "p = clf.predict(X)\n",
    "print y\n",
    "print p\n",
    "#SVR(C=1.0, cache_size=200, coef0=0.0, degree=3, epsilon=0.2, gamma='auto',\n",
    "#    kernel='rbf', max_iter=-1, shrinking=True, tol=0.001, verbose=False)"
   ]
  },
  {
   "cell_type": "code",
   "execution_count": null,
   "metadata": {},
   "outputs": [],
   "source": [
    "\n",
    "# Load the Pima Indians diabetes dataset from CSV URL\n",
    "import numpy as np\n",
    "import urllib\n",
    "# URL for the Pima Indians Diabetes dataset (UCI Machine Learning Repository)\n",
    "url = \"http://goo.gl/j0Rvxq\"\n",
    "# download the file\n",
    "raw_data = urllib.urlopen(url)\n",
    "# load the CSV file as a numpy matrix\n",
    "dataset = np.loadtxt(raw_data, delimiter=\",\")\n",
    "print(dataset.shape)\n",
    "# separate the data from the target attributes\n",
    "X = dataset[:,0:7]\n",
    "y = dataset[:,8]"
   ]
  },
  {
   "cell_type": "code",
   "execution_count": null,
   "metadata": {},
   "outputs": [],
   "source": [
    "from sklearn import datasets\n",
    "iris = datasets.load_iris()\n",
    "digits = datasets.load_digits()\n",
    "print(digits.data) \n",
    "print digits.target"
   ]
  },
  {
   "cell_type": "code",
   "execution_count": null,
   "metadata": {},
   "outputs": [],
   "source": [
    "from sklearn import svm\n",
    "clf = svm.SVC(gamma=0.001, C=100.)\n",
    "clf.fit(digits.data[:-1], digits.target[:-1]) "
   ]
  },
  {
   "cell_type": "code",
   "execution_count": null,
   "metadata": {},
   "outputs": [],
   "source": [
    "clf.fit(digits.data[:-1], digits.target[:-1]) "
   ]
  },
  {
   "cell_type": "code",
   "execution_count": null,
   "metadata": {},
   "outputs": [],
   "source": [
    "prediction = clf.predict(digits.data[-1:])\n",
    "print prediction[0]"
   ]
  },
  {
   "cell_type": "code",
   "execution_count": null,
   "metadata": {},
   "outputs": [],
   "source": [
    "from sklearn import datasets\n",
    "\n",
    "import matplotlib.pyplot as plt\n",
    "\n",
    "#Display the first digit\n",
    "plt.figure(1, figsize=(3, 3))\n",
    "plt.imshow(digits.images[-1], cmap=plt.cm.gray_r, interpolation='nearest')\n",
    "#plt.imshow(prediction, cmap=plt.cm.gray_r, interpolation='nearest')\n",
    "plt.show()\n",
    "print digits.images[-1]\n",
    "print prediction"
   ]
  },
  {
   "cell_type": "code",
   "execution_count": null,
   "metadata": {},
   "outputs": [],
   "source": [
    "# model persistance\n",
    "\n",
    "from sklearn import svm\n",
    "from sklearn import datasets\n",
    "clf = svm.SVC()\n",
    "iris = datasets.load_iris()\n",
    "X, y = iris.data, iris.target\n",
    "print clf.fit(X, y)  \n",
    "clf2.predict(X[0:1])"
   ]
  },
  {
   "cell_type": "code",
   "execution_count": null,
   "metadata": {},
   "outputs": [],
   "source": [
    "import pickle\n",
    "s = pickle.dumps(clf)\n",
    "clf2 = pickle.loads(s)\n",
    "clf2.predict(X[0:1])"
   ]
  },
  {
   "cell_type": "code",
   "execution_count": null,
   "metadata": {},
   "outputs": [],
   "source": [
    "from sklearn.externals import joblib\n",
    "joblib.dump(clf, 'filename.pkl')\n",
    "clf3 = joblib.load('filename.pkl')\n",
    "clf3.predict(X[0:1])"
   ]
  }
 ],
 "metadata": {
  "anaconda-cloud": {},
  "kernelspec": {
   "display_name": "Python [conda env:pytensorflow35]",
   "language": "python",
   "name": "conda-env-pytensorflow35-py"
  },
  "language_info": {
   "codemirror_mode": {
    "name": "ipython",
    "version": 3
   },
   "file_extension": ".py",
   "mimetype": "text/x-python",
   "name": "python",
   "nbconvert_exporter": "python",
   "pygments_lexer": "ipython3",
   "version": "3.5.3"
  }
 },
 "nbformat": 4,
 "nbformat_minor": 1
}
