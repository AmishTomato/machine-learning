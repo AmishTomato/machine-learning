{
 "cells": [
  {
   "cell_type": "markdown",
   "metadata": {},
   "source": [
    "Basic data types"
   ]
  },
  {
   "cell_type": "code",
   "execution_count": 2,
   "metadata": {
    "collapsed": false
   },
   "outputs": [
    {
     "data": {
      "text/plain": [
       "5"
      ]
     },
     "execution_count": 2,
     "metadata": {},
     "output_type": "execute_result"
    }
   ],
   "source": [
    "x = 5               # creates an object\n",
    "x"
   ]
  },
  {
   "cell_type": "code",
   "execution_count": 3,
   "metadata": {
    "collapsed": false
   },
   "outputs": [
    {
     "data": {
      "text/plain": [
       "int"
      ]
     },
     "execution_count": 3,
     "metadata": {},
     "output_type": "execute_result"
    }
   ],
   "source": [
    "type(5)             # assigning it to a variable is not required"
   ]
  },
  {
   "cell_type": "code",
   "execution_count": 4,
   "metadata": {
    "collapsed": false
   },
   "outputs": [
    {
     "data": {
      "text/plain": [
       "float"
      ]
     },
     "execution_count": 4,
     "metadata": {},
     "output_type": "execute_result"
    }
   ],
   "source": [
    "type(5.0)           # float"
   ]
  },
  {
   "cell_type": "code",
   "execution_count": 5,
   "metadata": {
    "collapsed": false
   },
   "outputs": [
    {
     "data": {
      "text/plain": [
       "str"
      ]
     },
     "execution_count": 5,
     "metadata": {},
     "output_type": "execute_result"
    }
   ],
   "source": [
    "type('five')        # str , single or double quotes"
   ]
  },
  {
   "cell_type": "code",
   "execution_count": 6,
   "metadata": {
    "collapsed": false
   },
   "outputs": [
    {
     "data": {
      "text/plain": [
       "bool"
      ]
     },
     "execution_count": 6,
     "metadata": {},
     "output_type": "execute_result"
    }
   ],
   "source": [
    "type(True)          # bool"
   ]
  },
  {
   "cell_type": "code",
   "execution_count": 7,
   "metadata": {
    "collapsed": false
   },
   "outputs": [
    {
     "data": {
      "text/plain": [
       "2"
      ]
     },
     "execution_count": 7,
     "metadata": {},
     "output_type": "execute_result"
    }
   ],
   "source": [
    "5 / 2               # integer division ignores remainder"
   ]
  },
  {
   "cell_type": "code",
   "execution_count": 8,
   "metadata": {
    "collapsed": false
   },
   "outputs": [
    {
     "data": {
      "text/plain": [
       "2.5"
      ]
     },
     "execution_count": 8,
     "metadata": {},
     "output_type": "execute_result"
    }
   ],
   "source": [
    "5 / 2.0             # the presence of a decimal means float division"
   ]
  },
  {
   "cell_type": "markdown",
   "metadata": {},
   "source": [
    "Lists"
   ]
  },
  {
   "cell_type": "code",
   "execution_count": 19,
   "metadata": {
    "collapsed": false
   },
   "outputs": [
    {
     "data": {
      "text/plain": [
       "[5, 5.0, 'five']"
      ]
     },
     "execution_count": 19,
     "metadata": {},
     "output_type": "execute_result"
    }
   ],
   "source": [
    "nums = [5, 5.0, 'five']     # multiple data types\n",
    "nums                        # print the list"
   ]
  },
  {
   "cell_type": "code",
   "execution_count": 20,
   "metadata": {
    "collapsed": false
   },
   "outputs": [
    {
     "data": {
      "text/plain": [
       "list"
      ]
     },
     "execution_count": 20,
     "metadata": {},
     "output_type": "execute_result"
    }
   ],
   "source": [
    "type(nums)                  # check the type: list"
   ]
  },
  {
   "cell_type": "code",
   "execution_count": 21,
   "metadata": {
    "collapsed": false
   },
   "outputs": [
    {
     "data": {
      "text/plain": [
       "3"
      ]
     },
     "execution_count": 21,
     "metadata": {},
     "output_type": "execute_result"
    }
   ],
   "source": [
    "len(nums)                   # check the length: 3"
   ]
  },
  {
   "cell_type": "code",
   "execution_count": 22,
   "metadata": {
    "collapsed": false
   },
   "outputs": [
    {
     "data": {
      "text/plain": [
       "5"
      ]
     },
     "execution_count": 22,
     "metadata": {},
     "output_type": "execute_result"
    }
   ],
   "source": [
    "nums[0]                     # print first element"
   ]
  },
  {
   "cell_type": "code",
   "execution_count": 23,
   "metadata": {
    "collapsed": false
   },
   "outputs": [
    {
     "data": {
      "text/plain": [
       "[5, 5.0, 6]"
      ]
     },
     "execution_count": 23,
     "metadata": {},
     "output_type": "execute_result"
    }
   ],
   "source": [
    "nums[2] = 6                 # replace a list element\n",
    "nums                        # IT CHANGED"
   ]
  },
  {
   "cell_type": "code",
   "execution_count": 24,
   "metadata": {
    "collapsed": false
   },
   "outputs": [
    {
     "data": {
      "text/plain": [
       "[5.0, 6, 7, 5, 'apple']"
      ]
     },
     "execution_count": 24,
     "metadata": {},
     "output_type": "execute_result"
    }
   ],
   "source": [
    "nums.append(7)              # list 'method' that changes the list\n",
    "nums.remove(5)              # another list method\n",
    "nums.append(5)\n",
    "nums.append(\"apple\")\n",
    "nums"
   ]
  },
  {
   "cell_type": "code",
   "execution_count": 60,
   "metadata": {
    "collapsed": false
   },
   "outputs": [
    {
     "data": {
      "text/plain": [
       "[5.0, 6, 7, 5]"
      ]
     },
     "execution_count": 60,
     "metadata": {},
     "output_type": "execute_result"
    }
   ],
   "source": [
    "nums"
   ]
  },
  {
   "cell_type": "code",
   "execution_count": 58,
   "metadata": {
    "collapsed": false
   },
   "outputs": [
    {
     "ename": "ValueError",
     "evalue": "list.remove(x): x not in list",
     "output_type": "error",
     "traceback": [
      "\u001b[0;31m---------------------------------------------------------------------------\u001b[0m",
      "\u001b[0;31mValueError\u001b[0m                                Traceback (most recent call last)",
      "\u001b[0;32m<ipython-input-58-2327907857dc>\u001b[0m in \u001b[0;36m<module>\u001b[0;34m()\u001b[0m\n\u001b[0;32m----> 1\u001b[0;31m \u001b[0mnums\u001b[0m\u001b[0;34m.\u001b[0m\u001b[0mremove\u001b[0m\u001b[0;34m(\u001b[0m\u001b[0;34m\"apple\"\u001b[0m\u001b[0;34m)\u001b[0m\u001b[0;34m\u001b[0m\u001b[0m\n\u001b[0m\u001b[1;32m      2\u001b[0m \u001b[0;32mprint\u001b[0m \u001b[0mnums\u001b[0m\u001b[0;34m\u001b[0m\u001b[0m\n\u001b[1;32m      3\u001b[0m \u001b[0msorted\u001b[0m\u001b[0;34m(\u001b[0m\u001b[0mnums\u001b[0m\u001b[0;34m)\u001b[0m                \u001b[0;31m# 'function' that does not modify the list\u001b[0m\u001b[0;34m\u001b[0m\u001b[0m\n",
      "\u001b[0;31mValueError\u001b[0m: list.remove(x): x not in list"
     ]
    }
   ],
   "source": [
    "nums.remove(\"apple\")\n",
    "print nums\n",
    "sorted(nums)                # 'function' that does not modify the list"
   ]
  },
  {
   "cell_type": "code",
   "execution_count": 27,
   "metadata": {
    "collapsed": false
   },
   "outputs": [
    {
     "data": {
      "text/plain": [
       "23.0"
      ]
     },
     "execution_count": 27,
     "metadata": {},
     "output_type": "execute_result"
    }
   ],
   "source": [
    "sorted(nums, reverse=True)  # optional argument\n",
    "sum(nums)                   # returns sum of a list of numbers"
   ]
  },
  {
   "cell_type": "markdown",
   "metadata": {},
   "source": [
    "Note that list methods are a part of lists, like append and remove\n",
    "but sorted is a built in python method that TAKES IN a list"
   ]
  },
  {
   "cell_type": "code",
   "execution_count": 29,
   "metadata": {
    "collapsed": false
   },
   "outputs": [
    {
     "name": "stdout",
     "output_type": "stream",
     "text": [
      "['Monday', 'Tuesday', 'Wednesday', 'Thursday', 'Friday', 'Saturday', 'Sunday']\n"
     ]
    }
   ],
   "source": [
    "# let's use a for loop to \"iterate\" over this list\n",
    "days_of_the_week = ['Monday', \"Tuesday\", \"Wednesday\", \"Thursday\", \"Friday\", \"Saturday\", 'Sunday']\n",
    "print days_of_the_week"
   ]
  },
  {
   "cell_type": "code",
   "execution_count": 31,
   "metadata": {
    "collapsed": false
   },
   "outputs": [
    {
     "data": {
      "text/plain": [
       "['Monday', 'Tuesday', 'Wednesday', 'Thursday', 'Friday']"
      ]
     },
     "execution_count": 31,
     "metadata": {},
     "output_type": "execute_result"
    }
   ],
   "source": [
    "# list slicing\n",
    "weekdays = days_of_the_week[0:5]    # weekdays, NOTE doesn't include the index 5\n",
    "weekdays"
   ]
  },
  {
   "cell_type": "code",
   "execution_count": 32,
   "metadata": {
    "collapsed": false
   },
   "outputs": [
    {
     "data": {
      "text/plain": [
       "['Monday', 'Tuesday']"
      ]
     },
     "execution_count": 32,
     "metadata": {},
     "output_type": "execute_result"
    }
   ],
   "source": [
    "weekdays[0:2]"
   ]
  },
  {
   "cell_type": "code",
   "execution_count": 34,
   "metadata": {
    "collapsed": false
   },
   "outputs": [
    {
     "name": "stdout",
     "output_type": "stream",
     "text": [
      "['Saturday', 'Sunday']\n",
      "['Monday', 'Tuesday', 'Wednesday', 'Thursday', 'Friday']\n",
      "['Monday', 'Thursday', 'Sunday']\n"
     ]
    }
   ],
   "source": [
    "print days_of_the_week[5:]     # weekends\n",
    "print days_of_the_week[:5]\n",
    "print days_of_the_week[0:7:3]  # the third element means every second element"
   ]
  },
  {
   "cell_type": "markdown",
   "metadata": {},
   "source": [
    "CONDITIONALS"
   ]
  },
  {
   "cell_type": "code",
   "execution_count": 38,
   "metadata": {
    "collapsed": false
   },
   "outputs": [],
   "source": [
    "x=x*x"
   ]
  },
  {
   "cell_type": "code",
   "execution_count": 49,
   "metadata": {
    "collapsed": false
   },
   "outputs": [
    {
     "name": "stdout",
     "output_type": "stream",
     "text": [
      "25\n",
      "x is more than 10 !\n",
      "hooray\n"
     ]
    }
   ],
   "source": [
    "# we will use an if else to implement logic\n",
    "print x              # remember x?\n",
    "if x  > 10 :\n",
    "    print \"x is more than 10 !\"\n",
    "    print \"hooray\"\n",
    "elif x > 100:\n",
    "    print \"x is HUGE\""
   ]
  },
  {
   "cell_type": "code",
   "execution_count": 40,
   "metadata": {
    "collapsed": false
   },
   "outputs": [
    {
     "name": "stdout",
     "output_type": "stream",
     "text": [
      "water is ice\n"
     ]
    }
   ],
   "source": [
    "#as soon as one conditional is satisfied, it stops checking!\n",
    "\n",
    "temperature = 20\n",
    "if temperature <= 32:\n",
    "    print \"water is ice\"\n",
    "elif temperature > 32 and temperature < 212:\n",
    "    print \"water is liquid\"\n",
    "else:                        #implicity means else if temperature >=212\n",
    "    print \"water will boil\""
   ]
  },
  {
   "cell_type": "markdown",
   "metadata": {},
   "source": [
    "DICTIONARIES"
   ]
  },
  {
   "cell_type": "code",
   "execution_count": 50,
   "metadata": {
    "collapsed": false
   },
   "outputs": [
    {
     "name": "stdout",
     "output_type": "stream",
     "text": [
      "23\n",
      "Baltimore\n",
      "{'gender': 'Female', 'age': 29, 'location': 'Washington, D.C.', 'occupation': 'Security Analyst'}\n",
      "{'gender': 'Male', 'age': 23, 'location': 'Baltimore', 'occupation': 'Professor/Entrepreneur'}\n",
      "23\n"
     ]
    }
   ],
   "source": [
    "'''\n",
    "have a key value structure,\n",
    "like a dictionary! :)\n",
    "\n",
    "dictionary = {\n",
    "    key1: value1,\n",
    "    key2: value2,\n",
    "    ....\n",
    "}\n",
    "'''\n",
    "\n",
    "sinan = {\n",
    "    \"age\" : 23,\n",
    "    \"location\" : \"Baltimore\",\n",
    "    \"gender\": \"Male\",\n",
    "    \"occupation\": \"Professor/Entrepreneur\"\n",
    "}\n",
    "\n",
    "print sinan['age']\n",
    "print sinan['location']\n",
    "\n",
    "deniz = {\n",
    "    \"age\" : 29,\n",
    "    \"location\" : \"Washington, D.C.\",\n",
    "    \"gender\": \"Female\",\n",
    "    'occupation': \"Security Analyst\"\n",
    "}\n",
    "print deniz\n",
    "\n",
    "people = [sinan, deniz] #is a list of myself\n",
    "\n",
    "print people[0] # is the dictionary thar represents sinan\n",
    "print people[0]['age']"
   ]
  },
  {
   "cell_type": "code",
   "execution_count": 51,
   "metadata": {
    "collapsed": false
   },
   "outputs": [
    {
     "name": "stdout",
     "output_type": "stream",
     "text": [
      "the day is Monday\n",
      "the day is Tuesday\n",
      "the day is Wednesday\n",
      "the day is Thursday\n",
      "the day is Friday\n",
      "the day is Saturday\n",
      "the day is Sunday\n",
      "<type 'dict'>\n",
      "23 and lives in Baltimore\n",
      "<type 'dict'>\n",
      "29 and lives in Washington, D.C.\n"
     ]
    }
   ],
   "source": [
    "'''\n",
    "for loops are a way of \"iterating\" over an item, like a list!\n",
    "but also dictionaries!\n",
    "'''\n",
    "\n",
    "# iterating over a list\n",
    "for day in days_of_the_week: # the \"day\" variable can really be called anything\n",
    "    print \"the day is \" + day\n",
    "\n",
    "for person in people:\n",
    "    print type(person)\n",
    "    print str(person['age']) + \" and lives in \"+person['location']\n",
    "\n",
    "  \n",
    "        "
   ]
  },
  {
   "cell_type": "code",
   "execution_count": 52,
   "metadata": {
    "collapsed": false
   },
   "outputs": [
    {
     "name": "stdout",
     "output_type": "stream",
     "text": [
      "gender\n",
      "age\n",
      "location\n",
      "occupation\n",
      "Male\n",
      "23\n",
      "Baltimore\n",
      "Professor/Entrepreneur\n",
      "Monday\n",
      "Friday\n",
      "Sunday\n"
     ]
    }
   ],
   "source": [
    "sinan.items()             # produces a list\n",
    "sinan.items()[0][0]\n",
    "\n",
    "# NOW I can iterate over sinan.items()\n",
    "# iterating over a dictionaries \"items\"\n",
    "for element in sinan.items():\n",
    "    print element[0]\n",
    "\n",
    "for first, second in sinan.items():\n",
    "    print second\n",
    "    \n",
    "# Let's filter out some days based on an if!\n",
    "for day in days_of_the_week: # the \"day\" variable can really be called anything\n",
    "    if len(day) <= 6: #will only print days with length of 6 or less\n",
    "        print day    "
   ]
  },
  {
   "cell_type": "markdown",
   "metadata": {},
   "source": [
    "LIST COMPREHENSIONS"
   ]
  },
  {
   "cell_type": "code",
   "execution_count": 57,
   "metadata": {
    "collapsed": false
   },
   "outputs": [
    {
     "name": "stdout",
     "output_type": "stream",
     "text": [
      "[2, 5, 7, 4, 2, 5]\n",
      "6\n",
      "[4, 25, 49, 16, 4, 25]\n",
      "[1.0, 2.5, 3.5, 2.0, 1.0, 2.5]\n",
      "[1.4142135623730951, 2.23606797749979, 2.6457513110645907, 2.0, 1.4142135623730951, 2.23606797749979]\n"
     ]
    }
   ],
   "source": [
    "import math\t\t\t\t# import statement\n",
    "\n",
    "flubber = [2, 5, 7, 4, 2, 5]\n",
    "print flubber\n",
    "print len(flubber)\n",
    "print [n**2 for n in flubber]    # list comprehension\n",
    "print [y / 2.0 for y in flubber] #note the 2.0 instead of 2\n",
    "print [math.sqrt(r) for r in flubber]\n",
    "\n",
    "#note I used a different variable name for each one because it doesn't matter!"
   ]
  },
  {
   "cell_type": "markdown",
   "metadata": {},
   "source": [
    "FUNCTIONS"
   ]
  },
  {
   "cell_type": "code",
   "execution_count": 54,
   "metadata": {
    "collapsed": false
   },
   "outputs": [
    {
     "name": "stdout",
     "output_type": "stream",
     "text": [
      "gave you five\n",
      "I'm going to give you five\n",
      "I'm going to give you five\n",
      "(1, 3)\n",
      "1\n",
      "3\n",
      "(2, 4)\n",
      "2\n",
      "4\n",
      "(2, 5)\n",
      "2\n",
      "5\n"
     ]
    },
    {
     "data": {
      "text/plain": [
       "[1, 2, 2]"
      ]
     },
     "execution_count": 54,
     "metadata": {},
     "output_type": "execute_result"
    }
   ],
   "source": [
    "def give_me_five():         # function definition ends with colon\n",
    "    print \"I'm going to give you five\"    \n",
    "    return 5                # indentation required for function body\n",
    "print \"gave you five\"\n",
    "give_me_five()              # prints the return value (5)\n",
    "a_new_variable = give_me_five()        # assigns return value to a variable, doesn't print it\n",
    "\n",
    "\n",
    "def calc(x=1, y=2, op = \"add\"):         # three arguments (without any defaults)\n",
    "    if op == 'add':                     # conditional statement\n",
    "        return x + y\n",
    "    elif op == 'subtract':\n",
    "        return x - y\n",
    "    elif op == \"multiply\":\n",
    "        return x * y\n",
    "    else:\n",
    "        print 'Valid operations: add, subtract, multiply'\n",
    "\n",
    "calc(5, 3, 'add')\n",
    "calc(5, 3, 'subtract')\n",
    "calc(5, 3, 'multiply')\n",
    "calc([1,2],[3,4], \"add\")\n",
    "#calc(\"sinan\",[1,2], \"add\")    # will not work\n",
    "calc(5, 3)                    # defaults to add\n",
    "\n",
    "calc()                        # defaults everything!\n",
    "\n",
    "\n",
    "point_1 = (1, 2, 2)   #tuples have a paranthesis\n",
    "point_2  = (3, 4, 5)\n",
    "\n",
    "pairs = zip(point_1, point_2)\n",
    "for x in pairs:\n",
    "    print x\n",
    "    print x[0]\n",
    "    print x[1]\n",
    "\n",
    "[x[0] for x in pairs]"
   ]
  },
  {
   "cell_type": "code",
   "execution_count": null,
   "metadata": {
    "collapsed": true
   },
   "outputs": [],
   "source": []
  }
 ],
 "metadata": {
  "kernelspec": {
   "display_name": "Python 2",
   "language": "python",
   "name": "python2"
  },
  "language_info": {
   "codemirror_mode": {
    "name": "ipython",
    "version": 2
   },
   "file_extension": ".py",
   "mimetype": "text/x-python",
   "name": "python",
   "nbconvert_exporter": "python",
   "pygments_lexer": "ipython2",
   "version": "2.7.11"
  }
 },
 "nbformat": 4,
 "nbformat_minor": 0
}
