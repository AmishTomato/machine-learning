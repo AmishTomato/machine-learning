{
 "cells": [
  {
   "cell_type": "markdown",
   "metadata": {
    "deletable": true,
    "editable": true
   },
   "source": [
    "### Probabilistic Graphical Models"
   ]
  },
  {
   "cell_type": "code",
   "execution_count": 67,
   "metadata": {
    "collapsed": false,
    "deletable": true,
    "editable": true
   },
   "outputs": [
    {
     "data": {
      "text/plain": [
       "(X _|_ Y)"
      ]
     },
     "execution_count": 67,
     "metadata": {},
     "output_type": "execute_result"
    }
   ],
   "source": [
    "from pgmpy.independencies import IndependenceAssertion\n",
    "\n",
    "assertion1 = IndependenceAssertion('X','Y')\n",
    "assertion1"
   ]
  },
  {
   "cell_type": "code",
   "execution_count": 68,
   "metadata": {
    "collapsed": false,
    "deletable": true,
    "editable": true
   },
   "outputs": [
    {
     "data": {
      "text/plain": [
       "(X _|_ Y | Z)"
      ]
     },
     "execution_count": 68,
     "metadata": {},
     "output_type": "execute_result"
    }
   ],
   "source": [
    "assertion2 = IndependenceAssertion('X','Y','Z')\n",
    "assertion2"
   ]
  },
  {
   "cell_type": "code",
   "execution_count": 69,
   "metadata": {
    "collapsed": false,
    "deletable": true,
    "editable": true
   },
   "outputs": [
    {
     "data": {
      "text/plain": [
       "(X _|_ Z, Y | A, B)"
      ]
     },
     "execution_count": 69,
     "metadata": {},
     "output_type": "execute_result"
    }
   ],
   "source": [
    "assertion2 = IndependenceAssertion('X',['Y','Z'],['A','B'])\n",
    "assertion2"
   ]
  },
  {
   "cell_type": "markdown",
   "metadata": {
    "collapsed": true,
    "deletable": true,
    "editable": true
   },
   "source": [
    "#### Ch. 5 Learning"
   ]
  },
  {
   "cell_type": "code",
   "execution_count": 70,
   "metadata": {
    "collapsed": false,
    "deletable": true,
    "editable": true
   },
   "outputs": [
    {
     "name": "stdout",
     "output_type": "stream",
     "text": [
      "<class 'numpy.ndarray'>\n",
      "[[1 0]\n",
      " [0 0]\n",
      " [1 1]\n",
      " [0 0]\n",
      " [1 1]\n",
      " [1 1]\n",
      " [1 0]\n",
      " [0 0]\n",
      " [1 0]\n",
      " [1 1]\n",
      " [0 0]\n",
      " [1 0]\n",
      " [0 1]\n",
      " [0 0]\n",
      " [1 1]\n",
      " [0 1]\n",
      " [0 0]\n",
      " [0 0]\n",
      " [1 0]\n",
      " [0 0]\n",
      " [0 0]\n",
      " [1 0]\n",
      " [1 1]\n",
      " [1 1]\n",
      " [1 1]\n",
      " [0 1]\n",
      " [1 0]\n",
      " [1 0]\n",
      " [1 0]\n",
      " [1 0]\n",
      " [0 1]\n",
      " [1 1]\n",
      " [0 1]\n",
      " [0 1]\n",
      " [0 1]\n",
      " [1 1]\n",
      " [1 1]\n",
      " [0 1]\n",
      " [0 1]\n",
      " [1 1]\n",
      " [0 1]\n",
      " [1 1]\n",
      " [1 0]\n",
      " [1 0]\n",
      " [1 1]\n",
      " [1 0]\n",
      " [0 0]\n",
      " [1 1]\n",
      " [0 0]\n",
      " [1 1]\n",
      " [1 1]\n",
      " [0 1]\n",
      " [0 1]\n",
      " [1 1]\n",
      " [1 0]\n",
      " [0 1]\n",
      " [0 1]\n",
      " [0 1]\n",
      " [1 1]\n",
      " [1 0]\n",
      " [1 1]\n",
      " [0 0]\n",
      " [0 0]\n",
      " [1 1]\n",
      " [0 1]\n",
      " [1 1]\n",
      " [1 1]\n",
      " [1 0]\n",
      " [1 1]\n",
      " [1 1]\n",
      " [0 1]\n",
      " [1 0]\n",
      " [0 0]\n",
      " [0 1]\n",
      " [1 1]\n",
      " [1 0]\n",
      " [1 1]\n",
      " [1 1]\n",
      " [1 0]\n",
      " [0 0]\n",
      " [1 1]\n",
      " [1 1]\n",
      " [0 0]\n",
      " [0 1]\n",
      " [1 0]\n",
      " [1 0]\n",
      " [1 0]\n",
      " [0 1]\n",
      " [1 1]\n",
      " [0 0]\n",
      " [1 1]\n",
      " [1 0]\n",
      " [0 1]\n",
      " [1 1]\n",
      " [0 1]\n",
      " [0 1]\n",
      " [1 1]\n",
      " [1 1]\n",
      " [1 0]\n",
      " [0 0]]\n"
     ]
    }
   ],
   "source": [
    "import numpy as np\n",
    "import pandas as pd\n",
    "from pgmpy.models import BayesianModel\n",
    "from pgmpy.estimators import MaximumLikelihoodEstimator\n",
    "\n",
    "raw_data = np.random.randint(low=0, high=2, size=(100, 2))\n",
    "print( type(raw_data) )\n",
    "print(raw_data)\n"
   ]
  },
  {
   "cell_type": "code",
   "execution_count": 71,
   "metadata": {
    "collapsed": false,
    "deletable": true,
    "editable": true
   },
   "outputs": [
    {
     "name": "stdout",
     "output_type": "stream",
     "text": [
      "<class 'pandas.core.frame.DataFrame'>\n",
      "    X  Y\n",
      "0   1  0\n",
      "1   0  0\n",
      "2   1  1\n",
      "3   0  0\n",
      "4   1  1\n",
      "5   1  1\n",
      "6   1  0\n",
      "7   0  0\n",
      "8   1  0\n",
      "9   1  1\n",
      "10  0  0\n",
      "11  1  0\n",
      "12  0  1\n",
      "13  0  0\n",
      "14  1  1\n",
      "15  0  1\n",
      "16  0  0\n",
      "17  0  0\n",
      "18  1  0\n",
      "19  0  0\n",
      "20  0  0\n",
      "21  1  0\n",
      "22  1  1\n",
      "23  1  1\n",
      "24  1  1\n",
      "25  0  1\n",
      "26  1  0\n",
      "27  1  0\n",
      "28  1  0\n",
      "29  1  0\n",
      ".. .. ..\n",
      "70  0  1\n",
      "71  1  0\n",
      "72  0  0\n",
      "73  0  1\n",
      "74  1  1\n",
      "75  1  0\n",
      "76  1  1\n",
      "77  1  1\n",
      "78  1  0\n",
      "79  0  0\n",
      "80  1  1\n",
      "81  1  1\n",
      "82  0  0\n",
      "83  0  1\n",
      "84  1  0\n",
      "85  1  0\n",
      "86  1  0\n",
      "87  0  1\n",
      "88  1  1\n",
      "89  0  0\n",
      "90  1  1\n",
      "91  1  0\n",
      "92  0  1\n",
      "93  1  1\n",
      "94  0  1\n",
      "95  0  1\n",
      "96  1  1\n",
      "97  1  1\n",
      "98  1  0\n",
      "99  0  0\n",
      "\n",
      "[100 rows x 2 columns]\n"
     ]
    }
   ],
   "source": [
    "data = pd.DataFrame(raw_data, columns=['X','Y'])\n",
    "print( type(data) )\n",
    "print(data)"
   ]
  },
  {
   "cell_type": "code",
   "execution_count": 72,
   "metadata": {
    "collapsed": false,
    "deletable": true,
    "editable": true
   },
   "outputs": [
    {
     "name": "stdout",
     "output_type": "stream",
     "text": [
      "╒══════════╤══════╕\n",
      "│ ['X', 0] │ 0.59 │\n",
      "├──────────┼──────┤\n",
      "│ ['X', 1] │ 0.41 │\n",
      "╘══════════╧══════╛\n",
      "╒══════════╤═════════════════════╤════════════════════╕\n",
      "│ X        │ ['X', '0']          │ ['X', '1']         │\n",
      "├──────────┼─────────────────────┼────────────────────┤\n",
      "│ ['Y', 0] │ 0.43902439024390244 │ 0.4067796610169492 │\n",
      "├──────────┼─────────────────────┼────────────────────┤\n",
      "│ ['Y', 1] │ 0.5609756097560976  │ 0.5932203389830508 │\n",
      "╘══════════╧═════════════════════╧════════════════════╛\n"
     ]
    }
   ],
   "source": [
    "# Two coin tossing model assuming they are independent\n",
    "coin_model = BayesianModel( [('X','Y')])\n",
    "coin_model.fit(data, estimator=MaximumLikelihoodEstimator)\n",
    "cpd_x = coin_model.get_cpds('X')\n",
    "print(cpd_x)\n",
    "cpd_y = coin_model.get_cpds('Y')\n",
    "print(cpd_y)"
   ]
  },
  {
   "cell_type": "code",
   "execution_count": 73,
   "metadata": {
    "collapsed": false,
    "deletable": true,
    "editable": true
   },
   "outputs": [
    {
     "data": {
      "text/plain": [
       "[<TabularCPD representing P(L:2 | G:2, J:2) at 0x111036550>,\n",
       " <TabularCPD representing P(A:2) at 0x111036518>,\n",
       " <TabularCPD representing P(R:2) at 0x111036588>,\n",
       " <TabularCPD representing P(Q:2 | J:2) at 0x1110362e8>,\n",
       " <TabularCPD representing P(G:2) at 0x111036630>,\n",
       " <TabularCPD representing P(J:2 | A:2, R:2) at 0x111035518>]"
      ]
     },
     "execution_count": 73,
     "metadata": {},
     "output_type": "execute_result"
    }
   ],
   "source": [
    "# late for school model\n",
    "\n",
    "raw_data = np.random.randint(low=0, high=2, size=(100, 6))\n",
    "data = pd.DataFrame(raw_data, columns=['A', 'R', 'J', 'G', 'L', 'Q'])\n",
    "student_model = BayesianModel([('A', 'J'), ('R', 'J'), ('J', 'Q'), ('J', 'L'), ('G', 'L')])\n",
    "student_model.fit(data, estimator=MaximumLikelihoodEstimator)\n",
    "student_model.get_cpds()"
   ]
  },
  {
   "cell_type": "code",
   "execution_count": 74,
   "metadata": {
    "collapsed": false,
    "deletable": true,
    "editable": true
   },
   "outputs": [
    {
     "name": "stdout",
     "output_type": "stream",
     "text": [
      "[[1 0 0 0 1 0]\n",
      " [0 1 0 0 0 0]\n",
      " [1 0 1 1 1 1]\n",
      " ..., \n",
      " [0 1 0 0 1 0]\n",
      " [0 1 1 0 1 0]\n",
      " [0 1 1 1 0 1]]\n"
     ]
    }
   ],
   "source": [
    "# Bayesian approach for late for school model\n",
    "from pgmpy.estimators import BayesianEstimator\n",
    "\n",
    "# Generating some random data\n",
    "raw_data = np.random.randint(low=0, high=2, size=(1000, 6))\n",
    "print(raw_data)"
   ]
  },
  {
   "cell_type": "code",
   "execution_count": 89,
   "metadata": {
    "collapsed": false,
    "deletable": true,
    "editable": true
   },
   "outputs": [
    {
     "ename": "ValueError",
     "evalue": "Shape of passed values is (2, 1000), indices imply (6, 1000)",
     "output_type": "error",
     "traceback": [
      "\u001b[0;31m---------------------------------------------------------------------------\u001b[0m",
      "\u001b[0;31mValueError\u001b[0m                                Traceback (most recent call last)",
      "\u001b[0;32m/Applications/anaconda/envs/py35/lib/python3.5/site-packages/pandas/core/internals.py\u001b[0m in \u001b[0;36mcreate_block_manager_from_blocks\u001b[0;34m(blocks, axes)\u001b[0m\n\u001b[1;32m   3983\u001b[0m                 blocks = [make_block(values=blocks[0],\n\u001b[0;32m-> 3984\u001b[0;31m                                      placement=slice(0, len(axes[0])))]\n\u001b[0m\u001b[1;32m   3985\u001b[0m \u001b[0;34m\u001b[0m\u001b[0m\n",
      "\u001b[0;32m/Applications/anaconda/envs/py35/lib/python3.5/site-packages/pandas/core/internals.py\u001b[0m in \u001b[0;36mmake_block\u001b[0;34m(values, placement, klass, ndim, dtype, fastpath)\u001b[0m\n\u001b[1;32m   2517\u001b[0m \u001b[0;34m\u001b[0m\u001b[0m\n\u001b[0;32m-> 2518\u001b[0;31m     \u001b[0;32mreturn\u001b[0m \u001b[0mklass\u001b[0m\u001b[0;34m(\u001b[0m\u001b[0mvalues\u001b[0m\u001b[0;34m,\u001b[0m \u001b[0mndim\u001b[0m\u001b[0;34m=\u001b[0m\u001b[0mndim\u001b[0m\u001b[0;34m,\u001b[0m \u001b[0mfastpath\u001b[0m\u001b[0;34m=\u001b[0m\u001b[0mfastpath\u001b[0m\u001b[0;34m,\u001b[0m \u001b[0mplacement\u001b[0m\u001b[0;34m=\u001b[0m\u001b[0mplacement\u001b[0m\u001b[0;34m)\u001b[0m\u001b[0;34m\u001b[0m\u001b[0m\n\u001b[0m\u001b[1;32m   2519\u001b[0m \u001b[0;34m\u001b[0m\u001b[0m\n",
      "\u001b[0;32m/Applications/anaconda/envs/py35/lib/python3.5/site-packages/pandas/core/internals.py\u001b[0m in \u001b[0;36m__init__\u001b[0;34m(self, values, placement, ndim, fastpath)\u001b[0m\n\u001b[1;32m     89\u001b[0m                              'implies %d' % (len(self.values),\n\u001b[0;32m---> 90\u001b[0;31m                                              len(self.mgr_locs)))\n\u001b[0m\u001b[1;32m     91\u001b[0m \u001b[0;34m\u001b[0m\u001b[0m\n",
      "\u001b[0;31mValueError\u001b[0m: Wrong number of items passed 2, placement implies 6",
      "\nDuring handling of the above exception, another exception occurred:\n",
      "\u001b[0;31mValueError\u001b[0m                                Traceback (most recent call last)",
      "\u001b[0;32m<ipython-input-89-aaa7971d1402>\u001b[0m in \u001b[0;36m<module>\u001b[0;34m()\u001b[0m\n\u001b[0;32m----> 1\u001b[0;31m \u001b[0mdata\u001b[0m \u001b[0;34m=\u001b[0m \u001b[0mpd\u001b[0m\u001b[0;34m.\u001b[0m\u001b[0mDataFrame\u001b[0m\u001b[0;34m(\u001b[0m\u001b[0mraw_data\u001b[0m\u001b[0;34m,\u001b[0m \u001b[0mcolumns\u001b[0m\u001b[0;34m=\u001b[0m\u001b[0;34m[\u001b[0m\u001b[0;34m'A'\u001b[0m\u001b[0;34m,\u001b[0m \u001b[0;34m'R'\u001b[0m\u001b[0;34m,\u001b[0m \u001b[0;34m'J'\u001b[0m\u001b[0;34m,\u001b[0m \u001b[0;34m'G'\u001b[0m\u001b[0;34m,\u001b[0m \u001b[0;34m'L'\u001b[0m\u001b[0;34m,\u001b[0m \u001b[0;34m'Q'\u001b[0m\u001b[0;34m]\u001b[0m\u001b[0;34m)\u001b[0m\u001b[0;34m\u001b[0m\u001b[0m\n\u001b[0m\u001b[1;32m      2\u001b[0m \u001b[0mstudent_model\u001b[0m \u001b[0;34m=\u001b[0m \u001b[0mBayesianModel\u001b[0m\u001b[0;34m(\u001b[0m\u001b[0;34m[\u001b[0m\u001b[0;34m(\u001b[0m\u001b[0;34m'A'\u001b[0m\u001b[0;34m,\u001b[0m \u001b[0;34m'J'\u001b[0m\u001b[0;34m)\u001b[0m\u001b[0;34m,\u001b[0m \u001b[0;34m(\u001b[0m\u001b[0;34m'R'\u001b[0m\u001b[0;34m,\u001b[0m \u001b[0;34m'J'\u001b[0m\u001b[0;34m)\u001b[0m\u001b[0;34m,\u001b[0m \u001b[0;34m(\u001b[0m\u001b[0;34m'J'\u001b[0m\u001b[0;34m,\u001b[0m \u001b[0;34m'Q'\u001b[0m\u001b[0;34m)\u001b[0m\u001b[0;34m,\u001b[0m \u001b[0;34m(\u001b[0m\u001b[0;34m'J'\u001b[0m\u001b[0;34m,\u001b[0m \u001b[0;34m'L'\u001b[0m\u001b[0;34m)\u001b[0m\u001b[0;34m,\u001b[0m \u001b[0;34m(\u001b[0m\u001b[0;34m'G'\u001b[0m\u001b[0;34m,\u001b[0m \u001b[0;34m'L'\u001b[0m\u001b[0;34m)\u001b[0m\u001b[0;34m]\u001b[0m\u001b[0;34m)\u001b[0m\u001b[0;34m\u001b[0m\u001b[0m\n\u001b[1;32m      3\u001b[0m \u001b[0mstudent_model\u001b[0m\u001b[0;34m.\u001b[0m\u001b[0mfit\u001b[0m\u001b[0;34m(\u001b[0m\u001b[0mdata\u001b[0m\u001b[0;34m,\u001b[0m \u001b[0mestimator\u001b[0m\u001b[0;34m=\u001b[0m\u001b[0mBayesianEstimator\u001b[0m\u001b[0;34m)\u001b[0m\u001b[0;34m\u001b[0m\u001b[0m\n\u001b[1;32m      4\u001b[0m \u001b[0mprint\u001b[0m\u001b[0;34m(\u001b[0m \u001b[0mstudent_model\u001b[0m\u001b[0;34m.\u001b[0m\u001b[0mget_cpds\u001b[0m\u001b[0;34m(\u001b[0m\u001b[0;34m)\u001b[0m \u001b[0;34m)\u001b[0m\u001b[0;34m\u001b[0m\u001b[0m\n\u001b[1;32m      5\u001b[0m \u001b[0;34m\u001b[0m\u001b[0m\n",
      "\u001b[0;32m/Applications/anaconda/envs/py35/lib/python3.5/site-packages/pandas/core/frame.py\u001b[0m in \u001b[0;36m__init__\u001b[0;34m(self, data, index, columns, dtype, copy)\u001b[0m\n\u001b[1;32m    253\u001b[0m             \u001b[0;32melse\u001b[0m\u001b[0;34m:\u001b[0m\u001b[0;34m\u001b[0m\u001b[0m\n\u001b[1;32m    254\u001b[0m                 mgr = self._init_ndarray(data, index, columns, dtype=dtype,\n\u001b[0;32m--> 255\u001b[0;31m                                          copy=copy)\n\u001b[0m\u001b[1;32m    256\u001b[0m         \u001b[0;32melif\u001b[0m \u001b[0misinstance\u001b[0m\u001b[0;34m(\u001b[0m\u001b[0mdata\u001b[0m\u001b[0;34m,\u001b[0m \u001b[0;34m(\u001b[0m\u001b[0mlist\u001b[0m\u001b[0;34m,\u001b[0m \u001b[0mtypes\u001b[0m\u001b[0;34m.\u001b[0m\u001b[0mGeneratorType\u001b[0m\u001b[0;34m)\u001b[0m\u001b[0;34m)\u001b[0m\u001b[0;34m:\u001b[0m\u001b[0;34m\u001b[0m\u001b[0m\n\u001b[1;32m    257\u001b[0m             \u001b[0;32mif\u001b[0m \u001b[0misinstance\u001b[0m\u001b[0;34m(\u001b[0m\u001b[0mdata\u001b[0m\u001b[0;34m,\u001b[0m \u001b[0mtypes\u001b[0m\u001b[0;34m.\u001b[0m\u001b[0mGeneratorType\u001b[0m\u001b[0;34m)\u001b[0m\u001b[0;34m:\u001b[0m\u001b[0;34m\u001b[0m\u001b[0m\n",
      "\u001b[0;32m/Applications/anaconda/envs/py35/lib/python3.5/site-packages/pandas/core/frame.py\u001b[0m in \u001b[0;36m_init_ndarray\u001b[0;34m(self, values, index, columns, dtype, copy)\u001b[0m\n\u001b[1;32m    430\u001b[0m             \u001b[0mvalues\u001b[0m \u001b[0;34m=\u001b[0m \u001b[0m_possibly_infer_to_datetimelike\u001b[0m\u001b[0;34m(\u001b[0m\u001b[0mvalues\u001b[0m\u001b[0;34m)\u001b[0m\u001b[0;34m\u001b[0m\u001b[0m\n\u001b[1;32m    431\u001b[0m \u001b[0;34m\u001b[0m\u001b[0m\n\u001b[0;32m--> 432\u001b[0;31m         \u001b[0;32mreturn\u001b[0m \u001b[0mcreate_block_manager_from_blocks\u001b[0m\u001b[0;34m(\u001b[0m\u001b[0;34m[\u001b[0m\u001b[0mvalues\u001b[0m\u001b[0;34m]\u001b[0m\u001b[0;34m,\u001b[0m \u001b[0;34m[\u001b[0m\u001b[0mcolumns\u001b[0m\u001b[0;34m,\u001b[0m \u001b[0mindex\u001b[0m\u001b[0;34m]\u001b[0m\u001b[0;34m)\u001b[0m\u001b[0;34m\u001b[0m\u001b[0m\n\u001b[0m\u001b[1;32m    433\u001b[0m \u001b[0;34m\u001b[0m\u001b[0m\n\u001b[1;32m    434\u001b[0m     \u001b[0;34m@\u001b[0m\u001b[0mproperty\u001b[0m\u001b[0;34m\u001b[0m\u001b[0m\n",
      "\u001b[0;32m/Applications/anaconda/envs/py35/lib/python3.5/site-packages/pandas/core/internals.py\u001b[0m in \u001b[0;36mcreate_block_manager_from_blocks\u001b[0;34m(blocks, axes)\u001b[0m\n\u001b[1;32m   3991\u001b[0m         \u001b[0mblocks\u001b[0m \u001b[0;34m=\u001b[0m \u001b[0;34m[\u001b[0m\u001b[0mgetattr\u001b[0m\u001b[0;34m(\u001b[0m\u001b[0mb\u001b[0m\u001b[0;34m,\u001b[0m \u001b[0;34m'values'\u001b[0m\u001b[0;34m,\u001b[0m \u001b[0mb\u001b[0m\u001b[0;34m)\u001b[0m \u001b[0;32mfor\u001b[0m \u001b[0mb\u001b[0m \u001b[0;32min\u001b[0m \u001b[0mblocks\u001b[0m\u001b[0;34m]\u001b[0m\u001b[0;34m\u001b[0m\u001b[0m\n\u001b[1;32m   3992\u001b[0m         \u001b[0mtot_items\u001b[0m \u001b[0;34m=\u001b[0m \u001b[0msum\u001b[0m\u001b[0;34m(\u001b[0m\u001b[0mb\u001b[0m\u001b[0;34m.\u001b[0m\u001b[0mshape\u001b[0m\u001b[0;34m[\u001b[0m\u001b[0;36m0\u001b[0m\u001b[0;34m]\u001b[0m \u001b[0;32mfor\u001b[0m \u001b[0mb\u001b[0m \u001b[0;32min\u001b[0m \u001b[0mblocks\u001b[0m\u001b[0;34m)\u001b[0m\u001b[0;34m\u001b[0m\u001b[0m\n\u001b[0;32m-> 3993\u001b[0;31m         \u001b[0mconstruction_error\u001b[0m\u001b[0;34m(\u001b[0m\u001b[0mtot_items\u001b[0m\u001b[0;34m,\u001b[0m \u001b[0mblocks\u001b[0m\u001b[0;34m[\u001b[0m\u001b[0;36m0\u001b[0m\u001b[0;34m]\u001b[0m\u001b[0;34m.\u001b[0m\u001b[0mshape\u001b[0m\u001b[0;34m[\u001b[0m\u001b[0;36m1\u001b[0m\u001b[0;34m:\u001b[0m\u001b[0;34m]\u001b[0m\u001b[0;34m,\u001b[0m \u001b[0maxes\u001b[0m\u001b[0;34m,\u001b[0m \u001b[0me\u001b[0m\u001b[0;34m)\u001b[0m\u001b[0;34m\u001b[0m\u001b[0m\n\u001b[0m\u001b[1;32m   3994\u001b[0m \u001b[0;34m\u001b[0m\u001b[0m\n\u001b[1;32m   3995\u001b[0m \u001b[0;34m\u001b[0m\u001b[0m\n",
      "\u001b[0;32m/Applications/anaconda/envs/py35/lib/python3.5/site-packages/pandas/core/internals.py\u001b[0m in \u001b[0;36mconstruction_error\u001b[0;34m(tot_items, block_shape, axes, e)\u001b[0m\n\u001b[1;32m   3968\u001b[0m         \u001b[0;32mraise\u001b[0m \u001b[0mValueError\u001b[0m\u001b[0;34m(\u001b[0m\u001b[0;34m\"Empty data passed with indices specified.\"\u001b[0m\u001b[0;34m)\u001b[0m\u001b[0;34m\u001b[0m\u001b[0m\n\u001b[1;32m   3969\u001b[0m     raise ValueError(\"Shape of passed values is {0}, indices imply {1}\".format(\n\u001b[0;32m-> 3970\u001b[0;31m         passed, implied))\n\u001b[0m\u001b[1;32m   3971\u001b[0m \u001b[0;34m\u001b[0m\u001b[0m\n\u001b[1;32m   3972\u001b[0m \u001b[0;34m\u001b[0m\u001b[0m\n",
      "\u001b[0;31mValueError\u001b[0m: Shape of passed values is (2, 1000), indices imply (6, 1000)"
     ]
    }
   ],
   "source": [
    "data = pd.DataFrame(raw_data, columns=['A', 'R', 'J', 'G', 'L', 'Q'])\n",
    "student_model = BayesianModel([('A', 'J'), ('R', 'J'), ('J', 'Q'), ('J', 'L'), ('G', 'L')])\n",
    "student_model.fit(data, estimator=BayesianEstimator)\n",
    "print( student_model.get_cpds() )\n",
    "\n",
    "print(student_model.get_cpds('A'))\n",
    "\n",
    "print(student_model.get_independencies())\n",
    "\n",
    "print(student_model.nodes())\n",
    "\n",
    "print(student_model.edges())"
   ]
  },
  {
   "cell_type": "markdown",
   "metadata": {
    "deletable": true,
    "editable": true
   },
   "source": [
    "#### Learning model structure"
   ]
  },
  {
   "cell_type": "code",
   "execution_count": 94,
   "metadata": {
    "collapsed": false,
    "deletable": true,
    "editable": true
   },
   "outputs": [
    {
     "name": "stdout",
     "output_type": "stream",
     "text": [
      "[<TabularCPD representing P(Y:2 | X:2) at 0x111067898>, <TabularCPD representing P(X:2) at 0x1110676d8>]\n",
      "╒══════════╤═══════╕\n",
      "│ ['X', 0] │ 0.522 │\n",
      "├──────────┼───────┤\n",
      "│ ['X', 1] │ 0.478 │\n",
      "╘══════════╧═══════╛\n",
      "╒══════════╤════════════════════╤════════════════════╕\n",
      "│ X        │ ['X', '0']         │ ['X', '1']         │\n",
      "├──────────┼────────────────────┼────────────────────┤\n",
      "│ ['Y', 0] │ 0.4827586206896552 │ 0.5209205020920502 │\n",
      "├──────────┼────────────────────┼────────────────────┤\n",
      "│ ['Y', 1] │ 0.5172413793103449 │ 0.4790794979079498 │\n",
      "╘══════════╧════════════════════╧════════════════════╛\n",
      "['Y', 'X']\n",
      "[('X', 'Y')]\n"
     ]
    }
   ],
   "source": [
    "import numpy as np\n",
    "import pandas as pd\n",
    "from pgmpy.models import BayesianModel\n",
    "from pgmpy.estimators import MaximumLikelihoodEstimator\n",
    "\n",
    "# Generating random data\n",
    "raw_data = np.random.randint(low=0, high=2, size=(1000, 2))\n",
    "data = pd.DataFrame(raw_data, columns=['X', 'Y'])\n",
    "coin_model = BayesianModel()\n",
    "coin_model.fit(data, estimator=MaximumLikelihoodEstimator)\n",
    "\n",
    "print(coin_model.get_cpds())\n",
    "\n",
    "print(coin_model.get_cpds('X'))\n",
    "print(coin_model.get_cpds('Y'))\n",
    "\n",
    "print(coin_model.nodes())\n",
    "\n",
    "print(coin_model.edges())"
   ]
  },
  {
   "cell_type": "code",
   "execution_count": 95,
   "metadata": {
    "collapsed": false,
    "deletable": true,
    "editable": true
   },
   "outputs": [
    {
     "name": "stdout",
     "output_type": "stream",
     "text": [
      "[<TabularCPD representing P(Z:2 | Y:2, X:2) at 0x11106e710>, <TabularCPD representing P(Y:2 | X:2) at 0x11106e550>, <TabularCPD representing P(X:2) at 0x11106e668>]\n",
      "╒══════════╤═══════╕\n",
      "│ ['X', 0] │ 0.536 │\n",
      "├──────────┼───────┤\n",
      "│ ['X', 1] │ 0.464 │\n",
      "╘══════════╧═══════╛\n",
      "╒══════════╤════════════════════╤════════════════════╕\n",
      "│ X        │ ['X', '0']         │ ['X', '1']         │\n",
      "├──────────┼────────────────────┼────────────────────┤\n",
      "│ ['Y', 0] │ 0.5323275862068966 │ 0.4832089552238806 │\n",
      "├──────────┼────────────────────┼────────────────────┤\n",
      "│ ['Y', 1] │ 0.4676724137931034 │ 0.5167910447761194 │\n",
      "╘══════════╧════════════════════╧════════════════════╛\n",
      "╒══════════╤════════════════════╤═════════════════════╤════════════════════╤═════════════════════╕\n",
      "│ X        │ ['X', '0']         │ ['X', '0']          │ ['X', '1']         │ ['X', '1']          │\n",
      "├──────────┼────────────────────┼─────────────────────┼────────────────────┼─────────────────────┤\n",
      "│ Y        │ ['Y', '0']         │ ['Y', '1']          │ ['Y', '0']         │ ['Y', '1']          │\n",
      "├──────────┼────────────────────┼─────────────────────┼────────────────────┼─────────────────────┤\n",
      "│ ['Z', 0] │ 0.5222672064777328 │ 0.47104247104247104 │ 0.5299539170506913 │ 0.48375451263537905 │\n",
      "├──────────┼────────────────────┼─────────────────────┼────────────────────┼─────────────────────┤\n",
      "│ ['Z', 1] │ 0.4777327935222672 │ 0.528957528957529   │ 0.4700460829493088 │ 0.516245487364621   │\n",
      "╘══════════╧════════════════════╧═════════════════════╧════════════════════╧═════════════════════╛\n",
      "['Z', 'Y', 'X']\n",
      "[('Y', 'Z'), ('X', 'Z'), ('X', 'Y')]\n"
     ]
    }
   ],
   "source": [
    "import numpy as np\n",
    "import pandas as pd\n",
    "from pgmpy.models import BayesianModel\n",
    "from pgmpy.estimators import MaximumLikelihoodEstimator\n",
    "\n",
    "# Generating random data\n",
    "raw_data = np.random.randint(low=0, high=2, size=(1000, 3))\n",
    "data = pd.DataFrame(raw_data, columns=['X', 'Y', 'Z'])\n",
    "coin_model = BayesianModel()\n",
    "coin_model.fit(data, estimator=MaximumLikelihoodEstimator)\n",
    "\n",
    "print(coin_model.get_cpds())\n",
    "\n",
    "print(coin_model.get_cpds('X'))\n",
    "print(coin_model.get_cpds('Y'))\n",
    "print(coin_model.get_cpds('Z'))\n",
    "\n",
    "print(coin_model.nodes())\n",
    "\n",
    "print(coin_model.edges())"
   ]
  },
  {
   "cell_type": "markdown",
   "metadata": {
    "deletable": true,
    "editable": true
   },
   "source": [
    "#### Bayesian score"
   ]
  },
  {
   "cell_type": "code",
   "execution_count": 98,
   "metadata": {
    "collapsed": false,
    "deletable": true,
    "editable": true
   },
   "outputs": [
    {
     "name": "stdout",
     "output_type": "stream",
     "text": [
      "[<TabularCPD representing P(Z:2 | Y:2, X:2) at 0x11106eb70>, <TabularCPD representing P(Y:2 | X:2) at 0x11106ea20>, <TabularCPD representing P(X:2) at 0x11106ea58>]\n",
      "╒══════════╤══════╕\n",
      "│ ['X', 0] │ 0.53 │\n",
      "├──────────┼──────┤\n",
      "│ ['X', 1] │ 0.47 │\n",
      "╘══════════╧══════╛\n",
      "╒══════════╤════════════════════╤═════════════════════╕\n",
      "│ X        │ ['X', '0']         │ ['X', '1']          │\n",
      "├──────────┼────────────────────┼─────────────────────┤\n",
      "│ ['Y', 0] │ 0.5042553191489362 │ 0.5264150943396226  │\n",
      "├──────────┼────────────────────┼─────────────────────┤\n",
      "│ ['Y', 1] │ 0.4957446808510638 │ 0.47358490566037736 │\n",
      "╘══════════╧════════════════════╧═════════════════════╛\n",
      "╒══════════╤═════════════════════╤════════════════════╤═════════════════════╤═════════════════════╕\n",
      "│ X        │ ['X', '0']          │ ['X', '0']         │ ['X', '1']          │ ['X', '1']          │\n",
      "├──────────┼─────────────────────┼────────────────────┼─────────────────────┼─────────────────────┤\n",
      "│ Y        │ ['Y', '0']          │ ['Y', '1']         │ ['Y', '0']          │ ['Y', '1']          │\n",
      "├──────────┼─────────────────────┼────────────────────┼─────────────────────┼─────────────────────┤\n",
      "│ ['Z', 0] │ 0.5147679324894515  │ 0.4659498207885305 │ 0.5579399141630901  │ 0.5378486055776892  │\n",
      "├──────────┼─────────────────────┼────────────────────┼─────────────────────┼─────────────────────┤\n",
      "│ ['Z', 1] │ 0.48523206751054854 │ 0.5340501792114696 │ 0.44206008583690987 │ 0.46215139442231074 │\n",
      "╘══════════╧═════════════════════╧════════════════════╧═════════════════════╧═════════════════════╛\n",
      "['Z', 'Y', 'X']\n",
      "[('Y', 'Z'), ('X', 'Z'), ('X', 'Y')]\n"
     ]
    }
   ],
   "source": [
    "# Generating random data\n",
    "raw_data = np.random.randint(low=0, high=2, size=(1000, 3))\n",
    "data = pd.DataFrame(raw_data, columns=['X', 'Y', 'Z'])\n",
    "coin_model = BayesianModel()\n",
    "coin_model.fit(data, estimator=MaximumLikelihoodEstimator)\n",
    "\n",
    "print(coin_model.get_cpds())\n",
    "\n",
    "print(coin_model.get_cpds('X'))\n",
    "print(coin_model.get_cpds('Y'))\n",
    "print(coin_model.get_cpds('Z'))\n",
    "\n",
    "print(coin_model.nodes())\n",
    "\n",
    "print(coin_model.edges())"
   ]
  },
  {
   "cell_type": "code",
   "execution_count": 99,
   "metadata": {
    "collapsed": false,
    "deletable": true,
    "editable": true
   },
   "outputs": [
    {
     "data": {
      "text/plain": [
       "[<TabularCPD representing P(L:2 | A:2, J:2, R:2, G:2) at 0x110708cc0>,\n",
       " <TabularCPD representing P(A:2) at 0x102687d68>,\n",
       " <TabularCPD representing P(Q:2 | L:2, A:2, J:2, R:2, G:2) at 0x110771198>,\n",
       " <TabularCPD representing P(R:2 | A:2) at 0x110525748>,\n",
       " <TabularCPD representing P(G:2 | A:2, R:2, J:2) at 0x110525cf8>,\n",
       " <TabularCPD representing P(J:2 | A:2, R:2) at 0x1105257b8>]"
      ]
     },
     "execution_count": 99,
     "metadata": {},
     "output_type": "execute_result"
    }
   ],
   "source": [
    "# late for school model\n",
    "raw_data = np.random.randint(low=0, high=2, size=(1000, 6))\n",
    "data = pd.DataFrame(raw_data, columns=['A', 'R', 'J', 'G', 'L', 'Q'])\n",
    "#student_model = BayesianModel([('A', 'J'), ('R', 'J'), ('J', 'Q'), ('J', 'L'), ('G', 'L')])\n",
    "student_model = BayesianModel()\n",
    "student_model.fit(data, estimator=BayesianEstimator)\n",
    "student_model.get_cpds()"
   ]
  },
  {
   "cell_type": "code",
   "execution_count": 100,
   "metadata": {
    "collapsed": false,
    "deletable": true,
    "editable": true
   },
   "outputs": [
    {
     "data": {
      "text/plain": [
       "['L', 'A', 'Q', 'R', 'G', 'J']"
      ]
     },
     "execution_count": 100,
     "metadata": {},
     "output_type": "execute_result"
    }
   ],
   "source": [
    "student_model.nodes()"
   ]
  },
  {
   "cell_type": "code",
   "execution_count": 101,
   "metadata": {
    "collapsed": false,
    "deletable": true,
    "editable": true
   },
   "outputs": [
    {
     "data": {
      "text/plain": [
       "[('L', 'Q'),\n",
       " ('A', 'L'),\n",
       " ('A', 'G'),\n",
       " ('A', 'J'),\n",
       " ('A', 'R'),\n",
       " ('A', 'Q'),\n",
       " ('R', 'L'),\n",
       " ('R', 'G'),\n",
       " ('R', 'J'),\n",
       " ('R', 'Q'),\n",
       " ('G', 'L'),\n",
       " ('G', 'Q'),\n",
       " ('J', 'L'),\n",
       " ('J', 'G'),\n",
       " ('J', 'Q')]"
      ]
     },
     "execution_count": 101,
     "metadata": {},
     "output_type": "execute_result"
    }
   ],
   "source": [
    "student_model.edges()"
   ]
  },
  {
   "cell_type": "code",
   "execution_count": null,
   "metadata": {
    "collapsed": true,
    "deletable": true,
    "editable": true
   },
   "outputs": [],
   "source": []
  }
 ],
 "metadata": {
  "kernelspec": {
   "display_name": "Python 3",
   "language": "python",
   "name": "python3"
  },
  "language_info": {
   "codemirror_mode": {
    "name": "ipython",
    "version": 3
   },
   "file_extension": ".py",
   "mimetype": "text/x-python",
   "name": "python",
   "nbconvert_exporter": "python",
   "pygments_lexer": "ipython3",
   "version": "3.5.1"
  }
 },
 "nbformat": 4,
 "nbformat_minor": 0
}
